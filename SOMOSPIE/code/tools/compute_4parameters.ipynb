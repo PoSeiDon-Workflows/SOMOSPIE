{
 "cells": [
  {
   "attachments": {},
   "cell_type": "markdown",
   "metadata": {},
   "source": [
    "# Computing terrain parameters from Digital Elevation Model\n",
    "\n",
    "Topographic parameters such as slope and aspect can be computed from a Digital Elevation Model (DEM) which is a representation of elevation data of the surface of the earth. In SOMOSPIE these terrrain parameters are used to downscale satellite-derived soil moisture data.\n",
    "\n",
    "This notebook uses DEMs from [USGS 3DEP products](https://www.usgs.gov/3d-elevation-program/about-3dep-products-services) to compute 3 topographic parameters: Hillshading, Aspect and Slope.\n",
    "\n",
    "\n",
    "The data from USGS standard DEMs is distributed in tiles that cover a fixed geographic area and these tiles can be merged to build a DEM for a larger region. \n",
    "\n",
    "<p align=\"center\">\n",
    "<img src=\"../../../somospie_pngs/tiles_to_mosaic.png\" width=\"500\"/>\n",
    "</p>\n",
    "\n",
    "<p align=\"center\">\n",
    "<b>Figure 1: </b>Merge multiple tiles into a mosaic.\n",
    "</p>\n",
    "\n",
    "Before running the workflow on this notebook, go to [USGS Data Download Application](https://apps.nationalmap.gov/downloader/#/elevation) and use the map to look for available DEM data. Once you have selected a specific region and resolution, you can get a txt file with all the individual download links for the tiles corresponding to your selection. This txt file will serve as input to this notebook which uses the links to download the tiles and merges them into a single DEM file to then compute terrain parameters using GDAL.\n",
    "\n",
    "The terrain parameters are by default generated as GeoTIFF files, so this notebook includes the option to change their format and stack them if needed."
   ]
  },
  {
   "attachments": {},
   "cell_type": "markdown",
   "metadata": {},
   "source": [
    "## Environment setup\n",
    "Run the following code boxes to set the working directories and packages necessary for this workflow."
   ]
  },
  {
   "cell_type": "code",
   "execution_count": null,
   "metadata": {},
   "outputs": [],
   "source": [
    "from tools import *"
   ]
  },
  {
   "attachments": {},
   "cell_type": "markdown",
   "metadata": {},
   "source": [
    "In the code cell bellow specify the inputs to the workflow:\n",
    "* **in_file:** path to the txt file with download links for DEM tiles you wish to use.\n",
    "* **out_folder:** path to the folder you want the terrain parameters to be stored.\n",
    "* **projection:** The projection can be an identifier such as 'EPSG:3572' or the path to a wkt file. To compute terrain parameters correctly, the DEM must be in a projection whose x, y and z coordinates are expressed in the same units, Albers Equal Area USGS projection was used for CONUS, but you can modify it depending on the region you are analyzing."
   ]
  },
  {
   "cell_type": "code",
   "execution_count": null,
   "metadata": {},
   "outputs": [],
   "source": [
    "in_file = './data.txt'\n",
    "out_folder = '/media/volume/sdb/'\n",
    "projection = 'albers_conus_reference.wkt'"
   ]
  },
  {
   "cell_type": "code",
   "execution_count": null,
   "metadata": {},
   "outputs": [],
   "source": [
    "tiles_folder = os.path.join(out_folder, 'tiles')\n",
    "Path(out_folder).mkdir(parents=True, exist_ok=True)\n",
    "Path(tiles_folder).mkdir(parents=True, exist_ok=True)"
   ]
  },
  {
   "attachments": {},
   "cell_type": "markdown",
   "metadata": {},
   "source": [
    "## 1. Download DEM tiles\n",
    "Downloads each tile from the URLs listed in input txt file and store them in the specified output folder on a subdirectory named tiles."
   ]
  },
  {
   "cell_type": "code",
   "execution_count": null,
   "metadata": {},
   "outputs": [],
   "source": [
    "print('Downloading tiles...')\n",
    "download_dem(in_file, tiles_folder)\n",
    "print('Download completed.')"
   ]
  },
  {
   "attachments": {},
   "cell_type": "markdown",
   "metadata": {},
   "source": [
    "## 2. Merge all DEM tiles in a single file\n",
    "Merges downloaded tiles into a single raster (mosaic)."
   ]
  },
  {
   "cell_type": "code",
   "execution_count": null,
   "metadata": {
    "scrolled": true
   },
   "outputs": [],
   "source": [
    "raster_list = glob.glob(tiles_folder + '/*')\n",
    "mosaic_path = os.path.join(out_folder, 'mosaic.tif')\n",
    "\n",
    "merge_tiles(raster_list, mosaic_path)\n",
    "\n",
    "# Optional: delete all tiles after building mosaic\n",
    "shutil.rmtree(tiles_folder)"
   ]
  },
  {
   "attachments": {},
   "cell_type": "markdown",
   "metadata": {},
   "source": [
    "## 4. Reproject mosaic\n",
    "To compute terrain parameters correctly, the DEM must be in a projection whose x, y and z coordinates are expressed in the same units. The next code cell reprojects the mosaic to ensure coordinates and elevation values are in meters (Albers Equal Area USGS projection was used for CONUS, but you can modify it depending on the region you are analyzing).\n",
    "\n",
    "The projection can be an identifier such as 'EPSG:3572' or the path to a wkt file."
   ]
  },
  {
   "cell_type": "code",
   "execution_count": null,
   "metadata": {},
   "outputs": [],
   "source": [
    "dem_path = os.path.join(out_folder, 'elevation.tif')\n",
    "reproject(mosaic_path, dem_path, projection)\n",
    "\n",
    "# Optional: delete mosaic with initial projection\n",
    "os.remove(mosaic_path)"
   ]
  },
  {
   "attachments": {},
   "cell_type": "markdown",
   "metadata": {},
   "source": [
    "## 5. Compute terrain parameters\n",
    "\n",
    "GDAL is used to compute 3 terrain parameters: Hillshading, Aspect and Slope, from the DEM."
   ]
  },
  {
   "cell_type": "code",
   "execution_count": null,
   "metadata": {},
   "outputs": [],
   "source": [
    "compute_params_concurrently(out_folder, parameters=['slope', 'aspect', 'hillshading'])"
   ]
  },
  {
   "attachments": {},
   "cell_type": "markdown",
   "metadata": {},
   "source": [
    "## 6. Change raster format and projection (optional)\n",
    "Terrain parameters will be stored by default in GeoTIFF format, run the following cells if you wish to get them in a different format.\n",
    "\n",
    "Change the format and extension to the one you wish the files to be converted to in the next code cell. Go to [GDAL raster drivers](https://gdal.org/drivers/raster/index.html) to check which formats are available."
   ]
  },
  {
   "cell_type": "code",
   "execution_count": null,
   "metadata": {},
   "outputs": [],
   "source": [
    "raster_format = 'GTiff'\n",
    "extension = '.tif'\n",
    "projection = 'EPSG:4326'"
   ]
  },
  {
   "cell_type": "code",
   "execution_count": null,
   "metadata": {},
   "outputs": [],
   "source": [
    "param_files = sorted(glob.glob(os.path.join(out_folder, '*.tif')))\n",
    "\n",
    "for f in param_files:\n",
    "    change_raster_format(f,  f[0:-4]+extension, raster_format)\n",
    "    os.remove(f) # Optional: delete parameters with initial format"
   ]
  },
  {
   "cell_type": "code",
   "execution_count": null,
   "metadata": {},
   "outputs": [],
   "source": [
    "param_files = sorted(glob.glob(os.path.join(out_folder, '*' + extension)))\n",
    "\n",
    "for f in param_files:\n",
    "    reproject(f, f, projection)"
   ]
  },
  {
   "attachments": {},
   "cell_type": "markdown",
   "metadata": {},
   "source": [
    "## 7. Create a stack with terrain parameters (optional)\n",
    "If you want to get a stack of the terrain parameters run the following code box. The stack file will be stored in the ouput folder you specified at the start of this notebook."
   ]
  },
  {
   "cell_type": "code",
   "execution_count": null,
   "metadata": {},
   "outputs": [],
   "source": [
    "param_list = sorted(glob.glob(os.path.join(out_folder, '*' + extension)))\n",
    "stack_file = os.path.join(out_folder ,'stack.tif')\n",
    "\n",
    "build_stack(param_list, stack_file)"
   ]
  }
 ],
 "metadata": {
  "kernelspec": {
   "display_name": "Python 3",
   "language": "python",
   "name": "python3"
  },
  "language_info": {
   "codemirror_mode": {
    "name": "ipython",
    "version": 3
   },
   "file_extension": ".py",
   "mimetype": "text/x-python",
   "name": "python",
   "nbconvert_exporter": "python",
   "pygments_lexer": "ipython3",
   "version": "3.9.6"
  },
  "vscode": {
   "interpreter": {
    "hash": "31f2aee4e71d21fbe5cf8b01ff0e069b9275f58929596ceb00d14d90e3e16cd6"
   }
  }
 },
 "nbformat": 4,
 "nbformat_minor": 2
}

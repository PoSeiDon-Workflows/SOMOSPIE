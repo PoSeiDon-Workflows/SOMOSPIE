{
 "cells": [
  {
   "cell_type": "markdown",
   "metadata": {},
   "source": [
    "# Introduction\n",
    "In this document, we go step by step in the procedure of generating the terrestrial parameters at any available resolution for a particular region. \n",
    "\n",
    "Let us start introducing some terminology:\n",
    "\n",
    "## Glossary\n",
    "- USGS    : [The United States Geological Survey](https://www.usgs.gov/)\n",
    "- SAGA    : It is an open-source software designed as a robust geospatioal anlysis package\n",
    "- GIS     : Geographical Information System\n",
    "- DEM     : Digital Elevation Model is a 3D CG representation of a terrain's surface\n",
    "- CSV file: A CSV is a comma-separated values file, which allows data to be saved in a tabular format.\n",
    "- Raster  : A raster is a file where is the data is stored as a matrix of cells also called pixeles. There exists a variaty of format of rasters, but in this document, we will work with three of them\n",
    "\n",
    "    - **Rasters.img**: Usually, USGS save their raster in this format,\n",
    "    - **Raster.tif** : It is the most used format for many applications\n",
    "    - **Raster.sdat**: This is used by the package SAGA, which is required to the generate the terrestrail parameters\n",
    "\n",
    "- Decimal Latitude and Longitude system: This is a way to express geographic coordinates in decimal degrees. It’s just another way to represent that same location in a different format. For example, Chimney Tops is located at the coordinates (35.631167, -83.481167), which means Latitude =  35.631167  and  Longitude = -83.481167 \n",
    "    "
   ]
  },
  {
   "cell_type": "code",
   "execution_count": null,
   "metadata": {},
   "outputs": [],
   "source": [
    "%%javascript\n",
    "IPython.OutputArea.prototype._should_scroll = function(lines) {\n",
    "    return false;\n",
    "}"
   ]
  },
  {
   "cell_type": "code",
   "execution_count": null,
   "metadata": {
    "scrolled": true
   },
   "outputs": [],
   "source": [
    "# Defining the folder where the csv file are going to be stored\n",
    "%run code/tools.py"
   ]
  },
  {
   "cell_type": "markdown",
   "metadata": {},
   "source": [
    "## We define some constants here. \n",
    "- **pi** is the value of the constant pi\n",
    "- **Rearth** is the radius of earth\n",
    "- **dx** is the distance from the center to any of the sides to the desired region\n",
    "- **Year** corresponds to the year wwhen we want to estimate the soil moisture\n",
    "- **Month** corresponds to the month of the year we want estimate the soil moisture"
   ]
  },
  {
   "cell_type": "code",
   "execution_count": null,
   "metadata": {},
   "outputs": [],
   "source": [
    "# Define constants\n",
    "pi = math.pi\n",
    "REarth = 6378137 # Earth radius\n",
    "dx     = 600     # Distance from  from the center\n",
    "\n",
    "Folder = f'{Path}/CSF_Files/'"
   ]
  },
  {
   "cell_type": "code",
   "execution_count": null,
   "metadata": {},
   "outputs": [],
   "source": [
    "Folder"
   ]
  },
  {
   "cell_type": "markdown",
   "metadata": {},
   "source": [
    "## Setting the name of the files"
   ]
  },
  {
   "cell_type": "markdown",
   "metadata": {},
   "source": [
    "# 1. Selecting the Desired Region\n",
    "In this example, we work on a region containing the coordinates of the the ignition fire of the Chimney tops region. "
   ]
  },
  {
   "cell_type": "code",
   "execution_count": null,
   "metadata": {},
   "outputs": [],
   "source": [
    "Lat  =  35.631167\n",
    "Long = -83.481167"
   ]
  },
  {
   "cell_type": "markdown",
   "metadata": {},
   "source": [
    "Check in google earth to very the [location](https://earth.google.com/web/@35.63292863,-83.49585774,960.7674918a,19382.48366525d,35y,142.04295599h,45.11788942t,0r/data=CjkaNxIxCgAZP6iLFMrQQUAhhjqscMveVMAqGzM1wrAzNyc1Mi4yIk4gODPCsDI4JzUyLjIiVxgCIAE). Define the 1 Km square region bordering that point. In this point we need to add and substract 500 meters to the lattitude and longitude.\n",
    "\n",
    "![Drag Racing](Images/ChimeneyTops.png)"
   ]
  },
  {
   "cell_type": "code",
   "execution_count": null,
   "metadata": {},
   "outputs": [],
   "source": [
    "Max_Lat   = Lat  + (dx / REarth) * (180 / pi)\n",
    "Min_Lat   = Lat  - (dx / REarth) * (180 / pi)\n",
    "Max_Lon   = Long + (dx / REarth) * (180 / pi) / math.cos(Lat * pi/180)\n",
    "Min_lon   = Long - (dx / REarth) * (180 / pi) / math.cos(Lat * pi/180)\n",
    "\n",
    "print(\"Max Lat (Ymax):\", Max_Lat)\n",
    "print(\"Min Lat (Ymin):\", Min_Lat)\n",
    "print(\"Max Lon (Xmax):\", Max_Lon)\n",
    "print(\"Min Lon (Xmin):\", Min_lon)"
   ]
  },
  {
   "cell_type": "markdown",
   "metadata": {},
   "source": [
    "# 2. Select Digital Elevation Model (DEM) from USGS\n",
    "\n",
    "Visit the webpage of The National Map viewer and download platform  https://viewer.nationalmap.gov/basic/\n",
    "### Click on \"Enter Coords\" in the top left panel\n",
    "![Drag Racing](data/Images/Enter_Coord.png)\n",
    "\n",
    "### Insert the coordinates in the following windows and click on “Add to Map”\n",
    "![Drag Racing](data/Images/coordinates.png)\n",
    "\n",
    "## In the left panel, select:\n",
    "### Elevation Products (3DEP)\n",
    "### The desired resolution, for this example, 1 meter DEM\n",
    "###  Search Products\n",
    "![Drag Racing](data/Images/search.png)\n",
    "\n",
    "You do not need all of them, click on “Thumbnail”, and select just the products that cover your region of interest, and then click “view cart”. You will see that some tiles are spatially duplicated, as they are in areas overlaying two states, the same tiles are stored individually in different states’ topographic datasets. Select only one of the overlaying tiles.\n",
    "\n",
    "![Drag Racing](data/Images/Products.png)\n",
    "\n",
    "###  You can download the files one at the time, but it is recommended to Export URLs to text files and, then download them with a script"
   ]
  },
  {
   "cell_type": "markdown",
   "metadata": {},
   "source": [
    "# 3. Download DEM files from USGS and Unzip them\n",
    "Insert the name of the file where are the names of the tiles to be downloaded\n"
   ]
  },
  {
   "cell_type": "code",
   "execution_count": null,
   "metadata": {},
   "outputs": [],
   "source": [
    "os.chdir(Path)\n",
    "# Make a folder to store the DEM file\n",
    "raster_folder = f'{Path}/data/Rasters'\n",
    "isdir = os.path.isdir(raster_folder)\n",
    "\n",
    "if not isdir:\n",
    "    os.makedirs(raster_folder)\n",
    "\n",
    "os.chdir(raster_folder)\n",
    "\n",
    "#Location and name of the file containing the files to be downloaded\n",
    "filename = f\"{Path}/data/download/data.txt\" \n",
    "# Download the files\n",
    "\n",
    "download_dem(filename)    # Download the files\n",
    "         \n",
    "# Unzip the zip files\n",
    "\n",
    "\n",
    "!unzip *.zip\n",
    "\n",
    "\n",
    "\n",
    "# Create a list of DEM Files\n",
    "List_of_Rasters = !ls *.tif\n"
   ]
  },
  {
   "cell_type": "code",
   "execution_count": null,
   "metadata": {},
   "outputs": [],
   "source": [
    "List_of_Rasters"
   ]
  },
  {
   "cell_type": "markdown",
   "metadata": {},
   "source": [
    "# 4. Merge all the DEM Rasters in a Unique Raster (Mosaicking)\n",
    "\n",
    "We have seen that sometimes to cover a region we need many tiles. We need to merge all of these tiles in only one\n",
    "![Drag Racing](data/Images/Mosaicking.png)"
   ]
  },
  {
   "cell_type": "code",
   "execution_count": null,
   "metadata": {},
   "outputs": [],
   "source": [
    "mergin_raster(List_of_Rasters)\n",
    "#!mv Mosaicking.img data/Rasters/"
   ]
  },
  {
   "cell_type": "markdown",
   "metadata": {},
   "source": [
    "# 5. Cropping the Desired Region\n",
    "The Mosaic i.e., the merged raster covers more than the desired region, so we need to crop such region from the mosaic.\n",
    "![Drag Racing](data/Images/Cropping.png)"
   ]
  },
  {
   "cell_type": "code",
   "execution_count": null,
   "metadata": {},
   "outputs": [],
   "source": [
    "Max_lat   =  3946476\n",
    "Min_lat   =  3945276 \n",
    "Max_lon   =   276019\n",
    "Min_lon   =   274819\n",
    "\n",
    "\n",
    "croping_region('Mosaicking.img', str(Min_lon), str(Max_lon), str(Min_lat), str(Max_lat), 'Cropped.tif')"
   ]
  },
  {
   "cell_type": "markdown",
   "metadata": {},
   "source": [
    "# 6. Change the Format of the Desired Region to SDAT format\n",
    "The terrestrial parameters are generated using a package of SAGA, which requires all the rasters are in **SDAT format**\n"
   ]
  },
  {
   "cell_type": "code",
   "execution_count": null,
   "metadata": {},
   "outputs": [],
   "source": [
    "File_name_of_region = f'Cropped.tif'\n",
    "convert_to_sdat(File_name_of_region)"
   ]
  },
  {
   "cell_type": "markdown",
   "metadata": {},
   "source": [
    "# 7. Create the Terrestrial Parameters\n",
    "\n",
    "The name of the file has to be input with **no extension**"
   ]
  },
  {
   "cell_type": "code",
   "execution_count": null,
   "metadata": {},
   "outputs": [],
   "source": [
    "file = 'Cropped'\n",
    "terrestrial_parameters(file)"
   ]
  },
  {
   "cell_type": "markdown",
   "metadata": {},
   "source": [
    "# 8. Create a Stack with the Elevation and all the Terrestrial Parameters\n",
    " Four files are created  in this part:\n",
    "- **A stack raster with all parameters in Latitude-Longitude format**\n",
    "- ** A raster with all parameters in UTMformat **\n",
    "- ** A CSV file with all parameters in Latitude-Longitude format **\n",
    "- ** A CSV file with all parameters in UTM format **\n",
    "\n",
    "They all are saved in the folder Rasters"
   ]
  },
  {
   "cell_type": "code",
   "execution_count": null,
   "metadata": {},
   "outputs": [],
   "source": [
    "list_of_files = !ls *.sdat\n",
    "command = [f'{Path}/code/CreatingStack.R'] + list_of_files\n",
    "creating_stack(command)"
   ]
  },
  {
   "cell_type": "code",
   "execution_count": null,
   "metadata": {},
   "outputs": [],
   "source": [
    "TiempoModelo['Model']"
   ]
  },
  {
   "cell_type": "markdown",
   "metadata": {},
   "source": [
    "# 12. Change the Coordinates to UTM (Optional)\n",
    "All the files are expressed in Latitude-Longitude format. We need to change soil moisture and elevation file to UTM format (meters)"
   ]
  },
  {
   "cell_type": "code",
   "execution_count": null,
   "metadata": {},
   "outputs": [],
   "source": [
    "UTM_Files = []\n",
    "for file in LatLongFiles:\n",
    "    Input_file  =  file+'_latlong.csv'\n",
    "    Output_file =  file+'_UTM.csv'\n",
    "    UTM_Files = UTM_Files + [Output_file]\n",
    "    \n",
    "    # Changing the format\n",
    "    changing_to_utm(Input_file, Output_file)"
   ]
  }
 ],
 "metadata": {
  "kernelspec": {
   "display_name": "Python 3",
   "language": "python",
   "name": "python3"
  },
  "language_info": {
   "codemirror_mode": {
    "name": "ipython",
    "version": 3
   },
   "file_extension": ".py",
   "mimetype": "text/x-python",
   "name": "python",
   "nbconvert_exporter": "python",
   "pygments_lexer": "ipython3",
   "version": "3.6.4"
  }
 },
 "nbformat": 4,
 "nbformat_minor": 2
}

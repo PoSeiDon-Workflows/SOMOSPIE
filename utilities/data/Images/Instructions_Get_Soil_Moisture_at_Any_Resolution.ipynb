{
 "cells": [
  {
   "cell_type": "markdown",
   "metadata": {},
   "source": [
    "# Introduction\n",
    "In this document, we go step by step in the procedure of generating soil moisture prediction at any available resolution for a particular region. We illustrate this procedure estimating the soil moisture for a Km x Km centering the ignition point of the fire at The hike to Chimney Tops in the Great Smoky Mountains. \n",
    "\n",
    "Let us start introducing some terminology:\n",
    "\n",
    "## Glossary\n",
    "- USGS    : [The United States Geological Survey](https://www.usgs.gov/)\n",
    "- SAGA    : It is an open-source software designed as a robust geospatioal anlysis package\n",
    "- GIS     : Geographical Information System\n",
    "- DEM     : Digital Elevation Model is a 3D CG representation of a terrain's surface\n",
    "- CSV file: A CSV is a comma-separated values file, which allows data to be saved in a tabular format.\n",
    "- Raster  : A raster is a file where is the data is stored as a matrix of cells also called pixeles. There exists a variaty of format of rasters, but in this document, we will work with three of them\n",
    "\n",
    "    - **Rasters.img**: Usually, USGS save their raster in this format,\n",
    "    - **Raster.tif** : It is the most used format for many applications\n",
    "    - **Raster.sdat**: This is used by the package SAGA, which is required to the generate the terrestrail parameters\n",
    "\n",
    "- Decimal Latitude and Longitude system: This a way to express geographic coordinates in decimal degrees. It’s just another way to represent that same location in a different format. For example, Chimney Tops is located at the coordinates (35.631167, -83.481167), which means Latitude =  35.631167  and  Longitude = -83.481167 \n",
    "    "
   ]
  },
  {
   "cell_type": "code",
   "execution_count": null,
   "metadata": {},
   "outputs": [],
   "source": [
    "%%javascript\n",
    "IPython.OutputArea.prototype._should_scroll = function(lines) {\n",
    "    return false;\n",
    "}"
   ]
  },
  {
   "cell_type": "code",
   "execution_count": null,
   "metadata": {
    "scrolled": true
   },
   "outputs": [],
   "source": [
    "%run tools.py"
   ]
  },
  {
   "cell_type": "markdown",
   "metadata": {},
   "source": [
    "## We define some constants here. \n",
    "- **pi** is the value of the constant pi\n",
    "- **Rearth** is the radius of earth\n",
    "- **dx** is the distance from the center to any of the sides to the desired region\n",
    "- **Year** corresponds to the year wwhen we want to estimate the soil moisture\n",
    "- **Month** corresponds to the month of the year we want estimate the soil moisture"
   ]
  },
  {
   "cell_type": "code",
   "execution_count": null,
   "metadata": {},
   "outputs": [],
   "source": [
    "# Define constants\n",
    "pi = math.pi\n",
    "REarth = 6378137 # Earth radius\n",
    "dx     = 600     # Distance from  from the center\n",
    "\n",
    "# Defining the folder where the file are stored\n",
    "Path = %pwd\n",
    "Folder = Path + '/Evaluation/'"
   ]
  },
  {
   "cell_type": "code",
   "execution_count": null,
   "metadata": {},
   "outputs": [],
   "source": [
    "Folder\n"
   ]
  },
  {
   "cell_type": "markdown",
   "metadata": {},
   "source": [
    "## Setting the name suffix to the files"
   ]
  },
  {
   "cell_type": "code",
   "execution_count": null,
   "metadata": {},
   "outputs": [],
   "source": [
    "# Defining the dates to the predictions\n",
    "Dates = [[2016,5],[2016,10]]\n",
    "\n",
    "# The training file just dependens of the results\n",
    "Training = 'Training'\n",
    "\n",
    "# The Evaluation file just depends on the parameters and the region. It is constant through this file\n",
    "Evaluating = 'Evaluation'\n",
    "\n",
    "# The Moisture files depend on the Year, Month,and Models\n",
    "Moisture = 'Moisture'\n"
   ]
  },
  {
   "cell_type": "code",
   "execution_count": null,
   "metadata": {},
   "outputs": [],
   "source": [
    "Moisture"
   ]
  },
  {
   "cell_type": "markdown",
   "metadata": {},
   "source": [
    "# 1. Selecting the Desired Region\n",
    "Using any GIS software or web map viewer to find the desired region. In this example, we will work for a region containing the coordinates"
   ]
  },
  {
   "cell_type": "code",
   "execution_count": null,
   "metadata": {},
   "outputs": [],
   "source": [
    "Lat  =  35.631167\n",
    "Long = -83.481167\n"
   ]
  },
  {
   "cell_type": "markdown",
   "metadata": {},
   "source": [
    "Which is the location where the fire started. Check in google earth to very the [location](https://earth.google.com/web/@35.63292863,-83.49585774,960.7674918a,19382.48366525d,35y,142.04295599h,45.11788942t,0r/data=CjkaNxIxCgAZP6iLFMrQQUAhhjqscMveVMAqGzM1wrAzNyc1Mi4yIk4gODPCsDI4JzUyLjIiVxgCIAE). Define the 1 Km square region bordering that point. In this point we need to add and substract 500 meters to the lattitude and longitude.\n",
    "\n",
    "![Drag Racing](Images/ChimeneyTops.png)"
   ]
  },
  {
   "cell_type": "code",
   "execution_count": null,
   "metadata": {},
   "outputs": [],
   "source": [
    "Max_Lat   = Lat  + (dx / REarth) * (180 / pi)\n",
    "Min_Lat   = Lat  - (dx / REarth) * (180 / pi)\n",
    "Max_Lon   = Long + (dx / REarth) * (180 / pi) / math.cos(Lat * pi/180)\n",
    "Min_lon   = Long - (dx / REarth) * (180 / pi) / math.cos(Lat * pi/180)\n",
    "\n",
    "print(\"Max Lat:\", Max_Lat)\n",
    "print(\"Min Lat:\", Min_Lat)\n",
    "print(\"Max Lon:\", Max_Lon)\n",
    "print(\"Min Lon:\", Min_lon)"
   ]
  },
  {
   "cell_type": "markdown",
   "metadata": {},
   "source": [
    "# 2. Select Digital Elevation Model (DEM) from USGS\n",
    "\n",
    "Visit the webpage of The National Map viewer and download platform  https://viewer.nationalmap.gov/basic/\n",
    "###  In the right panel, select coordinates\n",
    "![Drag Racing](Images/ClickCoordinates.png)\n",
    "\n",
    "### In the following windows, insert the coordinates and click on “Draw AOI”\n",
    "![Drag Racing](Images/DrawnRegion.png)\n",
    "![Drag Racing](Images/Chimney.png)\n",
    "\n",
    "## In the left panel, select:\n",
    "### Elevation Products (3DEP)\n",
    "### The desired resolution, for this example, 1/9 arc-second DEM\n",
    "###  Show availability\n",
    "![Drag Racing](Images/SelectProducts.png)\n",
    "\n",
    "### Continue selecting “find products” \n",
    "![Drag Racing](Images/Products.png)\n",
    "\n",
    "**You do not need all of them, click on “Thumbnail”, and select just the products that cover your region of interest, and then click “view cart”. You will see that some tiles are spatially duplicated, as they are in areas overlaying two states, the same tiles are stored individually in different states’ topographic datasets. Select only one of the overlaying tiles.**\n",
    "###  You can download the files one at the time, but it is recommended to Export URLs to text files and, then download them with a script"
   ]
  },
  {
   "cell_type": "markdown",
   "metadata": {},
   "source": [
    "# 3. Download DEM files from USGS and Unzip them\n",
    "Insert the name of the file where are the names of the tiles to be downloaded\n"
   ]
  },
  {
   "cell_type": "code",
   "execution_count": null,
   "metadata": {},
   "outputs": [],
   "source": [
    "#Name of the file containing the files to be downloaded\n",
    "filename = \"DEMFiles.txt\" \n",
    "\n",
    "# Download the files\n",
    "download_dem(filename)    # Download the files\n",
    "\n",
    "# Move the zip files to the folder 'Rasters'\n",
    "\n",
    "!mv *.tif Rasters\n",
    "\n",
    "# Unzip the zip files\n",
    "\n",
    "os.chdir(r\"Rasters\")\n",
    "#!unzip *.zip\n",
    "\n",
    "os.chdir(r\"../\")\n",
    "\n",
    "# Create a list of DEM Files\n",
    "List_of_Rasters = !ls Rasters/*.tif\n"
   ]
  },
  {
   "cell_type": "code",
   "execution_count": null,
   "metadata": {},
   "outputs": [],
   "source": [
    "List_of_Rasters"
   ]
  },
  {
   "cell_type": "code",
   "execution_count": null,
   "metadata": {},
   "outputs": [],
   "source": []
  },
  {
   "cell_type": "markdown",
   "metadata": {},
   "source": [
    "# 4. Merge all the DEM Rasters in a Unique Raster (Mosaicking)\n",
    "\n",
    "We have seen that sometimes to cover a region we need many tiles. We need to merge all of these tiles in only one\n",
    "![Drag Racing](Images/Mosaicking.png)"
   ]
  },
  {
   "cell_type": "code",
   "execution_count": null,
   "metadata": {},
   "outputs": [],
   "source": [
    "mergin_raster(List_of_Rasters)\n",
    "!mv Mosaicking.img Rasters/"
   ]
  },
  {
   "cell_type": "markdown",
   "metadata": {},
   "source": [
    "# 5. Cropping the Desired Region\n",
    "The Mosaic i.e., the merged raster covers more than the desired region, so we need to crop such region from the mosaic.\n",
    "![Drag Racing](Images/Cropping.png)"
   ]
  },
  {
   "cell_type": "code",
   "execution_count": null,
   "metadata": {},
   "outputs": [],
   "source": [
    "Max_lat   =  3946476\n",
    "Min_lat   =  3945276 \n",
    "Max_lon   =   276019\n",
    "Min_lon   =   274819\n",
    "\n",
    "\n",
    "croping_region('Rasters/Mosaicking.img', str(Min_lon), str(Max_lon), str(Min_lat), str(Max_lat), 'Rasters/Cropped.tif')"
   ]
  },
  {
   "cell_type": "markdown",
   "metadata": {},
   "source": [
    "# 6. Change the Format of the Desired Region to SDAT format\n",
    "The terrestrial parameters are generated using a package of SAGA, which requires all the rasters are in **SDAT format**\n"
   ]
  },
  {
   "cell_type": "code",
   "execution_count": null,
   "metadata": {},
   "outputs": [],
   "source": [
    "File_name_of_region = 'Rasters/Cropped.tif'\n",
    "convert_to_sdat(File_name_of_region)"
   ]
  },
  {
   "cell_type": "markdown",
   "metadata": {},
   "source": [
    "# 7. Create the Terrestrial Parameters\n",
    "\n",
    "The name of the file has to be input with **no extension**"
   ]
  },
  {
   "cell_type": "code",
   "execution_count": null,
   "metadata": {},
   "outputs": [],
   "source": [
    "file = 'Rasters/Cropped'\n",
    "terrestrial_parameters(file)"
   ]
  },
  {
   "cell_type": "markdown",
   "metadata": {},
   "source": [
    "# 8. Create a Stack with the Elevation and all the Terrestrial Parameters\n",
    "In this part is created four files:\n",
    "- **A stack raster with all parameters in Latitude-Longitude format**\n",
    "- ** A raster with all parameters in UTMformat **\n",
    "- ** A CSV file with all parameters in Latitude-Longitude format **\n",
    "- ** A CSV file with all parameters in UTM format **\n",
    "\n",
    "They all are saved in the folder Rasters"
   ]
  },
  {
   "cell_type": "code",
   "execution_count": null,
   "metadata": {},
   "outputs": [],
   "source": [
    "list_of_files = !ls Rasters/*.sdat\n",
    "command = ['./CreatingStack.R'] + list_of_files\n",
    "creating_stack(command)"
   ]
  },
  {
   "cell_type": "code",
   "execution_count": null,
   "metadata": {
    "scrolled": false
   },
   "outputs": [],
   "source": []
  },
  {
   "cell_type": "markdown",
   "metadata": {},
   "source": [
    "# 9. Training the Models and Evaluating them in the Evaluating File\n",
    "We need to import the training file to create the evaluation with the same parameters"
   ]
  },
  {
   "cell_type": "code",
   "execution_count": null,
   "metadata": {
    "scrolled": true
   },
   "outputs": [],
   "source": [
    "# Import the Training File\n",
    "DataTime = {'Model': [], 'Time': []}\n",
    "TiempoModelo = pd.DataFrame(DataTime)\n",
    "\n",
    "\n",
    "Moisture_Files = []\n",
    "for date in Dates:\n",
    "    training = pd.read_csv(Folder+Training+'_'+str(date[0])+'_'+str(date[1])+'.csv')\n",
    "    \n",
    "    # Import the CSV File with all the parameters\n",
    "    evaluation = pd.read_csv(Folder+'AllParametersLONGLAT.csv')\n",
    "    \n",
    "    # Determine what the parameters are used to train the model\n",
    "    cols_training = list(training)\n",
    "\n",
    "    # Extract the columns corresponding with the training file\n",
    "    cols_Evaluation = cols_training[0:2]+cols_training[3:]\n",
    "\n",
    "    # Rename the data frame with the corresponding columns\n",
    "    evaluation = evaluation[cols_Evaluation]\n",
    "\n",
    "    # Save the dataframe to a csv file in the Evaluation folder\n",
    "    evaluation.to_csv(Folder+Evaluating+'_'+str(date[0])+'_'+str(date[1])+'.csv',index=False)\n",
    "\n",
    "    # Training and Evaluating in the file\n",
    "    for model in list(Models):\n",
    "        training_file    = Folder+Training+'_'+str(date[0])+'_'+str(date[1])+'.csv'\n",
    "        evaluation_file  = Folder+Evaluating+'_'+str(date[0])+'_'+str(date[1])+'.csv'\n",
    "        moisture_file    = Folder+Moisture+'_'+str(model)+'_'+str(date[0])+'_'+str(date[1])+'.csv'\n",
    "        start_time = time.time()\n",
    "        creating_moisture(model, training_file, evaluation_file, moisture_file)\n",
    "        final_time = time.time()-start_time\n",
    "        TiempoModelo=TiempoModelo.append({'Model':str(model)+'_'+str(date[0])+'_'+str(date[1]), 'Time':final_time}, ignore_index=True)\n",
    "        \n",
    "        Moisture_Files = Moisture_Files + [moisture_file]\n",
    "    \n",
    "TiempoModelo.to_csv(Folder+'TiempoModelo.csv',index=False)    "
   ]
  },
  {
   "cell_type": "code",
   "execution_count": null,
   "metadata": {},
   "outputs": [],
   "source": [
    "TiempoModelo['Model']"
   ]
  },
  {
   "cell_type": "markdown",
   "metadata": {},
   "source": [
    "# 11. Saving  the  Moisture and the Elevation Dataframe in a Unique File"
   ]
  },
  {
   "cell_type": "code",
   "execution_count": null,
   "metadata": {},
   "outputs": [],
   "source": [
    "Columna_evaluacion = list(evaluation['CONUSDEM1km'])"
   ]
  },
  {
   "cell_type": "code",
   "execution_count": null,
   "metadata": {
    "scrolled": true
   },
   "outputs": [],
   "source": [
    "LatLongFiles = []\n",
    "for file in Moisture_Files:\n",
    "    print(file)\n",
    "    # Load the Soil Moisture File\n",
    "    soil_moisture2 = pd.read_csv(file,usecols=[0,1,2], names = ['x','y','Moisture'])   \n",
    "\n",
    "    # Add a new column with the elevation\n",
    "    soil_moisture = evaluation.copy()\n",
    "    soil_moisture['Moisture']= soil_moisture2['Moisture']\n",
    "    soil_moisture = soil_moisture[['x','y','CONUSDEM1km','Moisture']] \n",
    "    soil_moisture.rename(columns={\"CONUSDEM1km\": \"Elevation\"})\n",
    "    #soil_moisture['Elevation'] = Columna_evaluacion\n",
    "    \n",
    "\n",
    "    # Save the soil_moisture to a CSV file\n",
    "    soil_moisture.to_csv(file[:-4]+'_latlong.csv',index=False)\n",
    "    LatLongFiles = LatLongFiles + [file[:-4]]"
   ]
  },
  {
   "cell_type": "markdown",
   "metadata": {},
   "source": [
    "# 12. Change the Coordinates to UTM\n",
    "All the files are expressed in Latitude-Longitude format. We need to change soil moisture and elevation file to UTM format (meters)"
   ]
  },
  {
   "cell_type": "code",
   "execution_count": null,
   "metadata": {},
   "outputs": [],
   "source": [
    "UTM_Files = []\n",
    "for file in LatLongFiles:\n",
    "    Input_file  =  file+'_latlong.csv'\n",
    "    Output_file =  file+'_UTM.csv'\n",
    "    UTM_Files = UTM_Files + [Output_file]\n",
    "    \n",
    "    # Changing the format\n",
    "    changing_to_utm(Input_file, Output_file)"
   ]
  },
  {
   "cell_type": "markdown",
   "metadata": {},
   "source": [
    "# 12. Moving the region such that the left-botton corner be located at (0,0)\n",
    "\n"
   ]
  },
  {
   "cell_type": "code",
   "execution_count": null,
   "metadata": {},
   "outputs": [],
   "source": [
    "for utm_file in UTM_Files:\n",
    "    # Load the file\n",
    "    EvaluationUTM = pd.read_csv(utm_file)\n",
    "    \n",
    "\n",
    "    # Round the coordinates to have integer numbers\n",
    "    EvaluationUTM['x'] = EvaluationUTM['x'].round()\n",
    "    EvaluationUTM['y'] = EvaluationUTM['y'].round()\n",
    "    Traslate_x = EvaluationUTM['x'].min()+100\n",
    "    Traslate_y = EvaluationUTM['y'].min()+100\n",
    "    \n",
    "    # Shift the coordinates to (0,0)\n",
    "    EvaluationUTM['x'] = EvaluationUTM['x']- Traslate_x\n",
    "    EvaluationUTM['y'] = EvaluationUTM['y']- Traslate_y\n",
    "\n",
    "    # Sort the values\n",
    "    EvaluationUTM = EvaluationUTM.sort_values(by=['x', 'y'])\n",
    "\n",
    "\n",
    "    EvaluationUTM = EvaluationUTM[EvaluationUTM['x'] >-1]\n",
    "    EvaluationUTM = EvaluationUTM[EvaluationUTM['y'] >-1]\n",
    "    EvaluationUTM = EvaluationUTM[EvaluationUTM['x'] <1000]\n",
    "    EvaluationUTM = EvaluationUTM[EvaluationUTM['y'] <1000]\n",
    "    \n",
    "    #Drop duplicated coordinates in case there are some\n",
    "    EvaluationUTM = EvaluationUTM.drop_duplicates(subset=['x', 'y'], keep='first')\n",
    "    \n",
    "    EvaluationUTMGIS = EvaluationUTM.copy()\n",
    "    EvaluationUTMGIS['x'] = EvaluationUTMGIS['x'] + Traslate_x\n",
    "    EvaluationUTMGIS['y'] = EvaluationUTMGIS['y'] + Traslate_y\n",
    "\n",
    "\n",
    "    # Save the dataframe to a CSV file\n",
    "    EvaluationUTMGIS.to_csv(utm_file, index=False)\n",
    "    EvaluationUTM.to_csv(utm_file[:-4]+'_Traslated.csv', index=False)"
   ]
  },
  {
   "cell_type": "markdown",
   "metadata": {},
   "source": [
    "# 13. Plotting the Soil Moisture for The desired Region \n",
    "soil_map(df, title=\"Soil Moisture Heatmap\", out=\"\", cmap=cmap_rg, legend=\"Soil Moisture\", size=.05, vmin=None, vmax=None, value=2):"
   ]
  },
  {
   "cell_type": "code",
   "execution_count": null,
   "metadata": {},
   "outputs": [],
   "source": [
    "Modelos = ['Moisture_KKNN_2016_5_latlong.csv','Moisture_KKNN_2016_10_latlong.csv',\\\n",
    "          'Moisture_SBM_2016_5_latlong.csv','Moisture_SBM_2016_10_latlong.csv',\\\n",
    "          'Moisture_HYPPO_2016_5_latlong.csv','Moisture_HYPPO_2016_10_latlong.csv',\\\n",
    "          'Moisture_RF_2016_5_latlong.csv','Moisture_RF_2016_10_latlong.csv']\n"
   ]
  },
  {
   "cell_type": "code",
   "execution_count": null,
   "metadata": {},
   "outputs": [],
   "source": [
    "minimo = 0\n",
    "maximo =1;\n",
    "for model in Modelos:\n",
    "    df =  pd.read_csv('Evaluation/'+model)\n",
    "    df = df[['x','y','Moisture']]\n",
    "    if df['Moisture'].min() > minimo:\n",
    "        minimo = df['Moisture'].min()\n",
    "    if df['Moisture'].max() < maximo:\n",
    "        maximo = df['Moisture'].max()\n",
    "        \n"
   ]
  },
  {
   "cell_type": "code",
   "execution_count": null,
   "metadata": {},
   "outputs": [],
   "source": [
    "for model in Modelos:\n",
    "    df =  pd.read_csv('Evaluation/'+model)\n",
    "    df = df[['x','y','Moisture']]\n",
    "    soil_map(df, out='Out_Images/'+model[0:-4]+'.png', title=model[0:-12],cmap=plt.cm.get_cmap('RdBu'),vmin=minimo,vmax=maximo)"
   ]
  },
  {
   "cell_type": "code",
   "execution_count": null,
   "metadata": {},
   "outputs": [],
   "source": [
    "\n"
   ]
  },
  {
   "cell_type": "code",
   "execution_count": null,
   "metadata": {},
   "outputs": [],
   "source": []
  },
  {
   "cell_type": "code",
   "execution_count": null,
   "metadata": {},
   "outputs": [],
   "source": []
  },
  {
   "cell_type": "code",
   "execution_count": null,
   "metadata": {},
   "outputs": [],
   "source": []
  },
  {
   "cell_type": "code",
   "execution_count": null,
   "metadata": {},
   "outputs": [],
   "source": []
  }
 ],
 "metadata": {
  "kernelspec": {
   "display_name": "Python 3",
   "language": "python",
   "name": "python3"
  },
  "language_info": {
   "codemirror_mode": {
    "name": "ipython",
    "version": 3
   },
   "file_extension": ".py",
   "mimetype": "text/x-python",
   "name": "python",
   "nbconvert_exporter": "python",
   "pygments_lexer": "ipython3",
   "version": "3.6.4"
  }
 },
 "nbformat": 4,
 "nbformat_minor": 2
}

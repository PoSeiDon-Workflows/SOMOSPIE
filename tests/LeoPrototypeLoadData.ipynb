{
 "cells": [
  {
   "cell_type": "code",
   "execution_count": null,
   "metadata": {},
   "outputs": [],
   "source": [
    "import ipywidgets as widgets\n",
    "import os\n",
    "\n",
    "from ipywe.ipywe.fileselector import FileSelectorPanel\n",
    "from ipywidgets import Output, Layout, HBox, VBox\n",
    "from IPython.display import Image\n",
    "from itertools import product as iterprod\n"
   ]
  },
  {
   "cell_type": "code",
   "execution_count": null,
   "metadata": {},
   "outputs": [],
   "source": [
    "# Development of the ipwidgets\n",
    "\n",
    "# SOMOSPIE Years\n",
    "\n",
    "years =  range(1979, 2018)\n",
    "\n",
    "list_of_years_initial = [str(year) for year in years]\n",
    "\n",
    "wStart_year = widgets.Dropdown(\n",
    "    options=list_of_years_initial,\n",
    "    value='2017',\n",
    "    description='Start year:',\n",
    "    disabled=False,\n",
    ")\n",
    "\n",
    "list_of_years_final = list_of_years_initial\n",
    "\n",
    "wEnd_year = widgets.Dropdown(\n",
    "    options=list_of_years_final,\n",
    "    value='2017',\n",
    "    description='Start year:',\n",
    "    disabled=False,\n",
    ")\n",
    "\n",
    "# Selecting Location of the Data\n",
    "\n",
    "location_data_option = ['Fetch the Data','Select Local File','Download Remote File']\n",
    "LocationData = widgets.Dropdown(\n",
    "    options=location_data_option,\n",
    "    value='Fetch the Data',\n",
    "    description='Location:',\n",
    "    disabled=False,\n",
    ") \n",
    "\n",
    "box = VBox(\n",
    "children = (LocationData,wStart_year,wEnd_year)\n",
    ")\n",
    "\n",
    "url = widgets.Text(\n",
    "    value='url of remote location',\n",
    "    placeholder='Type something',\n",
    "    description='URL:',\n",
    "    disabled=False\n",
    ")\n",
    "\n",
    "# Selcting the local file\n",
    "\n",
    "SelectFile = FileSelectorPanel( 'Select the File',\n",
    "            start_dir=\".\", type='file', next=None,\n",
    "            multiple=False, newdir_toolbar_button=False,\n",
    "            custom_layout = None,\n",
    "            filters=dict(), default_filter=None,\n",
    "            stay_alive=False).panel\n"
   ]
  },
  {
   "cell_type": "code",
   "execution_count": null,
   "metadata": {},
   "outputs": [],
   "source": [
    "# Development of the functions\n",
    "# Modify the ipwidget depending on the location\n",
    "# of the data\n",
    "def action_LocationData(b):\n",
    "    if LocationData.value=='Fetch the Data':\n",
    "        box.children = (LocationData,wStart_year,wEnd_year)\n",
    "       # display(wStart_year)\n",
    "       # wStart_year.observe(get_and_plot,names='value')\n",
    "       # display(wEnd_year)\n",
    "        \n",
    "        \n",
    "    elif LocationData.value=='Select Local File':\n",
    "        box.children = (LocationData,SelectFile)\n",
    "        \n",
    "    else:\n",
    "        box.children = (LocationData,url)\n",
    "\n",
    "# Modify the ipwidget such that the End year is always\n",
    "# greater or equal than the Initial Year\n",
    "        \n",
    "def get_and_plot(b):\n",
    "    final_years = range(int(wStart_year.value),2018)\n",
    "    wEnd_year.options = [str(final_year) for final_year in final_years]\n",
    "\n",
    "        \n"
   ]
  },
  {
   "cell_type": "code",
   "execution_count": null,
   "metadata": {},
   "outputs": [],
   "source": [
    "display(box)\n",
    "wStart_year.observe(get_and_plot,names='value')\n",
    "LocationData.observe(action_LocationData,names='value')"
   ]
  }
 ],
 "metadata": {
  "kernelspec": {
   "display_name": "Python 3",
   "language": "python",
   "name": "python3"
  },
  "language_info": {
   "codemirror_mode": {
    "name": "ipython",
    "version": 3
   },
   "file_extension": ".py",
   "mimetype": "text/x-python",
   "name": "python",
   "nbconvert_exporter": "python",
   "pygments_lexer": "ipython3",
   "version": "3.6.4"
  }
 },
 "nbformat": 4,
 "nbformat_minor": 2
}

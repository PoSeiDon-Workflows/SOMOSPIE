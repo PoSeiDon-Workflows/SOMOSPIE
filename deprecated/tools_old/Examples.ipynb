{
 "cells": [
  {
   "cell_type": "code",
   "execution_count": null,
   "metadata": {},
   "outputs": [],
   "source": [
    "%%javascript\n",
    "IPython.OutputArea.prototype._should_scroll = function(lines) {\n",
    "    return false;\n",
    "}"
   ]
  },
  {
   "cell_type": "code",
   "execution_count": 3,
   "metadata": {
    "scrolled": true
   },
   "outputs": [],
   "source": [
    "%run tools.py"
   ]
  },
  {
   "cell_type": "markdown",
   "metadata": {},
   "source": [
    "# 1. Download DEM files from USGS"
   ]
  },
  {
   "cell_type": "code",
   "execution_count": null,
   "metadata": {},
   "outputs": [],
   "source": [
    "#filename = \"DEMFiles.txt\""
   ]
  },
  {
   "cell_type": "code",
   "execution_count": null,
   "metadata": {},
   "outputs": [],
   "source": [
    "#download_dem(filename)"
   ]
  },
  {
   "cell_type": "markdown",
   "metadata": {},
   "source": [
    "# 2. Merge all the DEM raster in a Unique Raster"
   ]
  },
  {
   "cell_type": "code",
   "execution_count": null,
   "metadata": {},
   "outputs": [],
   "source": [
    "#List_of_Rasters = ['ned1.img', 'ned2.img', 'ned3.img']"
   ]
  },
  {
   "cell_type": "code",
   "execution_count": null,
   "metadata": {},
   "outputs": [],
   "source": [
    "#mergin_raster(List_of_Rasters)"
   ]
  },
  {
   "cell_type": "markdown",
   "metadata": {},
   "source": [
    "# 3. Cropping the Desired Region"
   ]
  },
  {
   "cell_type": "code",
   "execution_count": null,
   "metadata": {},
   "outputs": [],
   "source": [
    "#West  = -83.567594\n",
    "#East  = -83.427747\n",
    "#South =  35.697978\n",
    "#North =  35.757219"
   ]
  },
  {
   "cell_type": "code",
   "execution_count": null,
   "metadata": {},
   "outputs": [],
   "source": [
    "#boundary = [West, East, South, North]"
   ]
  },
  {
   "cell_type": "code",
   "execution_count": null,
   "metadata": {},
   "outputs": [],
   "source": [
    "#temp2 = croping_desired_region('Mosaicking.img', boundary)"
   ]
  },
  {
   "cell_type": "markdown",
   "metadata": {},
   "source": [
    "# 4. Change the Format of the Desired Region to SDAT format"
   ]
  },
  {
   "cell_type": "code",
   "execution_count": null,
   "metadata": {},
   "outputs": [],
   "source": [
    "#File_name_of_region = 'desired_region.img'"
   ]
  },
  {
   "cell_type": "code",
   "execution_count": null,
   "metadata": {},
   "outputs": [],
   "source": [
    "#command = convert_to_sdat(File_name_of_region)"
   ]
  },
  {
   "cell_type": "markdown",
   "metadata": {},
   "source": [
    "# 5. Change All SDAT Files Format to TIFF format"
   ]
  },
  {
   "cell_type": "code",
   "execution_count": null,
   "metadata": {},
   "outputs": [],
   "source": [
    "#List_of_Files = ['SDAT/desired_region.sdat',\n",
    "#'SDAT/desired_region_aspect.sdat',\n",
    "#'SDAT/desired_region_chanel_base.sdat',\n",
    "#'SDAT/desired_region_closed_depresion.sdat',\n",
    "#'SDAT/desired_region_convergence.sdat',\n",
    "#'SDAT/desired_region_hcurv.sdat',\n",
    "#'SDAT/desired_region_lsfactor.sdat',\n",
    "#'SDAT/desired_region_relative_slope_position.sdat',\n",
    "#'SDAT/desired_region_shade.sdat',\n",
    "#'SDAT/desired_region_slope.sdat',\n",
    "#'SDAT/desired_region_total_catch_area.sdat',\n",
    "#'SDAT/desired_region_twi.sdat',\n",
    "#'SDAT/desired_region_vcurv.sdat',\n",
    "#'SDAT/desired_region_vlley_depth.sdat']"
   ]
  },
  {
   "cell_type": "code",
   "execution_count": null,
   "metadata": {},
   "outputs": [],
   "source": [
    "#Change_Raster_Format(List_of_Files,'.tif')"
   ]
  },
  {
   "cell_type": "markdown",
   "metadata": {},
   "source": [
    "# 6. Create a Stack File and the Evaluation File"
   ]
  },
  {
   "cell_type": "code",
   "execution_count": null,
   "metadata": {},
   "outputs": [],
   "source": [
    "Name_of_File = ['TIFF/desired_region.tif',\n",
    "'TIFF/desired_region_aspect.tif',\n",
    "'TIFF/desired_region_chanel_base.tif',\n",
    "'TIFF/desired_region_closed_depresion.tif',\n",
    "'TIFF/desired_region_convergence.tif',\n",
    "'TIFF/desired_region_hcurv.tif',\n",
    "'TIFF/desired_region_lsfactor.tif',\n",
    "'TIFF/desired_region_relative_slope_position.tif',\n",
    "'TIFF/desired_region_shade.tif',\n",
    "'TIFF/desired_region_slope.tif',\n",
    "'TIFF/desired_region_total_catch_area.tif',\n",
    "'TIFF/desired_region_twi.tif',\n",
    "'TIFF/desired_region_vcurv.tif',\n",
    "'TIFF/desired_region_vlley_depth.tif']"
   ]
  },
  {
   "cell_type": "code",
   "execution_count": null,
   "metadata": {},
   "outputs": [],
   "source": [
    "Name_of_parameter = ['DEM',\n",
    "'Aspect',\n",
    "'Chanel_base',\n",
    "'Closed_depresion',\n",
    "'Convergence',\n",
    "'Hcurv',\n",
    "'Lsfactor',\n",
    "'slope',\n",
    "'Shade',\n",
    "'Slope',\n",
    "'Total_catch_area',\n",
    "'Twi',\n",
    "'Vcurv',\n",
    "'Valley_depth']"
   ]
  },
  {
   "cell_type": "code",
   "execution_count": null,
   "metadata": {},
   "outputs": [],
   "source": [
    "#Create_Evaluation_file(Name_of_File, Name_of_parameter)"
   ]
  },
  {
   "cell_type": "code",
   "execution_count": 1,
   "metadata": {},
   "outputs": [
    {
     "name": "stdout",
     "output_type": "stream",
     "text": [
      "x,y,Aspect,Relative_slope_position,desired_region_twi\r\n",
      "-83.5001697481964,35.7572067949,4.7131028175354,0.9960998296737671,-14.0755224227905\r\n",
      "-83.5001388839965,35.7572067949,3.8509705066680895,0.9976608157157901,-14.0711345672607\r\n",
      "-83.5001080197965,35.7572067949,3.37777829170227,0.99870628118515,-14.063494682312\r\n",
      "-83.50007715559659,35.7572067949,3.2182013988494904,0.999777495861053,-14.0693206787109\r\n",
      "-83.50004629139659,35.7572067949,2.89165234565735,0.9997529387474059,-14.0405426025391\r\n",
      "-83.5000154271966,35.7572067949,2.59927916526794,0.9957557320594791,-14.069236755371099\r\n",
      "-83.4999845629967,35.7572067949,2.4796941280365,0.987681686878204,-14.039920806884801\r\n",
      "-83.4999536987967,35.7572067949,2.47559404373169,0.978235244750977,-14.0755224227905\r\n",
      "-83.4999228345968,35.7572067949,2.4789061546325697,0.967177510261536,-14.0711345672607\r\n"
     ]
    }
   ],
   "source": [
    "!head evaluation.csv"
   ]
  },
  {
   "cell_type": "code",
   "execution_count": 4,
   "metadata": {},
   "outputs": [],
   "source": [
    "evaluation = pd.read_csv('evaluation.csv')"
   ]
  },
  {
   "cell_type": "code",
   "execution_count": 6,
   "metadata": {},
   "outputs": [
    {
     "data": {
      "text/plain": [
       "(8138841, 5)"
      ]
     },
     "execution_count": 6,
     "metadata": {},
     "output_type": "execute_result"
    }
   ],
   "source": [
    "evaluation.shape"
   ]
  },
  {
   "cell_type": "code",
   "execution_count": 7,
   "metadata": {},
   "outputs": [],
   "source": [
    "evaluation = evaluation.dropna()"
   ]
  },
  {
   "cell_type": "code",
   "execution_count": 9,
   "metadata": {},
   "outputs": [
    {
     "data": {
      "text/plain": [
       "(8137188, 5)"
      ]
     },
     "execution_count": 9,
     "metadata": {},
     "output_type": "execute_result"
    }
   ],
   "source": [
    "evaluation.shape"
   ]
  },
  {
   "cell_type": "code",
   "execution_count": 10,
   "metadata": {},
   "outputs": [],
   "source": [
    "evaluation.to_csv('evaluation.csv', index = False, header=True)"
   ]
  },
  {
   "cell_type": "code",
   "execution_count": null,
   "metadata": {},
   "outputs": [],
   "source": []
  }
 ],
 "metadata": {
  "kernelspec": {
   "display_name": "Python 3",
   "language": "python",
   "name": "python3"
  },
  "language_info": {
   "codemirror_mode": {
    "name": "ipython",
    "version": 3
   },
   "file_extension": ".py",
   "mimetype": "text/x-python",
   "name": "python",
   "nbconvert_exporter": "python",
   "pygments_lexer": "ipython3",
   "version": "3.6.4"
  }
 },
 "nbformat": 4,
 "nbformat_minor": 2
}

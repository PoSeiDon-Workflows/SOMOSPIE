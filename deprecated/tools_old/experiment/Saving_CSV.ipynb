{
 "cells": [
  {
   "cell_type": "code",
   "execution_count": 1,
   "metadata": {},
   "outputs": [],
   "source": [
    "import pandas as pd"
   ]
  },
  {
   "cell_type": "code",
   "execution_count": 2,
   "metadata": {},
   "outputs": [],
   "source": [
    "ned1 = pd.read_csv('AllParameters.csv')"
   ]
  },
  {
   "cell_type": "code",
   "execution_count": 3,
   "metadata": {},
   "outputs": [
    {
     "data": {
      "text/html": [
       "<div>\n",
       "<style scoped>\n",
       "    .dataframe tbody tr th:only-of-type {\n",
       "        vertical-align: middle;\n",
       "    }\n",
       "\n",
       "    .dataframe tbody tr th {\n",
       "        vertical-align: top;\n",
       "    }\n",
       "\n",
       "    .dataframe thead th {\n",
       "        text-align: right;\n",
       "    }\n",
       "</style>\n",
       "<table border=\"1\" class=\"dataframe\">\n",
       "  <thead>\n",
       "    <tr style=\"text-align: right;\">\n",
       "      <th></th>\n",
       "      <th>x</th>\n",
       "      <th>y</th>\n",
       "      <th>ned</th>\n",
       "      <th>chimney_aspect</th>\n",
       "      <th>chimney_chanel_base</th>\n",
       "      <th>chimney_closed_depresion</th>\n",
       "      <th>chimney_convergence</th>\n",
       "      <th>chimney_hcurv</th>\n",
       "      <th>chimney_lsfactor</th>\n",
       "      <th>chimney_shade</th>\n",
       "      <th>chimney_slope</th>\n",
       "      <th>chimney_total_catch_area</th>\n",
       "      <th>chimney_twi</th>\n",
       "      <th>chimney_vcurv</th>\n",
       "      <th>chimney_vlley_depth</th>\n",
       "    </tr>\n",
       "  </thead>\n",
       "  <tbody>\n",
       "    <tr>\n",
       "      <th>0</th>\n",
       "      <td>-83.476004</td>\n",
       "      <td>35.635781</td>\n",
       "      <td>1058.294678</td>\n",
       "      <td>1.826899</td>\n",
       "      <td>1056.955078</td>\n",
       "      <td>NaN</td>\n",
       "      <td>-2.291341</td>\n",
       "      <td>0.009387</td>\n",
       "      <td>9.584755</td>\n",
       "      <td>2.002090</td>\n",
       "      <td>0.780157</td>\n",
       "      <td>0.275406</td>\n",
       "      <td>2.478895</td>\n",
       "      <td>-0.078441</td>\n",
       "      <td>36.287308</td>\n",
       "    </tr>\n",
       "    <tr>\n",
       "      <th>1</th>\n",
       "      <td>-83.475993</td>\n",
       "      <td>35.635781</td>\n",
       "      <td>1057.244141</td>\n",
       "      <td>1.837849</td>\n",
       "      <td>1056.360107</td>\n",
       "      <td>NaN</td>\n",
       "      <td>-2.465162</td>\n",
       "      <td>0.006407</td>\n",
       "      <td>9.194759</td>\n",
       "      <td>2.013410</td>\n",
       "      <td>0.781679</td>\n",
       "      <td>-24.888708</td>\n",
       "      <td>2.219676</td>\n",
       "      <td>0.007496</td>\n",
       "      <td>37.345211</td>\n",
       "    </tr>\n",
       "    <tr>\n",
       "      <th>2</th>\n",
       "      <td>-83.475982</td>\n",
       "      <td>35.635781</td>\n",
       "      <td>1056.382446</td>\n",
       "      <td>1.604521</td>\n",
       "      <td>1055.762451</td>\n",
       "      <td>NaN</td>\n",
       "      <td>-3.046359</td>\n",
       "      <td>-0.004859</td>\n",
       "      <td>11.056183</td>\n",
       "      <td>1.847226</td>\n",
       "      <td>0.645388</td>\n",
       "      <td>4.589162</td>\n",
       "      <td>4.397327</td>\n",
       "      <td>0.027383</td>\n",
       "      <td>38.214260</td>\n",
       "    </tr>\n",
       "    <tr>\n",
       "      <th>3</th>\n",
       "      <td>-83.475971</td>\n",
       "      <td>35.635781</td>\n",
       "      <td>1055.739990</td>\n",
       "      <td>1.455420</td>\n",
       "      <td>1055.163208</td>\n",
       "      <td>NaN</td>\n",
       "      <td>-3.988336</td>\n",
       "      <td>-0.009978</td>\n",
       "      <td>11.257479</td>\n",
       "      <td>1.716856</td>\n",
       "      <td>0.554396</td>\n",
       "      <td>95.959244</td>\n",
       "      <td>5.586886</td>\n",
       "      <td>0.012240</td>\n",
       "      <td>38.864170</td>\n",
       "    </tr>\n",
       "    <tr>\n",
       "      <th>4</th>\n",
       "      <td>-83.475960</td>\n",
       "      <td>35.635781</td>\n",
       "      <td>1055.149048</td>\n",
       "      <td>1.520569</td>\n",
       "      <td>1054.562622</td>\n",
       "      <td>NaN</td>\n",
       "      <td>-4.790978</td>\n",
       "      <td>-0.006787</td>\n",
       "      <td>12.602367</td>\n",
       "      <td>1.777599</td>\n",
       "      <td>0.600772</td>\n",
       "      <td>114.432243</td>\n",
       "      <td>5.588508</td>\n",
       "      <td>0.021399</td>\n",
       "      <td>39.462250</td>\n",
       "    </tr>\n",
       "  </tbody>\n",
       "</table>\n",
       "</div>"
      ],
      "text/plain": [
       "           x          y          ned  chimney_aspect  chimney_chanel_base  \\\n",
       "0 -83.476004  35.635781  1058.294678        1.826899          1056.955078   \n",
       "1 -83.475993  35.635781  1057.244141        1.837849          1056.360107   \n",
       "2 -83.475982  35.635781  1056.382446        1.604521          1055.762451   \n",
       "3 -83.475971  35.635781  1055.739990        1.455420          1055.163208   \n",
       "4 -83.475960  35.635781  1055.149048        1.520569          1054.562622   \n",
       "\n",
       "   chimney_closed_depresion  chimney_convergence  chimney_hcurv  \\\n",
       "0                       NaN            -2.291341       0.009387   \n",
       "1                       NaN            -2.465162       0.006407   \n",
       "2                       NaN            -3.046359      -0.004859   \n",
       "3                       NaN            -3.988336      -0.009978   \n",
       "4                       NaN            -4.790978      -0.006787   \n",
       "\n",
       "   chimney_lsfactor  chimney_shade  chimney_slope  chimney_total_catch_area  \\\n",
       "0          9.584755       2.002090       0.780157                  0.275406   \n",
       "1          9.194759       2.013410       0.781679                -24.888708   \n",
       "2         11.056183       1.847226       0.645388                  4.589162   \n",
       "3         11.257479       1.716856       0.554396                 95.959244   \n",
       "4         12.602367       1.777599       0.600772                114.432243   \n",
       "\n",
       "   chimney_twi  chimney_vcurv  chimney_vlley_depth  \n",
       "0     2.478895      -0.078441            36.287308  \n",
       "1     2.219676       0.007496            37.345211  \n",
       "2     4.397327       0.027383            38.214260  \n",
       "3     5.586886       0.012240            38.864170  \n",
       "4     5.588508       0.021399            39.462250  "
      ]
     },
     "execution_count": 3,
     "metadata": {},
     "output_type": "execute_result"
    }
   ],
   "source": [
    "ned1.head()"
   ]
  },
  {
   "cell_type": "code",
   "execution_count": null,
   "metadata": {},
   "outputs": [
    {
     "data": {
      "text/html": [
       "<div>\n",
       "<style scoped>\n",
       "    .dataframe tbody tr th:only-of-type {\n",
       "        vertical-align: middle;\n",
       "    }\n",
       "\n",
       "    .dataframe tbody tr th {\n",
       "        vertical-align: top;\n",
       "    }\n",
       "\n",
       "    .dataframe thead th {\n",
       "        text-align: right;\n",
       "    }\n",
       "</style>\n",
       "<table border=\"1\" class=\"dataframe\">\n",
       "  <thead>\n",
       "    <tr style=\"text-align: right;\">\n",
       "      <th></th>\n",
       "      <th>x</th>\n",
       "      <th>y</th>\n",
       "      <th>ned</th>\n",
       "      <th>chimney_aspect</th>\n",
       "      <th>chimney_chanel_base</th>\n",
       "      <th>chimney_closed_depresion</th>\n",
       "      <th>chimney_convergence</th>\n",
       "      <th>chimney_hcurv</th>\n",
       "      <th>chimney_lsfactor</th>\n",
       "      <th>chimney_shade</th>\n",
       "      <th>chimney_slope</th>\n",
       "      <th>chimney_total_catch_area</th>\n",
       "      <th>chimney_twi</th>\n",
       "      <th>chimney_vcurv</th>\n",
       "      <th>chimney_vlley_depth</th>\n",
       "    </tr>\n",
       "  </thead>\n",
       "  <tbody>\n",
       "    <tr>\n",
       "      <th>0</th>\n",
       "      <td>-83.476004</td>\n",
       "      <td>35.635781</td>\n",
       "      <td>1058.294678</td>\n",
       "      <td>1.826899</td>\n",
       "      <td>1056.955078</td>\n",
       "      <td>NaN</td>\n",
       "      <td>-2.291341</td>\n",
       "      <td>0.009387</td>\n",
       "      <td>9.584755</td>\n",
       "      <td>2.002090</td>\n",
       "      <td>0.780157</td>\n",
       "      <td>0.275406</td>\n",
       "      <td>2.478895</td>\n",
       "      <td>-0.078441</td>\n",
       "      <td>36.287308</td>\n",
       "    </tr>\n",
       "    <tr>\n",
       "      <th>1</th>\n",
       "      <td>-83.475993</td>\n",
       "      <td>35.635781</td>\n",
       "      <td>1057.244141</td>\n",
       "      <td>1.837849</td>\n",
       "      <td>1056.360107</td>\n",
       "      <td>NaN</td>\n",
       "      <td>-2.465162</td>\n",
       "      <td>0.006407</td>\n",
       "      <td>9.194759</td>\n",
       "      <td>2.013410</td>\n",
       "      <td>0.781679</td>\n",
       "      <td>-24.888708</td>\n",
       "      <td>2.219676</td>\n",
       "      <td>0.007496</td>\n",
       "      <td>37.345211</td>\n",
       "    </tr>\n",
       "    <tr>\n",
       "      <th>2</th>\n",
       "      <td>-83.475982</td>\n",
       "      <td>35.635781</td>\n",
       "      <td>1056.382446</td>\n",
       "      <td>1.604521</td>\n",
       "      <td>1055.762451</td>\n",
       "      <td>NaN</td>\n",
       "      <td>-3.046359</td>\n",
       "      <td>-0.004859</td>\n",
       "      <td>11.056183</td>\n",
       "      <td>1.847226</td>\n",
       "      <td>0.645388</td>\n",
       "      <td>4.589162</td>\n",
       "      <td>4.397327</td>\n",
       "      <td>0.027383</td>\n",
       "      <td>38.214260</td>\n",
       "    </tr>\n",
       "    <tr>\n",
       "      <th>3</th>\n",
       "      <td>-83.475971</td>\n",
       "      <td>35.635781</td>\n",
       "      <td>1055.739990</td>\n",
       "      <td>1.455420</td>\n",
       "      <td>1055.163208</td>\n",
       "      <td>NaN</td>\n",
       "      <td>-3.988336</td>\n",
       "      <td>-0.009978</td>\n",
       "      <td>11.257479</td>\n",
       "      <td>1.716856</td>\n",
       "      <td>0.554396</td>\n",
       "      <td>95.959244</td>\n",
       "      <td>5.586886</td>\n",
       "      <td>0.012240</td>\n",
       "      <td>38.864170</td>\n",
       "    </tr>\n",
       "    <tr>\n",
       "      <th>4</th>\n",
       "      <td>-83.475960</td>\n",
       "      <td>35.635781</td>\n",
       "      <td>1055.149048</td>\n",
       "      <td>1.520569</td>\n",
       "      <td>1054.562622</td>\n",
       "      <td>NaN</td>\n",
       "      <td>-4.790978</td>\n",
       "      <td>-0.006787</td>\n",
       "      <td>12.602367</td>\n",
       "      <td>1.777599</td>\n",
       "      <td>0.600772</td>\n",
       "      <td>114.432243</td>\n",
       "      <td>5.588508</td>\n",
       "      <td>0.021399</td>\n",
       "      <td>39.462250</td>\n",
       "    </tr>\n",
       "  </tbody>\n",
       "</table>\n",
       "</div>"
      ],
      "text/plain": [
       "           x          y          ned  chimney_aspect  chimney_chanel_base  \\\n",
       "0 -83.476004  35.635781  1058.294678        1.826899          1056.955078   \n",
       "1 -83.475993  35.635781  1057.244141        1.837849          1056.360107   \n",
       "2 -83.475982  35.635781  1056.382446        1.604521          1055.762451   \n",
       "3 -83.475971  35.635781  1055.739990        1.455420          1055.163208   \n",
       "4 -83.475960  35.635781  1055.149048        1.520569          1054.562622   \n",
       "\n",
       "   chimney_closed_depresion  chimney_convergence  chimney_hcurv  \\\n",
       "0                       NaN            -2.291341       0.009387   \n",
       "1                       NaN            -2.465162       0.006407   \n",
       "2                       NaN            -3.046359      -0.004859   \n",
       "3                       NaN            -3.988336      -0.009978   \n",
       "4                       NaN            -4.790978      -0.006787   \n",
       "\n",
       "   chimney_lsfactor  chimney_shade  chimney_slope  chimney_total_catch_area  \\\n",
       "0          9.584755       2.002090       0.780157                  0.275406   \n",
       "1          9.194759       2.013410       0.781679                -24.888708   \n",
       "2         11.056183       1.847226       0.645388                  4.589162   \n",
       "3         11.257479       1.716856       0.554396                 95.959244   \n",
       "4         12.602367       1.777599       0.600772                114.432243   \n",
       "\n",
       "   chimney_twi  chimney_vcurv  chimney_vlley_depth  \n",
       "0     2.478895      -0.078441            36.287308  \n",
       "1     2.219676       0.007496            37.345211  \n",
       "2     4.397327       0.027383            38.214260  \n",
       "3     5.586886       0.012240            38.864170  \n",
       "4     5.588508       0.021399            39.462250  "
      ]
     },
     "execution_count": 4,
     "metadata": {},
     "output_type": "execute_result"
    }
   ],
   "source": [
    "ned1.head()"
   ]
  },
  {
   "cell_type": "code",
   "execution_count": null,
   "metadata": {},
   "outputs": [],
   "source": [
    "ned1.to_csv('AllParameters.csv',index=False,header=True)"
   ]
  },
  {
   "cell_type": "code",
   "execution_count": null,
   "metadata": {},
   "outputs": [],
   "source": [
    "evaluation = ned1[['x','y','ned','chimney_aspect','chimney_slope','chimney_twi']]"
   ]
  },
  {
   "cell_type": "code",
   "execution_count": null,
   "metadata": {},
   "outputs": [],
   "source": [
    "evaluation.head()"
   ]
  },
  {
   "cell_type": "markdown",
   "metadata": {},
   "source": [
    "# Rename the columns\n"
   ]
  },
  {
   "cell_type": "code",
   "execution_count": null,
   "metadata": {},
   "outputs": [],
   "source": [
    "evaluation = evaluation.rename(columns={\"ned\": \"CONUSDEM1km\", \"chimney_aspect\": \"Aspect\", \"chimney_slope\": \"Slope\", \"chimney_twi\":\"TopographicWetnessIndex\"})"
   ]
  },
  {
   "cell_type": "markdown",
   "metadata": {},
   "source": [
    "# Dropping NaN cells"
   ]
  },
  {
   "cell_type": "code",
   "execution_count": null,
   "metadata": {},
   "outputs": [],
   "source": [
    "evaluation.dropna()"
   ]
  },
  {
   "cell_type": "code",
   "execution_count": null,
   "metadata": {},
   "outputs": [],
   "source": [
    "evaluation.info()"
   ]
  },
  {
   "cell_type": "code",
   "execution_count": null,
   "metadata": {},
   "outputs": [],
   "source": [
    "evaluation.to_csv('evaluation.csv',index=False,header=True)"
   ]
  },
  {
   "cell_type": "code",
   "execution_count": null,
   "metadata": {},
   "outputs": [],
   "source": [
    "!head evaluation.csv"
   ]
  },
  {
   "cell_type": "markdown",
   "metadata": {},
   "source": [
    "# Studying Soil Moisture File "
   ]
  },
  {
   "cell_type": "code",
   "execution_count": null,
   "metadata": {},
   "outputs": [],
   "source": [
    "soil_moisture = pd.read_csv('soil_moisture.csv', names = ['x','y','Moisture'])"
   ]
  },
  {
   "cell_type": "code",
   "execution_count": null,
   "metadata": {},
   "outputs": [],
   "source": [
    "soil_moisture['Elevation'] = evaluation['CONUSDEM1km']"
   ]
  },
  {
   "cell_type": "code",
   "execution_count": null,
   "metadata": {},
   "outputs": [],
   "source": [
    "soil_moisture.to_csv('Soil_MOisture_and_elevation.csv',index=False,header=True)\n"
   ]
  },
  {
   "cell_type": "code",
   "execution_count": null,
   "metadata": {},
   "outputs": [],
   "source": [
    "!head Soil_MOisture_and_elevation.csv\n"
   ]
  },
  {
   "cell_type": "code",
   "execution_count": 7,
   "metadata": {},
   "outputs": [
    {
     "name": "stdout",
     "output_type": "stream",
     "text": [
      "\"x\",\"y\",\"Moisture\",\"Elevation1\"\r\n",
      "274819.113468787,3946376.73176549,0.245278753299193,910.316605194725\r\n",
      "274848.993468787,3946376.73176549,0.250658532055463,913.643553744445\r\n",
      "274849.989468787,3946376.73176549,0.23486257218988,913.454004084129\r\n",
      "274850.985468787,3946376.73176549,0.223501160376163,913.250985439296\r\n",
      "274851.981468787,3946376.73176549,0.218308241359892,913.033995447869\r\n",
      "274852.977468787,3946376.73176549,0.217772659880435,912.827896786784\r\n",
      "274853.973468787,3946376.73176549,0.215201409847897,912.546735858081\r\n",
      "274854.969468787,3946376.73176549,0.212858549255156,912.091131423367\r\n",
      "274855.965468787,3946376.73176549,0.211277761591852,911.532682181138\r\n"
     ]
    }
   ],
   "source": [
    "!head Soil_MOisture_and_elevationUTM.csv\n"
   ]
  },
  {
   "cell_type": "markdown",
   "metadata": {},
   "source": [
    "# Creating The Elevation and Soil Moisture in an UNique File"
   ]
  },
  {
   "cell_type": "code",
   "execution_count": null,
   "metadata": {},
   "outputs": [],
   "source": [
    "Soil_MOisture_and_elevationUTM = pd.read_csv('Soil_MOisture_and_elevationUTM.csv')"
   ]
  },
  {
   "cell_type": "code",
   "execution_count": null,
   "metadata": {},
   "outputs": [],
   "source": [
    "cols = Soil_MOisture_and_elevationUTM.columns.tolist()"
   ]
  },
  {
   "cell_type": "code",
   "execution_count": null,
   "metadata": {},
   "outputs": [],
   "source": [
    "cols"
   ]
  },
  {
   "cell_type": "code",
   "execution_count": null,
   "metadata": {},
   "outputs": [],
   "source": [
    "cols = cols[-2:]+cols[:-2]"
   ]
  },
  {
   "cell_type": "code",
   "execution_count": null,
   "metadata": {},
   "outputs": [],
   "source": [
    "cols"
   ]
  },
  {
   "cell_type": "code",
   "execution_count": null,
   "metadata": {},
   "outputs": [],
   "source": [
    "Soil_MOisture_and_elevationUTM = Soil_MOisture_and_elevationUTM[cols]"
   ]
  },
  {
   "cell_type": "code",
   "execution_count": null,
   "metadata": {},
   "outputs": [],
   "source": [
    "Soil_MOisture_and_elevationUTM = Soil_MOisture_and_elevationUTM.rename(columns={\"temp...3.\": \"Moisture\", \"temp...4.\": \"Elevation\"})"
   ]
  },
  {
   "cell_type": "code",
   "execution_count": null,
   "metadata": {},
   "outputs": [],
   "source": [
    "Soil_MOisture_and_elevationUTM"
   ]
  },
  {
   "cell_type": "code",
   "execution_count": null,
   "metadata": {},
   "outputs": [],
   "source": [
    "Soil_MOisture_and_elevationUTM.to_csv('Soil_MOisture_and_elevationUTM.csv',index=False)\n"
   ]
  },
  {
   "cell_type": "code",
   "execution_count": null,
   "metadata": {},
   "outputs": [],
   "source": [
    "Soil_MOisture_and_elevationUTM = pd.read_csv('Soil_MOisture_and_elevationUTM.csv')\n"
   ]
  },
  {
   "cell_type": "code",
   "execution_count": null,
   "metadata": {},
   "outputs": [],
   "source": [
    "Soil_MOisture_and_elevationUTM['x'].min()\n"
   ]
  },
  {
   "cell_type": "markdown",
   "metadata": {},
   "source": [
    "# Traslating to the Origin"
   ]
  },
  {
   "cell_type": "code",
   "execution_count": null,
   "metadata": {},
   "outputs": [],
   "source": [
    "Soil_MOisture_and_elevationUTM[['x','y']] = Soil_MOisture_and_elevationUTM[['x','y']].round()"
   ]
  },
  {
   "cell_type": "code",
   "execution_count": null,
   "metadata": {},
   "outputs": [],
   "source": [
    " Soil_MOisture_and_elevationUTM['x'] = Soil_MOisture_and_elevationUTM['x'] - Soil_MOisture_and_elevationUTM['x'].min() + 1"
   ]
  },
  {
   "cell_type": "code",
   "execution_count": null,
   "metadata": {},
   "outputs": [],
   "source": [
    "Soil_MOisture_and_elevationUTM['y'] = Soil_MOisture_and_elevationUTM['y'] - Soil_MOisture_and_elevationUTM['y'].min() + 1"
   ]
  },
  {
   "cell_type": "code",
   "execution_count": null,
   "metadata": {},
   "outputs": [],
   "source": [
    "Soil_MOisture_and_elevationUTM"
   ]
  },
  {
   "cell_type": "code",
   "execution_count": null,
   "metadata": {},
   "outputs": [],
   "source": [
    "Soil_MOisture_and_elevationUTM.to_csv('Soil_MOisture_and_elevationUTM_Traslated.csv',index=False)\n"
   ]
  },
  {
   "cell_type": "code",
   "execution_count": null,
   "metadata": {},
   "outputs": [],
   "source": [
    "!head Soil_MOisture_and_elevationUTM_Traslated.csv"
   ]
  },
  {
   "cell_type": "code",
   "execution_count": null,
   "metadata": {},
   "outputs": [],
   "source": [
    "275318.93 -  274818.117468787"
   ]
  },
  {
   "cell_type": "code",
   "execution_count": null,
   "metadata": {},
   "outputs": [],
   "source": [
    "3945875.87-Soil_MOisture_and_elevationUTM['y'].min()"
   ]
  },
  {
   "cell_type": "code",
   "execution_count": null,
   "metadata": {},
   "outputs": [],
   "source": []
  }
 ],
 "metadata": {
  "kernelspec": {
   "display_name": "Python 3",
   "language": "python",
   "name": "python3"
  },
  "language_info": {
   "codemirror_mode": {
    "name": "ipython",
    "version": 3
   },
   "file_extension": ".py",
   "mimetype": "text/x-python",
   "name": "python",
   "nbconvert_exporter": "python",
   "pygments_lexer": "ipython3",
   "version": "3.6.4"
  }
 },
 "nbformat": 4,
 "nbformat_minor": 2
}

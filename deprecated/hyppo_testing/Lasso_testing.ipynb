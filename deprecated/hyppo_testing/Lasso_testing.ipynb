{
 "cells": [
  {
   "cell_type": "code",
   "execution_count": 2,
   "metadata": {},
   "outputs": [],
   "source": [
    "import numpy as np\n",
    "### https://scikit-learn.org/stable/modules/generated/sklearn.linear_model.Lasso.html\n",
    "from sklearn.linear_model import Lasso"
   ]
  },
  {
   "cell_type": "code",
   "execution_count": 53,
   "metadata": {},
   "outputs": [
    {
     "name": "stdout",
     "output_type": "stream",
     "text": [
      "--- Dense matrices\n",
      "Sparse Lasso done in 0.979198s\n",
      "Dense Lasso done in 0.826327s\n",
      "Distance between coefficients : 5.126694888601266e-11\n",
      "1893 1893\n"
     ]
    }
   ],
   "source": [
    "#https://scikit-learn.org/stable/auto_examples/linear_model/plot_lasso_dense_vs_sparse_data.html#sphx-glr-auto-examples-linear-model-plot-lasso-dense-vs-sparse-data-py\n",
    "\n",
    "from time import time\n",
    "from scipy import sparse\n",
    "from scipy import linalg\n",
    "\n",
    "from sklearn.datasets.samples_generator import make_regression\n",
    "from sklearn.linear_model import Lasso\n",
    "\n",
    "from math import log\n",
    "\n",
    "\n",
    "# #############################################################################\n",
    "# The two Lasso implementations on Dense data\n",
    "print(\"--- Dense matrices\")\n",
    "\n",
    "X, y = make_regression(n_samples=200, n_features=5000, random_state=0)\n",
    "X_sp = sparse.coo_matrix(X)\n",
    "\n",
    "def alpha_test(X, y, target, effort=5):\n",
    "    Low = 1\n",
    "    alpha = 1\n",
    "    High = 1\n",
    "    lassy = Lasso(alpha=alpha, fit_intercept=False, max_iter=10**effort)\n",
    "    coef = np.count_nonzero(lassy.fit(X,y).coef_)\n",
    "    while coef != target:\n",
    "        if coef < target:\n",
    "            # Alpha needs to shrink to allow more coefficients\n",
    "            High = alpha\n",
    "            if alpha > Low:\n",
    "                alpha = (alpha + Low)/2\n",
    "            else:\n",
    "                alpha /= 2\n",
    "                Low = alpha\n",
    "        else:\n",
    "            # Alpha needs to grow to restrict the number of coefficients\n",
    "            Low = alpha\n",
    "            if alpha < High:\n",
    "                alpha = (alpha + High)/2\n",
    "            else:\n",
    "                alpha *= 3\n",
    "                High = alpha\n",
    "            \n",
    "        if abs(log(abs(Low-High))) > 2*effort:\n",
    "            print(f\"With {coef} nonzero coefficients instead of {target}, we give up!\")\n",
    "            break\n",
    "        lassy = Lasso(alpha=alpha, fit_intercept=False, max_iter=10**effort)\n",
    "        coef = np.count_nonzero(lassy.fit(X,y).coef_)\n",
    "    return alpha\n",
    "\n",
    "sparse_lasso = Lasso(alpha=alpha, fit_intercept=False, max_iter=1000)\n",
    "dense_lasso = Lasso(alpha=alpha, fit_intercept=False, max_iter=1000)\n",
    "\n",
    "t0 = time()\n",
    "splasso = sparse_lasso.fit(X_sp, y)\n",
    "print(\"Sparse Lasso done in %fs\" % (time() - t0))\n",
    "\n",
    "t0 = time()\n",
    "delasso = dense_lasso.fit(X, y)\n",
    "print(\"Dense Lasso done in %fs\" % (time() - t0))\n",
    "\n",
    "print(\"Distance between coefficients : %s\"\n",
    "      % linalg.norm(sparse_lasso.coef_ - dense_lasso.coef_))\n",
    "\n",
    "\n",
    "A = [coef for coef in splasso.coef_ if coef]\n",
    "print(np.count_nonzero(splasso.coef_), np.count_nonzero(delasso.coef_))"
   ]
  },
  {
   "cell_type": "code",
   "execution_count": 57,
   "metadata": {},
   "outputs": [
    {
     "name": "stdout",
     "output_type": "stream",
     "text": [
      "1 96.1875\n",
      "2 91.125\n",
      "3 81\n",
      "4 60.64453125\n",
      "5 57.375\n",
      "6 54.0\n",
      "7 47.25\n",
      "8 46.40625\n",
      "9 27\n",
      "10 1\n",
      "11 0.008880615234375\n"
     ]
    }
   ],
   "source": [
    "for target in range(1,12):\n",
    "    print(target, alpha_test(X, y, target, effort=6))"
   ]
  },
  {
   "cell_type": "code",
   "execution_count": null,
   "metadata": {},
   "outputs": [],
   "source": []
  },
  {
   "cell_type": "code",
   "execution_count": 9,
   "metadata": {},
   "outputs": [
    {
     "name": "stdout",
     "output_type": "stream",
     "text": [
      "3\n"
     ]
    },
    {
     "data": {
      "text/plain": [
       "(8, 4)"
      ]
     },
     "execution_count": 9,
     "metadata": {},
     "output_type": "execute_result"
    }
   ],
   "source": [
    "import numpy as np\n",
    "\n",
    "matrix = np.array(\n",
    "    [\n",
    "        [0, 1 ,0 ,0],\n",
    "        [0, 0, 1, 0],\n",
    "        [0, 1, 1, 0],\n",
    "        [0, 1, 1, 0],\n",
    "        [0, 1, 1, 0],\n",
    "        [0, 1, 1, 0],\n",
    "        [0, 1, 2, 0],\n",
    "        [1, 0, 0, 1]\n",
    "    ])\n",
    "\n",
    "print(np.linalg.matrix_rank(matrix))\n",
    "matrix.shape"
   ]
  },
  {
   "cell_type": "code",
   "execution_count": 22,
   "metadata": {},
   "outputs": [
    {
     "name": "stdout",
     "output_type": "stream",
     "text": [
      "(8, 4)\n"
     ]
    },
    {
     "data": {
      "text/html": [
       "<div>\n",
       "<style scoped>\n",
       "    .dataframe tbody tr th:only-of-type {\n",
       "        vertical-align: middle;\n",
       "    }\n",
       "\n",
       "    .dataframe tbody tr th {\n",
       "        vertical-align: top;\n",
       "    }\n",
       "\n",
       "    .dataframe thead th {\n",
       "        text-align: right;\n",
       "    }\n",
       "</style>\n",
       "<table border=\"1\" class=\"dataframe\">\n",
       "  <thead>\n",
       "    <tr style=\"text-align: right;\">\n",
       "      <th></th>\n",
       "      <th>1</th>\n",
       "      <th>3</th>\n",
       "    </tr>\n",
       "  </thead>\n",
       "  <tbody>\n",
       "    <tr>\n",
       "      <th>0</th>\n",
       "      <td>1</td>\n",
       "      <td>0</td>\n",
       "    </tr>\n",
       "    <tr>\n",
       "      <th>1</th>\n",
       "      <td>0</td>\n",
       "      <td>0</td>\n",
       "    </tr>\n",
       "    <tr>\n",
       "      <th>2</th>\n",
       "      <td>1</td>\n",
       "      <td>0</td>\n",
       "    </tr>\n",
       "    <tr>\n",
       "      <th>3</th>\n",
       "      <td>1</td>\n",
       "      <td>0</td>\n",
       "    </tr>\n",
       "    <tr>\n",
       "      <th>4</th>\n",
       "      <td>1</td>\n",
       "      <td>0</td>\n",
       "    </tr>\n",
       "    <tr>\n",
       "      <th>5</th>\n",
       "      <td>1</td>\n",
       "      <td>0</td>\n",
       "    </tr>\n",
       "    <tr>\n",
       "      <th>6</th>\n",
       "      <td>1</td>\n",
       "      <td>0</td>\n",
       "    </tr>\n",
       "    <tr>\n",
       "      <th>7</th>\n",
       "      <td>0</td>\n",
       "      <td>1</td>\n",
       "    </tr>\n",
       "  </tbody>\n",
       "</table>\n",
       "</div>"
      ],
      "text/plain": [
       "   1  3\n",
       "0  1  0\n",
       "1  0  0\n",
       "2  1  0\n",
       "3  1  0\n",
       "4  1  0\n",
       "5  1  0\n",
       "6  1  0\n",
       "7  0  1"
      ]
     },
     "execution_count": 22,
     "metadata": {},
     "output_type": "execute_result"
    }
   ],
   "source": [
    "import pandas as pd\n",
    "df = pd.DataFrame(matrix)\n",
    "print(df.shape)\n",
    "cols = [i for i in range(df.shape[1]) if [0,1,0,1][i]]\n",
    "df[cols]"
   ]
  },
  {
   "cell_type": "code",
   "execution_count": null,
   "metadata": {},
   "outputs": [],
   "source": []
  }
 ],
 "metadata": {
  "kernelspec": {
   "display_name": "Python 3",
   "language": "python",
   "name": "python3"
  },
  "language_info": {
   "codemirror_mode": {
    "name": "ipython",
    "version": 3
   },
   "file_extension": ".py",
   "mimetype": "text/x-python",
   "name": "python",
   "nbconvert_exporter": "python",
   "pygments_lexer": "ipython3",
   "version": "3.6.4"
  }
 },
 "nbformat": 4,
 "nbformat_minor": 2
}

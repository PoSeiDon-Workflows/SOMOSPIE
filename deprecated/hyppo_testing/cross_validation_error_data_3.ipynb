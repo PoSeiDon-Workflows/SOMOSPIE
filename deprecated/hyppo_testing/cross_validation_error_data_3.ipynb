{
 "cells": [
  {
   "cell_type": "code",
   "execution_count": 1,
   "metadata": {},
   "outputs": [],
   "source": [
    "import pandas as pd\n",
    "import numpy as np\n"
   ]
  },
  {
   "cell_type": "code",
   "execution_count": 5,
   "metadata": {},
   "outputs": [],
   "source": [
    "# reader'n'plotter\n",
    "def read_n_plot(csv_path, max_deg=4):\n",
    "    df = pd.read_csv(csv_path, header=None)\n",
    "    print(f\"column maxes: {[max(df[col]) for col in df.columns]}\")\n",
    "    print(df.head(3))\n",
    "    dfi = df.transpose()\n",
    "    #dfi.reset_index(inplace=True, drop=True)\n",
    "    #plot = dfi.plot(logy=True, figsize=(4,5), xticks=range(max_deg + 1))\n",
    "    #plot.set_ylim(top=10**0.1, bottom=10**(-2.8))\n",
    "    #plot.get_legend().remove()\n",
    "    #plot.get_figure()\n",
    "    \n",
    "    df = df.applymap(np.log10)\n",
    "    plotwo = df.boxplot(figsize=(4,5))\n",
    "    plotwo.set_ylim(top=1.5, bottom=-3)\n",
    "    plotwo.get_figure()\n",
    "    \n",
    "    choices = df.apply(pd.Series.argmin, axis=1)\n",
    "    #print(choices.head())\n",
    "    print(choices.value_counts())\n",
    "    "
   ]
  },
  {
   "cell_type": "code",
   "execution_count": null,
   "metadata": {},
   "outputs": [],
   "source": []
  },
  {
   "cell_type": "code",
   "execution_count": 54,
   "metadata": {
    "scrolled": false
   },
   "outputs": [
    {
     "name": "stdout",
     "output_type": "stream",
     "text": [
      "column maxes: [0.07578542361712244, 0.09898717869340523, 0.2953315175475127, 1024.4790818890945, 1024.6088098920657, 91068.15610772194]\n",
      "          0         1         2         3         4         5\n",
      "0  0.009898  0.016105  0.007231  0.110286  0.573958  0.266537\n",
      "1  0.008584  0.005806  0.015125  0.249930  0.188197  0.438418\n",
      "2  0.010296  0.004627  0.015373  0.207919  0.108623  0.221207\n",
      "0    219\n",
      "1    110\n",
      "2     64\n",
      "dtype: int64\n"
     ]
    },
    {
     "name": "stderr",
     "output_type": "stream",
     "text": [
      "/opt/anaconda3/lib/python3.6/site-packages/pandas/core/frame.py:4933: FutureWarning: 'argmin' is deprecated. Use 'idxmin' instead. The behavior of 'argmin' will be corrected to return the positional minimum in the future. Use 'series.values.argmin' to get the position of the minimum now.\n",
      "  labels=labels)\n"
     ]
    },
    {
     "data": {
      "image/png": "[encoded data removed]",
      "text/plain": [
       "<matplotlib.figure.Figure at 0x7f7e2b3336a0>"
      ]
     },
     "metadata": {},
     "output_type": "display_data"
    }
   ],
   "source": [
    "# 2019 Nov 6\n",
    "# ./hypppo5.py train.csv -e EVAL.csv -k 10 -D 5 -L 1 -l log.log -E k10_D5.err\n",
    "file = \"k10_D5.err\"\n",
    "read_n_plot(file, 5)"
   ]
  },
  {
   "cell_type": "code",
   "execution_count": 55,
   "metadata": {
    "scrolled": false
   },
   "outputs": [
    {
     "name": "stdout",
     "output_type": "stream",
     "text": [
      "column maxes: [0.07578542361712244, 0.08830965026375133, 0.24674328939107465, 0.19878919046713128, 0.5058886370628098, 47.6435578036963]\n",
      "          0         1         2         3         4         5\n",
      "0  0.009898  0.016105  0.007231  0.008647  0.008360  0.015407\n",
      "1  0.008584  0.005806  0.015125  0.006234  0.004975  0.007304\n",
      "2  0.010296  0.004627  0.015373  0.010083  0.009606  0.010674\n",
      "0    8\n",
      "1    6\n",
      "2    5\n",
      "4    3\n",
      "3    3\n",
      "dtype: int64\n"
     ]
    },
    {
     "name": "stderr",
     "output_type": "stream",
     "text": [
      "/opt/anaconda3/lib/python3.6/site-packages/pandas/core/frame.py:4933: FutureWarning: 'argmin' is deprecated. Use 'idxmin' instead. The behavior of 'argmin' will be corrected to return the positional minimum in the future. Use 'series.values.argmin' to get the position of the minimum now.\n",
      "  labels=labels)\n"
     ]
    },
    {
     "data": {
      "image/png": "[encoded data removed]",
      "text/plain": [
       "<matplotlib.figure.Figure at 0x7f7e294467f0>"
      ]
     },
     "metadata": {},
     "output_type": "display_data"
    }
   ],
   "source": [
    "# 2019 Nov 6\n",
    "# ./hypppo5.py train.csv -e EVal.csv -k 10 -D 5 -L 1 -l log.log -E k10_D5.force_linear\n",
    "file = \"k10_D5.force_linear\"\n",
    "read_n_plot(file, 5)"
   ]
  },
  {
   "cell_type": "code",
   "execution_count": 56,
   "metadata": {},
   "outputs": [
    {
     "name": "stdout",
     "output_type": "stream",
     "text": [
      "column maxes: [0.07578542361712241, 0.09898717869340527, 0.2953315175475203, 0.21618129280448325, 1.0930201597438771, 47.643557800945175]\n",
      "          0         1         2         3         4         5\n",
      "0  0.009898  0.016105  0.007231  0.008647  0.008360  0.015407\n",
      "1  0.008584  0.005806  0.015125  0.006234  0.004975  0.007304\n",
      "2  0.010296  0.004627  0.015373  0.010083  0.009606  0.010674\n",
      "0    188\n",
      "1    101\n",
      "2     45\n",
      "3     29\n",
      "4     19\n",
      "5     11\n",
      "dtype: int64\n"
     ]
    },
    {
     "name": "stderr",
     "output_type": "stream",
     "text": [
      "/opt/anaconda3/lib/python3.6/site-packages/pandas/core/frame.py:4933: FutureWarning: 'argmin' is deprecated. Use 'idxmin' instead. The behavior of 'argmin' will be corrected to return the positional minimum in the future. Use 'series.values.argmin' to get the position of the minimum now.\n",
      "  labels=labels)\n"
     ]
    },
    {
     "data": {
      "image/png": "[encoded data removed]",
      "text/plain": [
       "<matplotlib.figure.Figure at 0x7f7e286a75c0>"
      ]
     },
     "metadata": {},
     "output_type": "display_data"
    }
   ],
   "source": [
    "# 2019 Nov 6\n",
    "# ./hypppo5.py train.csv -e EVAL.csv -k 10 -D 5 -L 1 -E eEVAL_k10_D5.force_linear\n",
    "file = \"eEVAL_k10_D5.force_linear\"\n",
    "read_n_plot(file, 5)"
   ]
  },
  {
   "cell_type": "code",
   "execution_count": 5,
   "metadata": {},
   "outputs": [
    {
     "name": "stdout",
     "output_type": "stream",
     "text": [
      "column maxes: [0.07578542361712239, 0.09898717869340537, 1024.0595249949577, 12917.155505294566, 79024.0998152577, 95259258.07899883]\n",
      "          0         1         2         3         4         5\n",
      "0  0.009898  0.016105  0.007231  0.014200  0.016664  0.980266\n",
      "1  0.008584  0.005806  0.015125  0.019489  0.014548  0.016399\n",
      "2  0.010296  0.004627  0.015373  0.374398  0.046638  0.059080\n",
      "0    217\n",
      "1    105\n",
      "2     58\n",
      "3     12\n",
      "4      1\n",
      "dtype: int64\n"
     ]
    },
    {
     "name": "stderr",
     "output_type": "stream",
     "text": [
      "/opt/anaconda3/lib/python3.6/site-packages/pandas/core/frame.py:4933: FutureWarning: 'argmin' is deprecated. Use 'idxmin' instead. The behavior of 'argmin' will be corrected to return the positional minimum in the future. Use 'series.values.argmin' to get the position of the minimum now.\n",
      "  labels=labels)\n"
     ]
    },
    {
     "data": {
      "image/png": "[encoded data removed]",
      "text/plain": [
       "<matplotlib.figure.Figure at 0x7f67da872d30>"
      ]
     },
     "metadata": {},
     "output_type": "display_data"
    }
   ],
   "source": [
    "# 2019 Nov 7\n",
    "# ./hypppo6.py train.csv -e EVAL.csv -D5 -k10 -R1 -ERand.err\n",
    "file = \"Rand.err\"\n",
    "read_n_plot(file, 5)"
   ]
  },
  {
   "cell_type": "code",
   "execution_count": 4,
   "metadata": {},
   "outputs": [
    {
     "name": "stdout",
     "output_type": "stream",
     "text": [
      "column maxes: [0.07578542361712244, 0.07905623492354909, 9999.052510800491, 58.85292641065707, 190.87066473375737]\n",
      "          0         1         2         3          4\n",
      "0  0.009898  0.016105  0.007231  1.691159  13.882674\n",
      "1  0.008584  0.005806  0.015125  4.162192   1.775973\n",
      "2  0.010296  0.004627  0.015373  6.759417   3.425368\n",
      "0    8\n",
      "1    6\n",
      "2    4\n",
      "dtype: int64\n"
     ]
    },
    {
     "name": "stderr",
     "output_type": "stream",
     "text": [
      "/opt/anaconda3/lib/python3.6/site-packages/pandas/core/frame.py:4933: FutureWarning: 'argmin' is deprecated. Use 'idxmin' instead. The behavior of 'argmin' will be corrected to return the positional minimum in the future. Use 'series.values.argmin' to get the position of the minimum now.\n",
      "  labels=labels)\n"
     ]
    },
    {
     "data": {
      "image/png": "[encoded data removed]",
      "text/plain": [
       "<matplotlib.figure.Figure at 0x7fbe9d559080>"
      ]
     },
     "metadata": {},
     "output_type": "display_data"
    }
   ],
   "source": [
    "# 2019 Nov 18\n",
    "# ./hypppo6.py train.csv -e eval.csv -R5 -Edump5.err\n",
    "file = \"dump5.err\"\n",
    "read_n_plot(file, 4)"
   ]
  },
  {
   "cell_type": "code",
   "execution_count": 5,
   "metadata": {},
   "outputs": [
    {
     "name": "stdout",
     "output_type": "stream",
     "text": [
      "column maxes: [0.07578542361712244, 0.07905623492354913, 9999.052510800491, 109.94005579189137, 82.14449367373008]\n",
      "          0         1         2         3         4\n",
      "0  0.009898  0.016105  0.007231  0.393845  0.732163\n",
      "1  0.008584  0.005806  0.015125  0.780540  0.492289\n",
      "2  0.010296  0.004627  0.015373  0.829072  0.442970\n",
      "0    8\n",
      "1    6\n",
      "2    4\n",
      "dtype: int64\n"
     ]
    },
    {
     "name": "stderr",
     "output_type": "stream",
     "text": [
      "/opt/anaconda3/lib/python3.6/site-packages/pandas/core/frame.py:4933: FutureWarning: 'argmin' is deprecated. Use 'idxmin' instead. The behavior of 'argmin' will be corrected to return the positional minimum in the future. Use 'series.values.argmin' to get the position of the minimum now.\n",
      "  labels=labels)\n"
     ]
    },
    {
     "data": {
      "image/png": "[encoded data removed]",
      "text/plain": [
       "<matplotlib.figure.Figure at 0x7fbe9d559780>"
      ]
     },
     "metadata": {},
     "output_type": "display_data"
    }
   ],
   "source": [
    "# 2019 Nov 18\n",
    "# ./hypppo6.py train.csv -e eval.csv -R10 -Edump10.err\n",
    "file = \"dump10.err\"\n",
    "read_n_plot(file, 4)"
   ]
  },
  {
   "cell_type": "code",
   "execution_count": 6,
   "metadata": {},
   "outputs": [
    {
     "name": "stdout",
     "output_type": "stream",
     "text": [
      "column maxes: [0.0757854236171224, 0.07905623492354917, 9999.052510800491, 24.64886390853262, 8.100628103506812]\n",
      "          0         1         2         3         4\n",
      "0  0.009898  0.016105  0.007231  0.106326  0.321696\n",
      "1  0.008584  0.005806  0.015125  1.058132  0.091842\n",
      "2  0.010296  0.004627  0.015373  0.455343  0.125891\n",
      "0    8\n",
      "1    6\n",
      "2    4\n",
      "dtype: int64\n"
     ]
    },
    {
     "name": "stderr",
     "output_type": "stream",
     "text": [
      "/opt/anaconda3/lib/python3.6/site-packages/pandas/core/frame.py:4933: FutureWarning: 'argmin' is deprecated. Use 'idxmin' instead. The behavior of 'argmin' will be corrected to return the positional minimum in the future. Use 'series.values.argmin' to get the position of the minimum now.\n",
      "  labels=labels)\n"
     ]
    },
    {
     "data": {
      "image/png": "[encoded data removed]",
      "text/plain": [
       "<matplotlib.figure.Figure at 0x7fbe9d5614a8>"
      ]
     },
     "metadata": {},
     "output_type": "display_data"
    }
   ],
   "source": [
    "# 2019 Nov 18\n",
    "# ./hypppo6.py train.csv -e eval.csv -R20 -Edump20.err\n",
    "file = \"dump20.err\"\n",
    "read_n_plot(file, 4)"
   ]
  },
  {
   "cell_type": "code",
   "execution_count": 6,
   "metadata": {},
   "outputs": [
    {
     "name": "stdout",
     "output_type": "stream",
     "text": [
      "column maxes: [0.07578542361712243, 0.07905623492354914, 9999.052510800491, 6.702638439915623, 1.9061587377494256]\n",
      "          0         1         2         3         4\n",
      "0  0.009898  0.016105  0.007231  0.166126  0.044366\n",
      "1  0.008584  0.005806  0.015125  0.570122  0.043358\n",
      "2  0.010296  0.004627  0.015373  1.664869  0.019538\n",
      "0    8\n",
      "1    6\n",
      "2    4\n",
      "dtype: int64\n"
     ]
    },
    {
     "name": "stderr",
     "output_type": "stream",
     "text": [
      "/opt/anaconda3/lib/python3.6/site-packages/pandas/core/frame.py:4933: FutureWarning: 'argmin' is deprecated. Use 'idxmin' instead. The behavior of 'argmin' will be corrected to return the positional minimum in the future. Use 'series.values.argmin' to get the position of the minimum now.\n",
      "  labels=labels)\n"
     ]
    },
    {
     "data": {
      "image/png": "[encoded data removed]",
      "text/plain": [
       "<matplotlib.figure.Figure at 0x7f437f059cc0>"
      ]
     },
     "metadata": {},
     "output_type": "display_data"
    }
   ],
   "source": [
    "# 2019 Nov 18\n",
    "# ./hypppo6.py train.csv -e eval.csv -R40 -Edump40.err\n",
    "file = \"dump40.err\"\n",
    "read_n_plot(file, 4)"
   ]
  },
  {
   "cell_type": "code",
   "execution_count": 25,
   "metadata": {},
   "outputs": [
    {
     "name": "stdout",
     "output_type": "stream",
     "text": [
      "column maxes: [0.07578542361712243, 0.07905623492354913, 9999.052510800491, 0.5216592793668544, 0.12139394953760338, 0.09342688496744964]\n",
      "          0         1         2         3         4         5\n",
      "0  0.009898  0.016105  0.007231  0.004747  0.000323  0.000555\n",
      "1  0.008584  0.005806  0.015125  0.001605  0.000306  0.000412\n",
      "2  0.010296  0.004627  0.015373  0.003081  0.000949  0.001194\n",
      "5    8\n",
      "4    7\n",
      "3    2\n",
      "0    1\n",
      "dtype: int64\n",
      "column maxes: [0.07578542361712244, 0.07905623492354921, 9999.052510800491, 1.195643656073973, 0.2830080111605948, 3.566708101877272]\n",
      "          0         1         2         3         4         5\n",
      "0  0.009898  0.016105  0.007231  0.001635  0.000931  0.000315\n",
      "1  0.008584  0.005806  0.015125  0.004228  0.001624  0.002801\n",
      "2  0.010296  0.004627  0.015373  0.003188  0.001220  0.002860\n",
      "4    7\n",
      "0    4\n",
      "1    3\n",
      "5    2\n",
      "3    2\n",
      "dtype: int64\n",
      "column maxes: [0.07578542361712243, 0.07905623492354917, 9999.052510800491, 2330.128738495765, 165.30334434199713, 48.69984881593065]\n",
      "          0         1         2         3         4         5\n",
      "0  0.009898  0.016105  0.007231  0.009906  0.004504  0.016740\n",
      "1  0.008584  0.005806  0.015125  0.009592  0.003585  0.013889\n",
      "2  0.010296  0.004627  0.015373  0.004363  0.005190  0.007349\n",
      "0    5\n",
      "4    4\n",
      "1    4\n",
      "3    2\n",
      "2    2\n",
      "5    1\n",
      "dtype: int64\n",
      "column maxes: [0.07578542361712241, 0.0790562349235492, 9999.052510800491, 24.479691929895004, 0.3165107558502502]\n",
      "          0         1         2         3         4\n",
      "0  0.009898  0.016105  0.007231  0.100198  0.005255\n",
      "1  0.008584  0.005806  0.015125  0.831069  0.010606\n",
      "2  0.010296  0.004627  0.015373  0.964999  0.005270\n",
      "1    6\n",
      "4    5\n",
      "0    5\n",
      "2    2\n",
      "dtype: int64\n"
     ]
    },
    {
     "name": "stderr",
     "output_type": "stream",
     "text": [
      "/opt/anaconda3/lib/python3.6/site-packages/pandas/core/frame.py:4933: FutureWarning: 'argmin' is deprecated. Use 'idxmin' instead. The behavior of 'argmin' will be corrected to return the positional minimum in the future. Use 'series.values.argmin' to get the position of the minimum now.\n",
      "  labels=labels)\n"
     ]
    },
    {
     "data": {
      "image/png": "[encoded data removed]",
      "text/plain": [
       "<matplotlib.figure.Figure at 0x7f437e97b7b8>"
      ]
     },
     "metadata": {},
     "output_type": "display_data"
    }
   ],
   "source": [
    "# 2019 Dec 9\n",
    "# ./hypppo6.py train.csv -e eval.csv -R{#} -Edump{#}.err -D5\n",
    "for num in {3,9,27,81}:\n",
    "    file = f\"dump{num}.err\"\n",
    "    read_n_plot(file, 5)"
   ]
  },
  {
   "cell_type": "code",
   "execution_count": 26,
   "metadata": {},
   "outputs": [],
   "source": [
    "def rnp_err(num):\n",
    "    file = f\"dump{num}.err\"\n",
    "    read_n_plot(file, 5)"
   ]
  },
  {
   "cell_type": "code",
   "execution_count": 27,
   "metadata": {},
   "outputs": [
    {
     "name": "stdout",
     "output_type": "stream",
     "text": [
      "column maxes: [0.07578542361712243, 0.07905623492354917, 9999.052510800491, 2330.128738495765, 165.30334434199713, 48.69984881593065]\n",
      "          0         1         2         3         4         5\n",
      "0  0.009898  0.016105  0.007231  0.009906  0.004504  0.016740\n",
      "1  0.008584  0.005806  0.015125  0.009592  0.003585  0.013889\n",
      "2  0.010296  0.004627  0.015373  0.004363  0.005190  0.007349\n",
      "0    5\n",
      "4    4\n",
      "1    4\n",
      "3    2\n",
      "2    2\n",
      "5    1\n",
      "dtype: int64\n"
     ]
    },
    {
     "name": "stderr",
     "output_type": "stream",
     "text": [
      "/opt/anaconda3/lib/python3.6/site-packages/pandas/core/frame.py:4933: FutureWarning: 'argmin' is deprecated. Use 'idxmin' instead. The behavior of 'argmin' will be corrected to return the positional minimum in the future. Use 'series.values.argmin' to get the position of the minimum now.\n",
      "  labels=labels)\n"
     ]
    },
    {
     "data": {
      "image/png": "[encoded data removed]",
      "text/plain": [
       "<matplotlib.figure.Figure at 0x7f437ef16128>"
      ]
     },
     "metadata": {},
     "output_type": "display_data"
    }
   ],
   "source": [
    "rnp_err(3)"
   ]
  },
  {
   "cell_type": "code",
   "execution_count": 28,
   "metadata": {},
   "outputs": [
    {
     "name": "stdout",
     "output_type": "stream",
     "text": [
      "column maxes: [0.07578542361712244, 0.07905623492354921, 9999.052510800491, 1.195643656073973, 0.2830080111605948, 3.566708101877272]\n",
      "          0         1         2         3         4         5\n",
      "0  0.009898  0.016105  0.007231  0.001635  0.000931  0.000315\n",
      "1  0.008584  0.005806  0.015125  0.004228  0.001624  0.002801\n",
      "2  0.010296  0.004627  0.015373  0.003188  0.001220  0.002860\n",
      "4    7\n",
      "0    4\n",
      "1    3\n",
      "5    2\n",
      "3    2\n",
      "dtype: int64\n"
     ]
    },
    {
     "name": "stderr",
     "output_type": "stream",
     "text": [
      "/opt/anaconda3/lib/python3.6/site-packages/pandas/core/frame.py:4933: FutureWarning: 'argmin' is deprecated. Use 'idxmin' instead. The behavior of 'argmin' will be corrected to return the positional minimum in the future. Use 'series.values.argmin' to get the position of the minimum now.\n",
      "  labels=labels)\n"
     ]
    },
    {
     "data": {
      "image/png": "[encoded data removed]",
      "text/plain": [
       "<matplotlib.figure.Figure at 0x7f437ea8d438>"
      ]
     },
     "metadata": {},
     "output_type": "display_data"
    }
   ],
   "source": [
    "rnp_err(9)"
   ]
  },
  {
   "cell_type": "code",
   "execution_count": 29,
   "metadata": {},
   "outputs": [
    {
     "name": "stdout",
     "output_type": "stream",
     "text": [
      "column maxes: [0.07578542361712243, 0.07905623492354913, 9999.052510800491, 0.5216592793668544, 0.12139394953760338, 0.09342688496744964]\n",
      "          0         1         2         3         4         5\n",
      "0  0.009898  0.016105  0.007231  0.004747  0.000323  0.000555\n",
      "1  0.008584  0.005806  0.015125  0.001605  0.000306  0.000412\n",
      "2  0.010296  0.004627  0.015373  0.003081  0.000949  0.001194\n",
      "5    8\n",
      "4    7\n",
      "3    2\n",
      "0    1\n",
      "dtype: int64\n"
     ]
    },
    {
     "name": "stderr",
     "output_type": "stream",
     "text": [
      "/opt/anaconda3/lib/python3.6/site-packages/pandas/core/frame.py:4933: FutureWarning: 'argmin' is deprecated. Use 'idxmin' instead. The behavior of 'argmin' will be corrected to return the positional minimum in the future. Use 'series.values.argmin' to get the position of the minimum now.\n",
      "  labels=labels)\n"
     ]
    },
    {
     "data": {
      "image/png": "[encoded data removed]",
      "text/plain": [
       "<matplotlib.figure.Figure at 0x7f437eda7160>"
      ]
     },
     "metadata": {},
     "output_type": "display_data"
    }
   ],
   "source": [
    "rnp_err(27)"
   ]
  },
  {
   "cell_type": "code",
   "execution_count": 30,
   "metadata": {},
   "outputs": [
    {
     "name": "stdout",
     "output_type": "stream",
     "text": [
      "column maxes: [0.07578542361712241, 0.07905623492354914, 9999.052510800491, 0.5320881383990056, 0.009725210096684409, 0.038304264637425804]\n",
      "          0         1         2         3         4         5\n",
      "0  0.009898  0.016105  0.007231  0.002801  0.000138  0.000026\n",
      "1  0.008584  0.005806  0.015125  0.001494  0.000011  0.000054\n",
      "2  0.010296  0.004627  0.015373  0.003010  0.001000  0.000784\n",
      "4    10\n",
      "5     8\n",
      "dtype: int64\n"
     ]
    },
    {
     "name": "stderr",
     "output_type": "stream",
     "text": [
      "/opt/anaconda3/lib/python3.6/site-packages/pandas/core/frame.py:4933: FutureWarning: 'argmin' is deprecated. Use 'idxmin' instead. The behavior of 'argmin' will be corrected to return the positional minimum in the future. Use 'series.values.argmin' to get the position of the minimum now.\n",
      "  labels=labels)\n"
     ]
    },
    {
     "data": {
      "image/png": "[encoded data removed]",
      "text/plain": [
       "<matplotlib.figure.Figure at 0x7f437ed37550>"
      ]
     },
     "metadata": {},
     "output_type": "display_data"
    }
   ],
   "source": [
    "rnp_err(81)"
   ]
  },
  {
   "cell_type": "code",
   "execution_count": 32,
   "metadata": {},
   "outputs": [
    {
     "name": "stdout",
     "output_type": "stream",
     "text": [
      "column maxes: [0.07578542361712243, 0.07905623492354924, 0.24674328939101306, 0.19878919046713045, 0.505888637062847, 47.643557800953744]\n",
      "          0         1         2         3         4         5\n",
      "0  0.009898  0.016105  0.007231  0.008647  0.008360  0.015407\n",
      "1  0.008584  0.005806  0.015125  0.006234  0.004975  0.007304\n",
      "2  0.010296  0.004627  0.015373  0.010083  0.009606  0.010674\n",
      "0    6\n",
      "1    5\n",
      "3    3\n",
      "4    2\n",
      "2    2\n",
      "dtype: int64\n"
     ]
    },
    {
     "name": "stderr",
     "output_type": "stream",
     "text": [
      "/opt/anaconda3/lib/python3.6/site-packages/pandas/core/frame.py:4933: FutureWarning: 'argmin' is deprecated. Use 'idxmin' instead. The behavior of 'argmin' will be corrected to return the positional minimum in the future. Use 'series.values.argmin' to get the position of the minimum now.\n",
      "  labels=labels)\n"
     ]
    },
    {
     "data": {
      "image/png": "[encoded data removed]",
      "text/plain": [
       "<matplotlib.figure.Figure at 0x7f437f0bff98>"
      ]
     },
     "metadata": {},
     "output_type": "display_data"
    }
   ],
   "source": [
    "rnp_err(\"L\")"
   ]
  },
  {
   "cell_type": "code",
   "execution_count": 33,
   "metadata": {},
   "outputs": [
    {
     "name": "stdout",
     "output_type": "stream",
     "text": [
      "column maxes: [0.07578542361712243, 0.0790562349235493, 9999.052510800491, 718.1563171378212, 11212.585140694951, 10000.56006934847]\n",
      "          0         1         2         3         4         5\n",
      "0  0.009898  0.016105  0.007231  0.013344  0.010485  0.041114\n",
      "1  0.008584  0.005806  0.015125  0.015319  0.013465  0.019922\n",
      "2  0.010296  0.004627  0.015373  0.032830  0.017909  0.033109\n",
      "0    7\n",
      "1    6\n",
      "2    4\n",
      "4    1\n",
      "dtype: int64\n"
     ]
    },
    {
     "name": "stderr",
     "output_type": "stream",
     "text": [
      "/opt/anaconda3/lib/python3.6/site-packages/pandas/core/frame.py:4933: FutureWarning: 'argmin' is deprecated. Use 'idxmin' instead. The behavior of 'argmin' will be corrected to return the positional minimum in the future. Use 'series.values.argmin' to get the position of the minimum now.\n",
      "  labels=labels)\n"
     ]
    },
    {
     "data": {
      "image/png": "[encoded data removed]",
      "text/plain": [
       "<matplotlib.figure.Figure at 0x7f437f329e10>"
      ]
     },
     "metadata": {},
     "output_type": "display_data"
    }
   ],
   "source": [
    "rnp_err(1)"
   ]
  },
  {
   "cell_type": "code",
   "execution_count": null,
   "metadata": {},
   "outputs": [],
   "source": []
  },
  {
   "cell_type": "code",
   "execution_count": null,
   "metadata": {},
   "outputs": [],
   "source": []
  }
 ],
 "metadata": {
  "kernelspec": {
   "display_name": "Python 3",
   "language": "python",
   "name": "python3"
  },
  "language_info": {
   "codemirror_mode": {
    "name": "ipython",
    "version": 3
   },
   "file_extension": ".py",
   "mimetype": "text/x-python",
   "name": "python",
   "nbconvert_exporter": "python",
   "pygments_lexer": "ipython3",
   "version": "3.6.4"
  }
 },
 "nbformat": 4,
 "nbformat_minor": 2
}

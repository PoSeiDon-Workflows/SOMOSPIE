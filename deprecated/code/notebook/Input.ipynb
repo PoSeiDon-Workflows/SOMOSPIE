{
 "cells": [
  {
   "cell_type": "code",
   "execution_count": 2,
   "metadata": {},
   "outputs": [
    {
     "data": {
      "text/html": [
       "\n",
       "<style type=\"text/css\">\n",
       ".jupyter-widgets select option {font-family: \"Lucida Console\", Monaco, monospace;}\n",
       ".jupyter-widgets select {width: 98%;}\n",
       "div.output_subarea {padding: 0px;}\n",
       "div.output_subarea > div {margin: 0.4em;}\n",
       "</style>\n"
      ],
      "text/plain": [
       "<IPython.core.display.HTML object>"
      ]
     },
     "metadata": {},
     "output_type": "display_data"
    }
   ],
   "source": [
    "import ipywidgets as widgets\n",
    "from ast import literal_eval\n",
    "import sys\n",
    "import configparser\n",
    "from selectfile import FileBrowser"
   ]
  },
  {
   "cell_type": "markdown",
   "metadata": {},
   "source": [
    "The following cell can be modified to determine usage of an imported ini, as well as change the names and paths of import and export files."
   ]
  },
  {
   "cell_type": "code",
   "execution_count": 5,
   "metadata": {},
   "outputs": [],
   "source": [
    "use_import = True\n",
    "ini_import = \"default.ini\"\n",
    "ini_export = \"example.ini\"\n",
    "\n",
    "if use_import:\n",
    "    defaultconf = configparser.ConfigParser()\n",
    "    defaultconf.read(ini_import)"
   ]
  },
  {
   "cell_type": "code",
   "execution_count": 6,
   "metadata": {},
   "outputs": [
    {
     "data": {
      "application/vnd.jupyter.widget-view+json": {
       "model_id": "2c297bc0d9c749ccaa41c60b4dbffec3",
       "version_major": 2,
       "version_minor": 0
      },
      "text/plain": [
       "Accordion(children=(VBox(children=(HTML(value='<h2>..</h2>'), Button(description='..', style=ButtonStyle()), B…"
      ]
     },
     "metadata": {},
     "output_type": "display_data"
    }
   ],
   "source": [
    "#Stores method names, exactly as expected in .ini file\n",
    "methods = [\"1NN\", \"KKNN\", \"RF\", \"HYPPO\", \"UNMODEL\"]\n",
    "#Stores the names of variables that need to be expressed as file paths\n",
    "paths = [\"START\", \"CODE\", \"DATA\", \"SHAPES\", \"DOMAINS\", \"OUTPUT\", \"SM_FILE\", \"COV_FILE\", \"EVAL_FILE\"]\n",
    "items = []\n",
    "tempdict = {}\n",
    "\n",
    "#Sets up the file selector widgets as a dictionary, with or without default input. This is important, as the FileSelector is \n",
    "#class with multiple widgets at work - we need an original instance to properly retrieve the input. Using the traditional\n",
    "#ipython widget value returns incorrectly.\n",
    "path_widgets = {}\n",
    "if use_import:\n",
    "    for j in paths:\n",
    "        path_widgets[j] = FileBrowser(start_path=defaultconf[\"DEFAULT\"][j])\n",
    "else:\n",
    "    for j in paths:\n",
    "        path_widgets[j] = FileBrowser()\n",
    "#Makes a VBox out of HBoxes of widgets for method arguments, for addition to the input GUI.\n",
    "for step, i in enumerate(methods):\n",
    "    boxpop = (widgets.Label(i), widgets.Checkbox(), widgets.Text())\n",
    "    items.append(widgets.HBox(boxpop))\n",
    "modict = widgets.VBox(items)\n",
    "\n",
    "\n",
    "\n",
    "# This has been replaced with a dictionary-fed version below to allow for easy updating.\n",
    "#inputs = widgets.Accordion(children=[widgets.Text(), widgets.Text(), widgets.Text(), widgets.Text(), widgets.Text(), \n",
    "#                                       widgets.Text(), widgets.IntText(), widgets.Text(), widgets.Text(), widgets.Text(), widgets.Text(), \n",
    "#                                       widgets.Checkbox(), widgets.Checkbox(), widgets.FloatText(), widgets.IntText(), widgets.Checkbox(),\n",
    "#                                       widgets.IntSlider(), widgets.Text(), widgets.Text(), modict\n",
    "#                                       ])\n",
    "\n",
    "#All the variable names, for easier config parsing.\n",
    "titles = [\"START\", \"CODE\", \"DATA\", \"SHAPES\", \"DOMAINS\", \"OUTPUT\", \"YEAR\", \"MONTHS\", \"SM_FILE\", \"COV_FILE\", \"EVAL_FILE\", \n",
    "         \"MAKE_T_E\", \"USE_PCA\", \"VALIDATE\", \"RAND_SEED\", \"USE_VIS\", \"MIN_TEST_POINTS\", \"BUFFER\", \"SUPER\", \"MODICT\"]\n",
    "\n",
    "#A list of variables and their associated widgets, in a dictionary. \n",
    "child_type = {\"START\":path_widgets[\"START\"].widget(), \"CODE\":path_widgets[\"CODE\"].widget(), \"DATA\":path_widgets[\"DATA\"].widget(), \n",
    "                 \"SHAPES\":path_widgets[\"SHAPES\"].widget(), \"DOMAINS\":path_widgets[\"DOMAINS\"].widget(), \"OUTPUT\":path_widgets[\"OUTPUT\"].widget(), \n",
    "                 \"YEAR\":widgets.IntText(), \"MONTHS\":widgets.Text(), \"SM_FILE\":path_widgets[\"SM_FILE\"].widget(), \n",
    "                 \"COV_FILE\":path_widgets[\"COV_FILE\"].widget(), \"EVAL_FILE\":path_widgets[\"EVAL_FILE\"].widget(), \"MAKE_T_E\":widgets.Checkbox(), \n",
    "                 \"USE_PCA\":widgets.Checkbox(), \"VALIDATE\":widgets.FloatText(), \"RAND_SEED\":widgets.IntText(), \n",
    "                 \"USE_VIS\":widgets.Checkbox(), \"MIN_TEST_POINTS\": widgets.IntSlider(), \"BUFFER\":widgets.Text(), \n",
    "                 \"SUPER\":widgets.Checkbox(), \"MODICT\":modict\n",
    "               }\n",
    "\n",
    "inputs = widgets.Accordion(children=[child_type[title] for title in titles])\n",
    "\n",
    "# The following dictionary has a str-type description for each parameter\n",
    "descriptions = {\"START\":\"(string or path) The main working directory, containing relevant code and data subdirectories.\", \n",
    "                \"CODE\":\"(string or path) The name of the START-subdirectory with code.\", \n",
    "                \"DATA\":\"(string or path) The name of the START-subdirectory for data.\",\n",
    "                \"SHAPES\":\"(string or path) The name of the DATA-subdirectory for region shapefiles.\", \n",
    "                \"DOMAINS\": \"(array of strings) A list of all domains.\", \n",
    "                \"OUTPUT\": \"\", \n",
    "                \"YEAR\": \"\", \n",
    "                \"MONTHS\": \"\", \n",
    "                \"SM_FILE\": \"\", \n",
    "                \"COV_FILE\": \"\", \n",
    "                \"EVAL_FILE\": \"\", \n",
    "                \"MAKE_T_E\": \"\", \n",
    "                \"USE_PCA\": \"\", \n",
    "                \"VALIDATE\": \"\", \n",
    "                \"RAND_SEED\": \"\", \n",
    "                \"USE_VIS\": \"\", \n",
    "                \"MIN_TEST_POINTS\": \"\", \n",
    "                \"BUFFER\": \"\", \n",
    "                \"SUPER\": \"\", \n",
    "                \"MODICT\": \"\"\n",
    "               }\n",
    "#Assigns names to our Accordion entries.\n",
    "for index, j in enumerate(titles):\n",
    "    inputs.set_title(index, j)\n",
    "    \n",
    "#The following code fills the widgets with the input from the imported .ini, if one was imported.\n",
    "if use_import:\n",
    "    for index, k in enumerate(titles[:-1]):\n",
    "        if k in [\"USE_PCA\", \"MAKE_T_E\", \"USE_VIS\", \"SUPER\"]:\n",
    "            inputs.children[index].value = bool(int(defaultconf[\"DEFAULT\"][k]))\n",
    "        else:\n",
    "            inputs.children[index].value = defaultconf[\"DEFAULT\"][k]\n",
    "\n",
    "    tempdict = literal_eval(defaultconf[\"DEFAULT\"][titles[-1]])\n",
    "    if tempdict:\n",
    "        for index, s in enumerate(methods):\n",
    "            if s in tempdict:\n",
    "                inputs.children[-1].children[index].children[2].value = str(tempdict[s])\n",
    "                inputs.children[-1].children[index].children[1].value = True\n",
    "                                               \n",
    "\n",
    "display(inputs)"
   ]
  },
  {
   "cell_type": "code",
   "execution_count": 4,
   "metadata": {
    "scrolled": true
   },
   "outputs": [],
   "source": [
    "#Building the output file.\n",
    "\n",
    "config = configparser.ConfigParser()\n",
    "config[\"DEFAULT\"] = {}\n",
    "for index, j in enumerate(titles[:-1]):\n",
    "    #Boolean variables\n",
    "    if j in [\"MAKE_T_E\", \"USE_PCA\", \"RAND_SEED\", \"USE_VIS\"]:\n",
    "        config[\"DEFAULT\"][j] = str(int(inputs.children[index].value))\n",
    "    #File paths from FileSelector\n",
    "    elif j in paths:\n",
    "        config[\"DEFAULT\"][j] = path_widgets[j].path\n",
    "    #Everything else.\n",
    "    else:\n",
    "        config[\"DEFAULT\"][j] = str(inputs.children[index].value)\n",
    "        \n",
    "#Filling the ML methods output.\n",
    "modict = \"{\\n\"\n",
    "for learners in inputs.children[-1].children:\n",
    "    if learners.children[1].value:\n",
    "        modict += f\"\\\"{learners.children[0].value}\\\":{learners.children[2].value}\\n\"\n",
    "modict += \"}\"\n",
    "config[\"DEFAULT\"][titles[-1]] = modict\n",
    "\n",
    "with open(ini_export, 'w') as file:\n",
    "    config.write(file)"
   ]
  },
  {
   "cell_type": "code",
   "execution_count": 5,
   "metadata": {},
   "outputs": [
    {
     "name": "stdout",
     "output_type": "stream",
     "text": [
      "..\n"
     ]
    }
   ],
   "source": [
    "print(str(path_widgets[\"START\"].path))"
   ]
  },
  {
   "cell_type": "code",
   "execution_count": 20,
   "metadata": {},
   "outputs": [
    {
     "ename": "AttributeError",
     "evalue": "'VBox' object has no attribute 'value'",
     "output_type": "error",
     "traceback": [
      "\u001b[0;31m---------------------------------------------------------------------------\u001b[0m",
      "\u001b[0;31mAttributeError\u001b[0m                            Traceback (most recent call last)",
      "\u001b[0;32m<ipython-input-20-3f0d32dbf9f7>\u001b[0m in \u001b[0;36m<module>\u001b[0;34m\u001b[0m\n\u001b[0;32m----> 1\u001b[0;31m \u001b[0mprint\u001b[0m\u001b[0;34m(\u001b[0m\u001b[0minputs\u001b[0m\u001b[0;34m.\u001b[0m\u001b[0mchildren\u001b[0m\u001b[0;34m[\u001b[0m\u001b[0;36m0\u001b[0m\u001b[0;34m]\u001b[0m\u001b[0;34m.\u001b[0m\u001b[0mchildren\u001b[0m\u001b[0;34m[\u001b[0m\u001b[0;36m0\u001b[0m\u001b[0;34m]\u001b[0m\u001b[0;34m.\u001b[0m\u001b[0mchildren\u001b[0m\u001b[0;34m[\u001b[0m\u001b[0;36m1\u001b[0m\u001b[0;34m]\u001b[0m\u001b[0;34m.\u001b[0m\u001b[0mvalue\u001b[0m\u001b[0;34m)\u001b[0m\u001b[0;34m\u001b[0m\u001b[0;34m\u001b[0m\u001b[0m\n\u001b[0m",
      "\u001b[0;31mAttributeError\u001b[0m: 'VBox' object has no attribute 'value'"
     ]
    }
   ],
   "source": [
    "print(inputs.children[0].children[0].children[1].value)"
   ]
  },
  {
   "cell_type": "code",
   "execution_count": null,
   "metadata": {},
   "outputs": [],
   "source": []
  }
 ],
 "metadata": {
  "kernelspec": {
   "display_name": "Python 3",
   "language": "python",
   "name": "python3"
  },
  "language_info": {
   "codemirror_mode": {
    "name": "ipython",
    "version": 3
   },
   "file_extension": ".py",
   "mimetype": "text/x-python",
   "name": "python",
   "nbconvert_exporter": "python",
   "pygments_lexer": "ipython3",
   "version": "3.6.7"
  }
 },
 "nbformat": 4,
 "nbformat_minor": 2
}

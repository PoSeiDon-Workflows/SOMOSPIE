{
 "cells": [
  {
   "cell_type": "code",
   "execution_count": 37,
   "metadata": {},
   "outputs": [],
   "source": [
    "import ipywidgets as widgets\n",
    "from ast import literal_eval\n",
    "import sys\n",
    "import os\n",
    "import configparser\n",
    "from selectfile import FileBrowser\n",
    "from ipywe._utils import close, enable, disable\n",
    "from ipywe.fileselector import FileSelectorPanel"
   ]
  },
  {
   "cell_type": "code",
   "execution_count": 38,
   "metadata": {},
   "outputs": [],
   "source": [
    "argnames = [\"START\", \"CODE\", \"DATA\", \"SHAPES\", \"DOMAINS\", \"OUTPUT\"]\n",
    "paths = {key: \"\" for key in argnames}\n",
    "def setStart(newpath):\n",
    "    paths[\"START\"] = newpath\n",
    "def setCode(newpath):\n",
    "    paths[\"CODE\"] = newpath\n",
    "def setData(newpath):\n",
    "    paths[\"DATA\"] = newpath\n",
    "def setShapes(newpath):\n",
    "    paths[\"SHAPES\"] = newpath\n",
    "def setDomains(newpath):\n",
    "    paths[\"DOMAINS\"] = newpath\n",
    "def setOutput(newpath):\n",
    "    paths[\"OUTPUT\"] = newpath\n",
    "\n",
    "funcs = {\"START\":setStart, \"CODE\":setCode, \"DATA\":setData, \"SHAPES\":setShapes, \"DOMAINS\":setDomains, \"OUTPUT\":setOutput}"
   ]
  },
  {
   "cell_type": "markdown",
   "metadata": {},
   "source": [
    "The following cell can be modified to determine usage of an imported ini, as well as change the names and paths of import and export files."
   ]
  },
  {
   "cell_type": "code",
   "execution_count": 47,
   "metadata": {},
   "outputs": [],
   "source": [
    "use_import = True\n",
    "ini_import = \"default.ini\"\n",
    "ini_export = \"ipyweexample.ini\"\n",
    "\n",
    "if use_import:\n",
    "    defaultconf = configparser.ConfigParser()\n",
    "    defaultconf.read(ini_import)"
   ]
  },
  {
   "cell_type": "code",
   "execution_count": 48,
   "metadata": {
    "scrolled": true
   },
   "outputs": [
    {
     "data": {
      "application/vnd.jupyter.widget-view+json": {
       "model_id": "92bcb579226044faa8f988741f5a7c1c",
       "version_major": 2,
       "version_minor": 0
      },
      "text/plain": [
       "Accordion(children=(VBox(children=(VBox(children=(Label(value='Select top-level SOMOSPIE directory.', layout=L…"
      ]
     },
     "metadata": {},
     "output_type": "display_data"
    }
   ],
   "source": [
    "#Stores method names, exactly as expected in .ini file\n",
    "methods = [\"1NN\", \"KKNN\", \"RF\", \"HYPPO\", \"UNMODEL\"]\n",
    "#Stores the names of variables that need to be expressed as file paths\n",
    "items = []\n",
    "tempdict = {}\n",
    "path_descriptors = {\n",
    "    \"START\":\"Select top-level SOMOSPIE directory.\",\n",
    "    \"CODE\":\"Select SOMOSPIE code folder.\",\n",
    "    \"DATA\":\"Select SOMOSPIE data folder.\",\n",
    "    \"SHAPES\":\"Select SOMOSPIE shapes folder.\",\n",
    "    \"DOMAINS\":\"Select SOMOSPIE domains file.\",\n",
    "    \"OUTPUT\":\"Select SOMOSPIE output folder.\",\n",
    "}\n",
    "#Sets up the file selector widgets as a dictionary, with or without default input. This is important, as the FileSelector is \n",
    "#class with multiple widgets at work - we need an original instance to properly retrieve the input. Using the traditional\n",
    "#ipython widget value returns incorrectly.\n",
    "path_widgets = {}\n",
    "if use_import:\n",
    "    for j in paths:\n",
    "        paths[j] = defaultconf[\"DEFAULT\"][j]\n",
    "        if not os.path.exists(paths[j]):\n",
    "            os.mkdir(paths[j])\n",
    "        if j is \"DOMAINS\":\n",
    "            path_widgets[j] = FileSelectorPanel(path_descriptors[j], stay_alive=True, newdir_toolbar_button=True, next =funcs[j], start_dir = os.path.dirname(defaultconf[\"DEFAULT\"][j]), type=\"file\")\n",
    "        else:\n",
    "            path_widgets[j] = FileSelectorPanel(path_descriptors[j], stay_alive=True, newdir_toolbar_button=True, next =funcs[j], start_dir = defaultconf[\"DEFAULT\"][j], type=\"directory\")\n",
    "else:\n",
    "    for j in paths:\n",
    "        if j is \"DOMAINS\":\n",
    "            path_widgets[j] = FileSelectorPanel(path_descriptors[j], stay_alive=True, newdir_toolbar_button=True, next =funcs[j], type=\"file\")\n",
    "        else:\n",
    "            path_widgets[j] = FileSelectorPanel(path_descriptors[j], stay_alive=True, newdir_toolbar_button=True, next =funcs[j], type=\"directory\")\n",
    "#Makes a VBox out of HBoxes of widgets for method arguments, for addition to the input GUI.\n",
    "for step, i in enumerate(methods):\n",
    "    boxpop = (widgets.Label(i), widgets.Checkbox(), widgets.Text())\n",
    "    items.append(widgets.HBox(boxpop))\n",
    "modict = widgets.VBox(items)\n",
    "\n",
    "\n",
    "\n",
    "# This has been replaced with a dictionary-fed version below to allow for easy updating.\n",
    "#inputs = widgets.Accordion(children=[widgets.Text(), widgets.Text(), widgets.Text(), widgets.Text(), widgets.Text(), \n",
    "#                                       widgets.Text(), widgets.IntText(), widgets.Text(), widgets.Text(), widgets.Text(), widgets.Text(), \n",
    "#                                       widgets.Checkbox(), widgets.Checkbox(), widgets.FloatText(), widgets.IntText(), widgets.Checkbox(),\n",
    "#                                       widgets.IntSlider(), widgets.Text(), widgets.Text(), modict\n",
    "#                                       ])\n",
    "\n",
    "#All the variable names, for easier config parsing.\n",
    "titles = [\"START\", \"CODE\", \"DATA\", \"SHAPES\", \"DOMAINS\", \"OUTPUT\", \"YEAR\", \"MONTHS\", \"SM_FILE\", \"COV_FILE\", \"EVAL_FILE\", \n",
    "         \"MAKE_T_E\", \"USE_PCA\", \"VALIDATE\", \"RAND_SEED\", \"USE_VIS\", \"MIN_TEST_POINTS\", \"BUFFER\", \"SUPER\", \"MODICT\"]\n",
    "\n",
    "#A list of variables and their associated widgets, in a dictionary. \n",
    "child_type = {\"START\":widgets.VBox([path_widgets[\"START\"].panel]), \"CODE\":widgets.VBox([path_widgets[\"CODE\"].panel]), \"DATA\":widgets.VBox([path_widgets[\"DATA\"].panel]), \n",
    "                 \"SHAPES\":widgets.VBox([path_widgets[\"SHAPES\"].panel]), \"DOMAINS\":widgets.VBox([path_widgets[\"DOMAINS\"].panel]), \"OUTPUT\":widgets.VBox([path_widgets[\"OUTPUT\"].panel]), \n",
    "                 \"YEAR\":widgets.IntText(), \"MONTHS\":widgets.Text(), \"SM_FILE\":widgets.Text(), \n",
    "                 \"COV_FILE\":widgets.Text(), \"EVAL_FILE\":widgets.Text(), \"MAKE_T_E\":widgets.Checkbox(), \n",
    "                 \"USE_PCA\":widgets.Checkbox(), \"VALIDATE\":widgets.FloatText(), \"RAND_SEED\":widgets.IntText(), \n",
    "                 \"USE_VIS\":widgets.Checkbox(), \"MIN_TEST_POINTS\": widgets.IntSlider(), \"BUFFER\":widgets.Text(), \n",
    "                 \"SUPER\":widgets.Checkbox(), \"MODICT\":modict\n",
    "               }\n",
    "\n",
    "inputs = widgets.Accordion(children=[child_type[title] for title in titles])\n",
    "\n",
    "# The following dictionary has a str-type description for each parameter\n",
    "descriptions = {\"START\":\"(string or path) The main working directory, containing relevant code and data subdirectories.\", \n",
    "                \"CODE\":\"(string or path) The name of the START-subdirectory with code.\", \n",
    "                \"DATA\":\"(string or path) The name of the START-subdirectory for data.\",\n",
    "                \"SHAPES\":\"(string or path) The name of the DATA-subdirectory for region shapefiles.\", \n",
    "                \"DOMAINS\": \"(array of strings) A list of all domains.\", \n",
    "                \"OUTPUT\": \"\", \n",
    "                \"YEAR\": \"\", \n",
    "                \"MONTHS\": \"\", \n",
    "                \"SM_FILE\": \"\", \n",
    "                \"COV_FILE\": \"\", \n",
    "                \"EVAL_FILE\": \"\", \n",
    "                \"MAKE_T_E\": \"\", \n",
    "                \"USE_PCA\": \"\", \n",
    "                \"VALIDATE\": \"\", \n",
    "                \"RAND_SEED\": \"\", \n",
    "                \"USE_VIS\": \"\", \n",
    "                \"MIN_TEST_POINTS\": \"\", \n",
    "                \"BUFFER\": \"\", \n",
    "                \"SUPER\": \"\", \n",
    "                \"MODICT\": \"\"\n",
    "               }\n",
    "#Assigns names to our Accordion entries.\n",
    "for index, j in enumerate(titles):\n",
    "    inputs.set_title(index, j)\n",
    "    \n",
    "#The following code fills the widgets with the input from the imported .ini, if one was imported.\n",
    "if use_import:\n",
    "    for index, k in enumerate(titles[:-1]):\n",
    "        if k in [\"USE_PCA\", \"MAKE_T_E\", \"USE_VIS\", \"SUPER\"]:\n",
    "            inputs.children[index].value = bool(int(defaultconf[\"DEFAULT\"][k]))\n",
    "        else:\n",
    "            inputs.children[index].value = defaultconf[\"DEFAULT\"][k]\n",
    "\n",
    "    tempdict = literal_eval(defaultconf[\"DEFAULT\"][titles[-1]])\n",
    "    if tempdict:\n",
    "        for index, s in enumerate(methods):\n",
    "            if s in tempdict:\n",
    "                inputs.children[-1].children[index].children[2].value = str(tempdict[s])\n",
    "                inputs.children[-1].children[index].children[1].value = True\n",
    "                                               \n",
    "\n",
    "display(inputs)"
   ]
  },
  {
   "cell_type": "code",
   "execution_count": 36,
   "metadata": {
    "scrolled": true
   },
   "outputs": [],
   "source": [
    "#Building the output file.\n",
    "\n",
    "config = configparser.ConfigParser()\n",
    "config[\"DEFAULT\"] = {}\n",
    "for index, j in enumerate(titles[:-1]):\n",
    "    #Boolean variables\n",
    "    if j in [\"MAKE_T_E\", \"USE_PCA\", \"RAND_SEED\", \"USE_VIS\"]:\n",
    "        config[\"DEFAULT\"][j] = str(int(inputs.children[index].value))\n",
    "    #File paths from FileSelector\n",
    "    elif j in paths:\n",
    "        config[\"DEFAULT\"][j] = paths[j]\n",
    "    #Everything else.\n",
    "    else:\n",
    "        config[\"DEFAULT\"][j] = str(inputs.children[index].value)\n",
    "        \n",
    "#Filling the ML methods output.\n",
    "modict = \"{\\n\"\n",
    "for learners in inputs.children[-1].children:\n",
    "    if learners.children[1].value:\n",
    "        modict += f\"\\\"{learners.children[0].value}\\\":{learners.children[2].value}\\n\"\n",
    "modict += \"}\"\n",
    "config[\"DEFAULT\"][titles[-1]] = modict\n",
    "\n",
    "with open(ini_export, 'w') as file:\n",
    "    config.write(file)"
   ]
  }
 ],
 "metadata": {
  "kernelspec": {
   "display_name": "Python 3",
   "language": "python",
   "name": "python3"
  },
  "language_info": {
   "codemirror_mode": {
    "name": "ipython",
    "version": 3
   },
   "file_extension": ".py",
   "mimetype": "text/x-python",
   "name": "python",
   "nbconvert_exporter": "python",
   "pygments_lexer": "ipython3",
   "version": "3.6.7"
  }
 },
 "nbformat": 4,
 "nbformat_minor": 2
}

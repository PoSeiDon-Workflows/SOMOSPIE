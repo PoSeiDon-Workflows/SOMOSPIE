{
 "cells": [
  {
   "cell_type": "code",
   "execution_count": null,
   "metadata": {
    "scrolled": true
   },
   "outputs": [],
   "source": [
    "#import ipywidgets as widgets\n",
    "#from ast import literal_eval\n",
    "#import sys\n",
    "#import os\n",
    "#import subprocess\n",
    "#import configparser\n",
    "#import pandas as pd\n",
    "#from ipywe.ipywe._utils import close, enable, disable\n",
    "#from ipywe.ipywe.fileselector import FileSelectorPanel\n",
    "#from domain_lister import dlist\n",
    "\n",
    "%run -i __utils.py"
   ]
  },
  {
   "cell_type": "markdown",
   "metadata": {},
   "source": [
    "If `use_import` is set to `True`, configurations will be loaded from the filename assigned to `ini_inport`.\n",
    "Regardless of the value of `use_import`, configurations will be saved to the filename assigned to `ini_export`."
   ]
  },
  {
   "cell_type": "code",
   "execution_count": null,
   "metadata": {},
   "outputs": [],
   "source": [
    "use_import = True\n",
    "ini_import = \"SOMOSPIE_input.ini\"\n",
    "ini_export = \"SOMOSPIE_input.ini\"\n",
    "possible_domains = \"../data/dom_list.csv\" # Set this variable to change where the comprehensive list of domains is to be found\n",
    "if use_import:\n",
    "    defaultconf = ConfigParser()\n",
    "    defaultconf.read(ini_import)"
   ]
  },
  {
   "cell_type": "markdown",
   "metadata": {},
   "source": [
    "The following cell can be used to setup/download satellite data for a year, upon setting the targ_year variable and running."
   ]
  },
  {
   "cell_type": "code",
   "execution_count": null,
   "metadata": {},
   "outputs": [],
   "source": [
    "# The following has been moved into a function in __utils.py.\n",
    "# It needs to be made into a script that runs each year's fetch in an independent shell, perhaps using tmux.\n",
    "\n",
    "targ_year = 2017 # Set this variable to determine what year will be retrieved/setup.\n",
    "\n",
    "%cd ../data\n",
    "if not os.path.exists(\"TerrestrialEcoregions_L2_Shapefile\") or not os.path.exists(\"NEONDomains_0\"):\n",
    "    %run -t fetch_ecoregions.sh\n",
    "\n",
    "if (1978 < targ_year) and (targ_year < 2018):\n",
    "    if not os.path.exists(\"ESA_CCI/{}_ESA_monthly.rds\".format(targ_year)):\n",
    "        if not os.path.exists(\"ESA_CCI/{}\".format(targ_year)):\n",
    "            !./fetch_soil_moisture.sh $targ_year\n",
    "        !../code/extract_SM_monthly.R $targ_year ESA_CCI/\n",
    "else:\n",
    "    print(\"Full-year ESA-CCI soil moisture data only available 1979 through 2017.\")\n",
    "%cd ../code"
   ]
  },
  {
   "cell_type": "markdown",
   "metadata": {},
   "source": [
    "Here's the dictionary we will use to build all the configuration lists and dictionaries below."
   ]
  },
  {
   "cell_type": "code",
   "execution_count": null,
   "metadata": {},
   "outputs": [],
   "source": [
    "# Each entry of the form \"<NAME>\": {\"category\":\"<category>\", \"type\":\"<type>\", \"description\":\"<description>\"}\n",
    "configuration_dictionary = {\n",
    "    \"START\": {\"category\":\"setup\", \"type\":\"dir\", \\\n",
    "              \"description\":\"The main working directory, containing relevant code and data subdirectories.\"},\n",
    "    \"CODE\": {\"category\":\"setup\", \"type\":\"dir\", \\\n",
    "             \"description\":\"The subdirectory with code.\"}, \n",
    "    \"DATA\": {\"category\":\"setup\", \"type\":\"dir\", \\\n",
    "             \"description\":\"The subdirectory for data.\"},\n",
    "    \"OUTPUT\": {\"category\":\"setup\", \"type\":\"dir\", \\\n",
    "               \"description\":\"The subdirectory for SOMOSPIE output.\"}, \n",
    "    \"DOMAINS\": {\"category\":\"data\", \"type\":\"file\", \\\n",
    "                \"description\":\"The file with list list of all domains.\"}, \n",
    "    \"SM_FILE\": {\"category\":\"data\", \"type\":\"file\", \\\n",
    "                \"description\":\"The file with soil moisture data.\"}, \n",
    "    \"COV_FILE\": {\"category\":\"data\", \"type\":\"file\", \\\n",
    "                 \"description\":\"The file with covariate data.\"}, \n",
    "    \"EVAL_FILE\": {\"category\":\"data\", \"type\":\"file\", \\\n",
    "                  \"description\":\"The file with evaluation data.\"}, \n",
    "    \"YEAR\": {\"category\":\"proc\", \"type\":\"text\", \\\n",
    "             \"description\":\"A list of years.\"}, \n",
    "    \"MONTHS\": {\"category\":\"proc\", \"type\":\"text\", \\\n",
    "               \"description\":\"A list of months.\"}, \n",
    "    \"MAKE_T_E\": {\"category\":\"proc\", \"type\":\"bool\", \\\n",
    "                 \"description\":\"True if you want to generate (using SM_FILE and COV_FILE) a train and eval file for each region \"}, \n",
    "    \"USE_PCA\": {\"category\":\"proc\", \"type\":\"bool\", \\\n",
    "                \"description\":\"True if you want to perform PCA dimension reduction on the covariate data.\"}, \n",
    "    \"VALIDATE\": {\"category\":\"proc\", \"type\":\"float\", \\\n",
    "                 \"description\":\"0 for no validation; 1.xx to compare predictions to xx% of the original data; 2 to compare prediction to the training data\"}, \n",
    "    \"RAND_SEED\": {\"category\":\"proc\", \"type\":\"int\", \\\n",
    "                  \"description\":\"Specify a positive integer, or 0 to generate a new random seed.\"}, \n",
    "    \"USE_VIS\": {\"category\":\"proc\", \"type\":\"bool\", \\\n",
    "                \"description\":\"True if you want to generate images for the predictions.\"}, \n",
    "    \"MIN_TEST_POINTS\": {\"category\":\"proc\", \"type\":\"int\", \\\n",
    "                        \"description\":\"The minimum number of test points required for a region to be used.\"},  \n",
    "    \"BUFFER\": {\"category\":\"proc\", \"type\":\"int\", \\\n",
    "               \"description\":\"Specify a positive integer for the nubmer of kms you want to expand the training data around each region; 0 for no buffer.\"},  \n",
    "    \"SUPER\": {\"category\":\"proc\", \"type\":\"bool\", \\\n",
    "              \"description\":\"If true, then training data for ESA-CCI ecoregions will be expanded to one higher leverl.\"},  \n",
    "    \"MODICT\": {\"category\":\"method\", \"type\":\"modict\", \\\n",
    "               \"description\":\"Dictionary of modeling methods and their parameter specifications\"}, \n",
    "}"
   ]
  },
  {
   "cell_type": "code",
   "execution_count": null,
   "metadata": {},
   "outputs": [],
   "source": [
    "# All the variable names, sorted by type, for easier config parsing.\n",
    "title_dict = {}\n",
    "for entry in configuration_dictionary:\n",
    "    entry_type = configuration_dictionary[entry][\"type\"]\n",
    "    # Add the title to the list of titles with that type, or create a new list for a new type\n",
    "    if entry_type in title_dict:\n",
    "        title_dict[entry_type].append(entry)\n",
    "    else:\n",
    "        title_dict[entry_type] = [entry]\n",
    "#title_dict = {\"dir\": [\"START\", \"CODE\", \"DATA\", \"OUTPUT\"], \\\n",
    "#              \"file\": [\"DOMAINS\", \"SM_FILE\", \"COV_FILE\", \"EVAL_FILE\"], \\\n",
    "#              \"text\": [\"YEAR\", \"MONTHS\", \"BUFFER\"], \\\n",
    "#              \"bool\": [\"MAKE_T_E\", \"USE_PCA\", \"USE_VIS\", \"SUPER\"], \\\n",
    "#              \"int\": [\"RAND_SEED\", \"MIN_TEST_POINTS\"], \\\n",
    "#              \"float\": [\"VALIDATE\"], \\\n",
    "#              \"modict\": [\"MODICT\"]}\n",
    "\n",
    "titles = list(configuration_dictionary.keys())\n",
    "#titles = [title for value in title_dict.values() for title in value]\n",
    "\n",
    "paths = {key: \"../\" for key in title_dict[\"dir\"] + title_dict[\"file\"]}\n",
    "#argnames = [\"START\", \"CODE\", \"DATA\", \"DOMAINS\", \"OUTPUT\", \"SM_FILE\", \"COV_FILE\", \"EVAL_FILE\"]\n",
    "#paths = {key: \"\" for key in argnames}\n",
    "\n",
    "def setPath(pathvar, newpath):\n",
    "    paths[pathvar] = newpath\n",
    "def setPathFunc(pathvar):\n",
    "    return lambda x: setPath(pathvar, x)\n",
    "## Replaced the below with the above lambda function\n",
    "#def setStart(newpath):\n",
    "#    paths[\"START\"] = newpath\n",
    "#def setCode(newpath):\n",
    "#    paths[\"CODE\"] = newpath\n",
    "#def setData(newpath):\n",
    "#    paths[\"DATA\"] = newpath\n",
    "#def setDomains(newpath):\n",
    "#    paths[\"DOMAINS\"] = newpath\n",
    "#def setOutput(newpath):\n",
    "#    paths[\"OUTPUT\"] = newpath\n",
    "#funcs = {\"START\":setStart, \"CODE\":setCode, \"DATA\":setData, \"DOMAINS\":setDomains, \"OUTPUT\":setOutput}"
   ]
  },
  {
   "cell_type": "markdown",
   "metadata": {},
   "source": [
    "The following cell can be modified to determine usage of an imported ini, as well as change the names and paths of import and export files."
   ]
  },
  {
   "cell_type": "code",
   "execution_count": null,
   "metadata": {
    "scrolled": false
   },
   "outputs": [],
   "source": [
    "# Stores method names, exactly as expected in .ini file\n",
    "methods = [\"1NN\", \"KKNN\", \"RF\", \"HYPPO\", \"UNMODEL\"]\n",
    "\n",
    "# The following dictionary has a str-type description for each parameter\n",
    "descriptions = {entry: configuration_dictionary[entry][\"description\"] for entry in configuration_dictionary}\n",
    "\n",
    "# Sets up the file selector widgets as a dictionary, with or without default input. \n",
    "# This is important, as the FileSelector is class with multiple widgets at work \n",
    "# - we need an original instance to properly retrieve the input. \n",
    "# Using the traditional ipython widget value returns incorrectly. \n",
    "path_widgets = {}\n",
    "if use_import:\n",
    "    for j in title_dict[\"dir\"]:\n",
    "        paths[j] = defaultconf[\"DEFAULT\"][j]\n",
    "        if not os.path.exists(paths[j]):\n",
    "            os.mkdir(paths[j])\n",
    "    for j in title_dict[\"file\"]:\n",
    "        paths[j] = defaultconf[\"DEFAULT\"][\"DATA\"] + \"/\" + defaultconf[\"DEFAULT\"][j]\n",
    "        \n",
    "for j in title_dict[\"dir\"]:\n",
    "    path_widgets[j] = FileSelectorPanel(descriptions[j], \\\n",
    "                                        stay_alive=True, \\\n",
    "                                        newdir_toolbar_button=True, \\\n",
    "                                        next=setPathFunc(j), \\\n",
    "                                        start_dir=paths[j], \\\n",
    "                                        type=\"directory\")\n",
    "for j in title_dict[\"file\"]:\n",
    "    path_widgets[j] = FileSelectorPanel(descriptions[j], \\\n",
    "                                        stay_alive=True, \\\n",
    "                                        newdir_toolbar_button=True, \\\n",
    "                                        next=setPathFunc(j), \\\n",
    "                                        start_dir=os.path.dirname(paths[j]), \\\n",
    "                                        type=\"file\")\n",
    "\n",
    "# Makes a VBox out of HBoxes of widgets for method arguments, for addition to the input GUI.\n",
    "#for step, i in enumerate(methods):\n",
    "#    boxpop = (widgets.Label(i), widgets.Checkbox(), widgets.Text())\n",
    "#    items.append(widgets.HBox(boxpop))\n",
    "boxpop = lambda label: (widgets.Label(label), widgets.Checkbox(), widgets.Text())\n",
    "items = [widgets.HBox(boxpop(method)) for method in methods]\n",
    "modict = widgets.VBox(items)\n",
    "\n",
    "# A list of variables and their associated widgets, in a dictionary. \n",
    "child_type = {}\n",
    "for title in title_dict[\"dir\"]:\n",
    "    child_type[title] = widgets.VBox([path_widgets[title].panel])\n",
    "for title in title_dict[\"file\"]:\n",
    "    child_type[title] = widgets.VBox([path_widgets[title].panel])\n",
    "for title in title_dict[\"text\"]:\n",
    "    child_type[title] = widgets.Text()\n",
    "for title in title_dict[\"bool\"]:\n",
    "    child_type[title] = widgets.Checkbox()\n",
    "for title in title_dict[\"int\"]:\n",
    "    child_type[title] = widgets.IntText()\n",
    "for title in title_dict[\"float\"]:\n",
    "    child_type[title] = widgets.FloatText()\n",
    "for title in title_dict[\"modict\"]:\n",
    "    child_type[title] = modict\n",
    "\n",
    "inputs = widgets.Accordion(children=[child_type[title] for title in titles])\n",
    "\n",
    "# Assigns names to our Accordion entries.\n",
    "for index, j in enumerate(titles):\n",
    "    inputs.set_title(index, j)\n",
    "    \n",
    "# The following code fills the widgets with the input from the imported .ini, if one was imported.\n",
    "if use_import:\n",
    "    for index, k in enumerate(titles[:-1]):\n",
    "        if k in title_dict[\"bool\"]:\n",
    "            inputs.children[index].value = bool((int(defaultconf[\"DEFAULT\"][k])))\n",
    "        else:\n",
    "            inputs.children[index].value = defaultconf[\"DEFAULT\"][k]\n",
    "\n",
    "    tempdict = literal_eval(defaultconf[\"DEFAULT\"][titles[-1]])\n",
    "    if tempdict:\n",
    "        for index, s in enumerate(methods):\n",
    "            if s in tempdict:\n",
    "                inputs.children[-1].children[index].children[2].value = str(tempdict[s])\n",
    "                inputs.children[-1].children[index].children[1].value = True\n",
    "                                               \n",
    "\n",
    "display(inputs)"
   ]
  },
  {
   "cell_type": "code",
   "execution_count": null,
   "metadata": {
    "scrolled": false
   },
   "outputs": [],
   "source": [
    "# `possible_domains` points at a csv exported from:\n",
    "# https://docs.google.com/spreadsheets/d/13gw8jq1Hhtv8C4iDB8NJvIduGGusQZLECflvoD5e52A\n",
    "doms = pd.read_csv(possible_domains, skiprows=[1], dtype=str)\n",
    "doms.drop(columns=\"BOX\", inplace=True)\n",
    "doms = doms.fillna('')\n",
    "lists = doms.to_dict('list')\n",
    "for instance in lists:\n",
    "    lists[instance] = list(filter(None, lists[instance]))\n",
    "regions = dlist(lists, [widgets.Checkbox])\n",
    "#BOX_entry = widgets.HBox((widgets.Text(), widgets.Checkbox()))\n",
    "XBOX_entry = widgets.HBox((widgets.HTML(\"Lon.: x1=\"), \n",
    "                           widgets.FloatText(min=-180),\n",
    "                           widgets.HTML(\"< x2=\"), \n",
    "                           widgets.FloatText(max=180)\n",
    "                         ))\n",
    "YBOX_entry = widgets.HBox((widgets.HTML(\"Lat.: y1=\"), \n",
    "                           widgets.FloatText(min=-90),\n",
    "                           widgets.HTML(\"< y2=\"), \n",
    "                           widgets.FloatText(max=90)\n",
    "                         ))\n",
    "BOX_box = widgets.VBox((XBOX_entry, YBOX_entry))\n",
    "BOX_box_box = widgets.VBox((BOX_box, widgets.Checkbox()))\n",
    "BOXES = widgets.VBox((BOX_box_box,))\n",
    "regions.children += (BOXES,)\n",
    "regions.set_title(doms.shape[1], \"BOX\") #ToDo: Make it so this isn't arbitrarily the last one. Low Priority.\n",
    "\n",
    "display(regions)"
   ]
  },
  {
   "cell_type": "code",
   "execution_count": null,
   "metadata": {
    "scrolled": true
   },
   "outputs": [],
   "source": [
    "# Building the output file.\n",
    "\n",
    "config = ConfigParser()\n",
    "config[\"DEFAULT\"] = {}\n",
    "for index, j in enumerate(titles[:-1]):\n",
    "    # Boolean variables\n",
    "    if j in title_dict[\"bool\"]:\n",
    "        config[\"DEFAULT\"][j] = str(int(inputs.children[index].value))\n",
    "    # File paths from FileSelector\n",
    "    elif j in title_dict[\"file\"]:\n",
    "        config[\"DEFAULT\"][j] = os.path.relpath(paths[j], start=paths[\"DATA\"])\n",
    "        # If no file was specified, the above could result in \".\", which can cause problems.\n",
    "        if len(config[\"DEFAULT\"][j])<2:\n",
    "            config[\"DEFAULT\"][j] = \"\"\n",
    "    # Directory paths from FileSelector\n",
    "    elif j in title_dict[\"dir\"]:\n",
    "        config[\"DEFAULT\"][j] = paths[j]\n",
    "    # Everything else.\n",
    "    else:\n",
    "        config[\"DEFAULT\"][j] = str(inputs.children[index].value)\n",
    "        \n",
    "# Filling the ML methods output.\n",
    "modict = \"{\\n\"\n",
    "for learners in inputs.children[-1].children:\n",
    "    if learners.children[1].value:\n",
    "        modict += f\"\\\"{learners.children[0].value}\\\":{learners.children[2].value},\\n\"\n",
    "modict += \"}\"\n",
    "config[\"DEFAULT\"][titles[-1]] = modict # ToDo: Make it so this isn't arbitrarily the last one. Very low priority.\n",
    "\n",
    "with open(ini_export, 'w') as file:\n",
    "    config.write(file)\n",
    "        "
   ]
  },
  {
   "cell_type": "code",
   "execution_count": null,
   "metadata": {},
   "outputs": [],
   "source": [
    "region_output = []\n",
    "for i, region in enumerate(regions.children):\n",
    "    for entry in region.children:\n",
    "        if entry.children[1].value:\n",
    "            if i < len(doms.keys()):\n",
    "                if doms.keys()[i] in [\"CEC.1\", \"CEC.2\"]:\n",
    "                    appender = doms.keys()[i].split(\".\")[0]\n",
    "                else:\n",
    "                    appender = doms.keys()[i]\n",
    "                region_output.append((appender, entry.children[0].value))\n",
    "            else:\n",
    "                appender = \"BOX\"\n",
    "                xs = entry.children[0].children[0]\n",
    "                x1, x2 = xs.children[1].value, xs.children[3].value\n",
    "                ys = entry.children[0].children[1]\n",
    "                y1, y2 = ys.children[1].value, ys.children[3].value\n",
    "                region_output.append((appender, f\"{x1}_{x2}_{y1}_{y2}\"))\n",
    "with open(config[\"DEFAULT\"][\"DATA\"]+\"/\"+config[\"DEFAULT\"][\"DOMAINS\"], 'w') as file:    \n",
    "    file.write(str(region_output))"
   ]
  },
  {
   "cell_type": "code",
   "execution_count": null,
   "metadata": {
    "scrolled": true
   },
   "outputs": [],
   "source": [
    "!python SOMOSPIE_wrapper.py"
   ]
  },
  {
   "cell_type": "markdown",
   "metadata": {},
   "source": [
    "The following cells allow for output visualization, from any existing output in the SOMOSPIE out folder. This includes a run completed above, but does not explicitly select the one most recently completed."
   ]
  },
  {
   "cell_type": "code",
   "execution_count": null,
   "metadata": {
    "scrolled": true
   },
   "outputs": [],
   "source": [
    "class output_management:\n",
    "    def __init__(self):\n",
    "        self.selected_out = \"\"\n",
    "        self.params = {\"models\" : {}, \"months\" : [], \"years\" : [], \"regions\" : []}\n",
    "        \n",
    "    def setOut(self, newpath):\n",
    "        self.selected_out = newpath\n",
    "    \n",
    "    def parseParamFile(self, fname):\n",
    "        path = self.selected_out + '/' + fname\n",
    "        with open(path, 'r') as f:\n",
    "            inputdict = literal_eval(f.readline())\n",
    "            print(inputdict)\n",
    "\n",
    "out_manager = output_management()\n",
    "\n",
    "FileSelectorPanel(\"Output directory to visualize.\", \\\n",
    "                                     stay_alive=True, \\\n",
    "                                     newdir_toolbar_button=True, \\\n",
    "                                     next=out_manager.setOut, \\\n",
    "                                     start_dir=paths[\"OUTPUT\"], \\\n",
    "                                     type=\"directory\").show()"
   ]
  },
  {
   "cell_type": "code",
   "execution_count": null,
   "metadata": {
    "scrolled": true
   },
   "outputs": [],
   "source": [
    "print(out_manager.selected_out)\n",
    "out_manager.parseParamFile(\"job.params\")\n"
   ]
  },
  {
   "cell_type": "code",
   "execution_count": null,
   "metadata": {},
   "outputs": [],
   "source": []
  }
 ],
 "metadata": {
  "kernelspec": {
   "display_name": "Python 3",
   "language": "python",
   "name": "python3"
  },
  "language_info": {
   "codemirror_mode": {
    "name": "ipython",
    "version": 3
   },
   "file_extension": ".py",
   "mimetype": "text/x-python",
   "name": "python",
   "nbconvert_exporter": "python",
   "pygments_lexer": "ipython3",
   "version": "3.6.4"
  }
 },
 "nbformat": 4,
 "nbformat_minor": 2
}

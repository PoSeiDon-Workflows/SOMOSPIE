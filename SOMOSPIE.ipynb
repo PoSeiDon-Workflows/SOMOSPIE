{
 "cells": [
  {
   "cell_type": "markdown",
   "metadata": {},
   "source": [
    "# SOMOSPIE\n",
    "## SOil MOisture SPatial Inference Engine\n",
    "\n",
    "### Introduction\n",
    "\n",
    "Soil moisture is a critical variable that links climate dynamics with water and food security. It regulates land-atmosphere interactions (e.g., via evapotranspiration--the loss of water from evaporation and plant transpiration to the atmosphere), and it is directly linked with plant productivity and survival. Information on soil moisture is important to design appropriate irrigation strategies to increase crop yield, and long-term soil moisture coupled with climate information provides insights into trends and potential agricultural thresholds and risks. Thus, information on soil moisture is a key factor to inform and enable precision agriculture.\n",
    "\n",
    "The current availability in soil moisture data over large areas comes from remote sensing (i.e., satellites with radar sensors) which provide daily, nearly global coverage of soil moisture. However, satellite soil moisture datasets have a major shortcoming in that they are limited to coarse spatial resolution (generally no finer than tens of kilometers).\n",
    "\n",
    "There do exist at higher resolution other geographic datasets (e.g., climatic, geological, and topographic) that are intimately related to soil moisture values. SOMOSPIE is meant to be a general-purpose tool for using such datasets to downscale (i.e., increase resolution) satelite-based soil moisture products. This Jupyter Notebook is a result of a collaboration between computer scientists of the Global Computing Laboratory at the Universtiy of Tennessee, Knoxville and soil scientists at the University of Delware (funded by NSF awards #1724843 and #1854312)."
   ]
  },
  {
   "cell_type": "markdown",
   "metadata": {},
   "source": [
    "# Environment Setup\n",
    "\n",
    "Run the following code box to load the Python and R libraries and basic functions necessary for this workflow"
   ]
  },
  {
   "cell_type": "code",
   "execution_count": 1,
   "metadata": {
    "scrolled": true
   },
   "outputs": [
    {
     "data": {
      "text/html": [
       "\n",
       "<style type=\"text/css\">\n",
       ".jupyter-widgets select option {font-family: \"Lucida Console\", Monaco, monospace;}\n",
       ".jupyter-widgets select {width: 98%;}\n",
       "div.output_subarea {padding: 0px;}\n",
       "div.output_subarea > div {margin: 0.4em;}\n",
       "</style>\n"
      ],
      "text/plain": [
       "<IPython.core.display.HTML object>"
      ]
     },
     "metadata": {},
     "output_type": "display_data"
    },
    {
     "name": "stdout",
     "output_type": "stream",
     "text": [
      "\n",
      "IPython CPU timings (estimated):\n",
      "  User   :       0.27 s.\n",
      "  System :       0.05 s.\n",
      "Wall time:       0.31 s.\n"
     ]
    }
   ],
   "source": [
    "# This conditional is in case you are rerunning this cell \n",
    "#  after running a different cell that changed the working directory. \n",
    "if 'note_START' in globals():\n",
    "    %cd $note_START\n",
    "else:\n",
    "    note_START = %pwd\n",
    "\n",
    "# If this codebox has an error that says ipywe doesn't exist,\n",
    "#  then uncomment the following and rerun the cell\n",
    "#!make submodules\n",
    "\n",
    "%run -it code/__utils.py\n",
    "\n",
    "from os.path import abspath\n",
    "note_DATA = abspath(SUB_DATA)\n",
    "note_CODE = abspath(SUB_CODE)\n",
    "note_OUT = abspath(SUB_OUTP)"
   ]
  },
  {
   "cell_type": "markdown",
   "metadata": {},
   "source": [
    "Now your environment is setup to run the SOMOSPIE Notebook. \n",
    "In particular, the following are key folders:\n",
    "* `note_START`: The working directory, the folder that contains this .ipynb.\n",
    "* `note_DATA`: The subfolder for data to be loaded and pre-processed.\n",
    "* `note_CODE`: The subfolder where the scripts for SOMOSPIE are held.\n",
    "* `note_OUT`: The subfolder where output from SOMOSPIE is stored."
   ]
  },
  {
   "cell_type": "markdown",
   "metadata": {},
   "source": [
    "The following code cell initializes SOMOSPIE's configuration handling. Default configurations are loaded from the filename assigned to `ini_inport`. Any changes to the configuration made with this Notebook are saved to the filename assigned to `ini_export`."
   ]
  },
  {
   "cell_type": "code",
   "execution_count": 2,
   "metadata": {},
   "outputs": [],
   "source": [
    "ini_import = f\"{SUB_CODE}/SOMOSPIE_input.ini\"\n",
    "ini_export = f\"{SUB_CODE}/SOMOSPIE_updated_input.ini\"\n",
    "defaultconf = ConfigParser()\n",
    "defaultconf.read(ini_import)\n",
    "methods = [\"1NN\", \"KKNN\", \"RF\", \"HYPPO\", \"SBM\"]\n",
    "conf_storage = Arg_Handler(ini_export, methods, defaultconf)"
   ]
  },
  {
   "cell_type": "markdown",
   "metadata": {},
   "source": [
    "# External Data Loading\n",
    "\n",
    "Now necessary libraries are loaded and the environment is set. Let's load in all the data you need to downscale soil moisture. Later, a subset of the data is selected for loading and making other preprocessing decisions.\n",
    "The three data types we need to load are the following:\n",
    "* Soil Moisture--coarse or gap-filled spatial dataset for which we need a complete dataset, possibly at higher resolution;\n",
    "* Topographic (Terrain) data related to soil moisture, e.g. elevation and hill slope, covering all the points where prediction is desired;\n",
    "* Region boundaries--shapefiles bounding the regions for training and prediction.\n",
    "\n",
    "### Soil Moisture Data\n",
    "\n",
    "In the code cell below, specify your source for soil moisture data. The available default data is automatically fetched from ESA-CCI for the range of years you specify to have available for you experiments. Currently, ESA-CCI data can be fetched for the following years: 1979--2017. The data comes from the project, hosted at: https://www.esa-soilmoisture-cci.org _Caution! Every year you include takes roughly 25 minutes to download from the ESA website._\n",
    "\n",
    "#### Advanced: \n",
    "\n",
    "If you choose to Select Local File with a file you uploaded or Download Remote File from a specified url, then the file _must_ match the following specifications:\n",
    " * Acceptable file formats: .rds, .tif, .csv, .txt, .sdat.\n",
    "   * If rds/tif/sdat, must be stackable in R with stack().\n",
    "   * If csv/txt, but be comma-seperated.\n",
    " * Acceptable data: 14 columns, 2 for coordinates, 12 for soil moisture.\n",
    "   * The first and second columns are longitude and latitude, respectively.\n",
    "   * The final twelve columns are for the twelve months."
   ]
  },
  {
   "cell_type": "code",
   "execution_count": 3,
   "metadata": {
    "scrolled": true
   },
   "outputs": [
    {
     "name": "stdout",
     "output_type": "stream",
     "text": [
      "/home/lvalera/SOMOSPIE\n"
     ]
    },
    {
     "data": {
      "application/vnd.jupyter.widget-view+json": {
       "model_id": "95663a2254fe4b55871f4756f0cc6587",
       "version_major": 2,
       "version_minor": 0
      },
      "text/html": [
       "<p>Failed to display Jupyter Widget of type <code>VBox</code>.</p>\n",
       "<p>\n",
       "  If you're reading this message in the Jupyter Notebook or JupyterLab Notebook, it may mean\n",
       "  that the widgets JavaScript is still loading. If this message persists, it\n",
       "  likely means that the widgets JavaScript library is either not installed or\n",
       "  not enabled. See the <a href=\"https://ipywidgets.readthedocs.io/en/stable/user_install.html\">Jupyter\n",
       "  Widgets Documentation</a> for setup instructions.\n",
       "</p>\n",
       "<p>\n",
       "  If you're reading this message in another frontend (for example, a static\n",
       "  rendering on GitHub or <a href=\"https://nbviewer.jupyter.org/\">NBViewer</a>),\n",
       "  it may mean that your frontend doesn't currently support widgets.\n",
       "</p>\n"
      ],
      "text/plain": [
       "VBox(children=(Dropdown(description='Location:', index=1, options=('Select data source:', 'Fetch Default Data', 'Select Local File', 'Download Remote File'), value='Fetch Default Data'), VBox(children=(Dropdown(description='Start year:', index=38, options=('1979', '1980', '1981', '1982', '1983', '1984', '1985', '1986', '1987', '1988', '1989', '1990', '1991', '1992', '1993', '1994', '1995', '1996', '1997', '1998', '1999', '2000', '2001', '2002', '2003', '2004', '2005', '2006', '2007', '2008', '2009', '2010', '2011', '2012', '2013', '2014', '2015', '2016', '2017'), value='2017'), Dropdown(description='End year:', index=38, options=('1979', '1980', '1981', '1982', '1983', '1984', '1985', '1986', '1987', '1988', '1989', '1990', '1991', '1992', '1993', '1994', '1995', '1996', '1997', '1998', '1999', '2000', '2001', '2002', '2003', '2004', '2005', '2006', '2007', '2008', '2009', '2010', '2011', '2012', '2013', '2014', '2015', '2016', '2017'), value='2017')))))"
      ]
     },
     "metadata": {},
     "output_type": "display_data"
    }
   ],
   "source": [
    "%cd $note_START\n",
    "sm_widgets = sm_source_widget()"
   ]
  },
  {
   "cell_type": "code",
   "execution_count": 4,
   "metadata": {},
   "outputs": [
    {
     "name": "stdout",
     "output_type": "stream",
     "text": [
      "/home/lvalera/SOMOSPIE\n",
      "Monthly means generated for 2017.\n"
     ]
    }
   ],
   "source": [
    "%cd $note_START\n",
    "sm_widg = SoilMoistureData(sm_widgets)"
   ]
  },
  {
   "cell_type": "markdown",
   "metadata": {},
   "source": [
    "### Topographic Data\n",
    "\n",
    "Satellite-based soil moisture data is coarse and full of spatial gaps, so we use related topographic data to make predictions at finer resolution. By default SOMOSPIE makes predictions at the native resolution of the topographic data.\n",
    "\n",
    "If you need sample topographic data, this notebook can fetch it for you. _Caution! Every layer you select takes a few minutes to download._\n",
    "\n",
    "#### Advanced\n",
    "If you choose to Select Local File with a file you uploaded or Download Remote File from a specified url, then the file _must_ match the following specification:\n",
    " * Spatial file with longitude/latitude coordinates."
   ]
  },
  {
   "cell_type": "code",
   "execution_count": 5,
   "metadata": {
    "scrolled": true
   },
   "outputs": [
    {
     "name": "stdout",
     "output_type": "stream",
     "text": [
      "/home/lvalera/SOMOSPIE\n"
     ]
    },
    {
     "data": {
      "application/vnd.jupyter.widget-view+json": {
       "model_id": "b76a3ae3707448678385caeab0e605a1",
       "version_major": 2,
       "version_minor": 0
      },
      "text/html": [
       "<p>Failed to display Jupyter Widget of type <code>VBox</code>.</p>\n",
       "<p>\n",
       "  If you're reading this message in the Jupyter Notebook or JupyterLab Notebook, it may mean\n",
       "  that the widgets JavaScript is still loading. If this message persists, it\n",
       "  likely means that the widgets JavaScript library is either not installed or\n",
       "  not enabled. See the <a href=\"https://ipywidgets.readthedocs.io/en/stable/user_install.html\">Jupyter\n",
       "  Widgets Documentation</a> for setup instructions.\n",
       "</p>\n",
       "<p>\n",
       "  If you're reading this message in another frontend (for example, a static\n",
       "  rendering on GitHub or <a href=\"https://nbviewer.jupyter.org/\">NBViewer</a>),\n",
       "  it may mean that your frontend doesn't currently support widgets.\n",
       "</p>\n"
      ],
      "text/plain": [
       "VBox(children=(Dropdown(description='Location:', index=1, options=('Select data source:', 'Fetch Default Data', 'Select Local File', 'Download Remote File'), value='Fetch Default Data'), Accordion(children=(VBox(children=(HBox(children=(Checkbox(value=True), Label(value='CONUS_DEM1km'))), HBox(children=(Checkbox(value=False), Label(value='Aspect'))), HBox(children=(Checkbox(value=False), Label(value='Analytical_Hillshading'))), HBox(children=(Checkbox(value=False), Label(value='Channel_Network_Base_Level'))), HBox(children=(Checkbox(value=True), Label(value='Convergence_Index'))), HBox(children=(Checkbox(value=False), Label(value='Cross-Sectional_Curvature'))), HBox(children=(Checkbox(value=False), Label(value='Flow_Accumulation'))), HBox(children=(Checkbox(value=False), Label(value='Longitudinal_Curvature'))), HBox(children=(Checkbox(value=True), Label(value='LS_Factor'))), HBox(children=(Checkbox(value=False), Label(value='Relative_Slope_Position'))), HBox(children=(Checkbox(value=False), Label(value='Slope'))), HBox(children=(Checkbox(value=False), Label(value='Topographic_Wetness_Index'))), HBox(children=(Checkbox(value=True), Label(value='Valley_Depth'))), HBox(children=(Checkbox(value=False), Label(value='Vertical_Distance_to_Channel_Network'))))),), _titles={'0': 'Available Topographic Parameters'})))"
      ]
     },
     "metadata": {},
     "output_type": "display_data"
    }
   ],
   "source": [
    "%cd $note_START\n",
    "cd_widgets = cd_source_widget()"
   ]
  },
  {
   "cell_type": "code",
   "execution_count": 6,
   "metadata": {
    "scrolled": true
   },
   "outputs": [
    {
     "name": "stdout",
     "output_type": "stream",
     "text": [
      "/home/lvalera/SOMOSPIE\n",
      "Topo layer Aspect loaded.\n",
      "Topo layer Slope loaded.\n",
      "Topo layer Topographic_Wetness_Index loaded.\n",
      "A .tif is ready for every topography layer.\n"
     ]
    }
   ],
   "source": [
    "%cd $note_START\n",
    "cov_widg = CovariateData(cd_widgets)"
   ]
  },
  {
   "cell_type": "markdown",
   "metadata": {},
   "source": [
    "### Region Data\n",
    "\n",
    "One of the features of SOMOSPIE is region selection. Please select which region types you wish to have available."
   ]
  },
  {
   "cell_type": "code",
   "execution_count": 7,
   "metadata": {},
   "outputs": [
    {
     "name": "stdout",
     "output_type": "stream",
     "text": [
      "/home/lvalera/SOMOSPIE\n",
      "STATE: 50 states of the USA, 'District of Columbia', or 'CONUS'.\n",
      "NEON: 20 NEON ecoclimatic domains (neonscience.org/about/about/spatiotemporal-design).\n",
      "CEC: Level 1, 2, or 3 CEC ecoregions (cec.org/tools-and-resources/map-files/terrestrial-ecoregions-level-iii)\n",
      "BOX: A longitude/latitude-defined box, uniformly divided into sub-boxes.\n"
     ]
    },
    {
     "data": {
      "application/vnd.jupyter.widget-view+json": {
       "model_id": "8a1d65aee6884af1b14116f10a9731b6",
       "version_major": 2,
       "version_minor": 0
      },
      "text/html": [
       "<p>Failed to display Jupyter Widget of type <code>Accordion</code>.</p>\n",
       "<p>\n",
       "  If you're reading this message in the Jupyter Notebook or JupyterLab Notebook, it may mean\n",
       "  that the widgets JavaScript is still loading. If this message persists, it\n",
       "  likely means that the widgets JavaScript library is either not installed or\n",
       "  not enabled. See the <a href=\"https://ipywidgets.readthedocs.io/en/stable/user_install.html\">Jupyter\n",
       "  Widgets Documentation</a> for setup instructions.\n",
       "</p>\n",
       "<p>\n",
       "  If you're reading this message in another frontend (for example, a static\n",
       "  rendering on GitHub or <a href=\"https://nbviewer.jupyter.org/\">NBViewer</a>),\n",
       "  it may mean that your frontend doesn't currently support widgets.\n",
       "</p>\n"
      ],
      "text/plain": [
       "Accordion(children=(VBox(children=(HBox(children=(Checkbox(value=True), Label(value='STATE'))), HBox(children=(Checkbox(value=False), Label(value='NEON'))), HBox(children=(Checkbox(value=False), Label(value='CEC'))), HBox(children=(Checkbox(value=False), Label(value='BOX'))))),), _titles={'0': 'Region Types'})"
      ]
     },
     "metadata": {},
     "output_type": "display_data"
    }
   ],
   "source": [
    "%cd $note_START\n",
    "reg_type_acc = reg_type_widget()"
   ]
  },
  {
   "cell_type": "markdown",
   "metadata": {},
   "source": [
    "# Input Data Selection\n",
    "\n",
    "Now select what subset of the loaded data to use:\n",
    "* Which year of ESA-CCI data do you want to use, or what is the year of the data you provided?\n",
    "* Which topographic variables do you want to use, or what are the variables of the data you provided?\n",
    "* Which regions do you want to use from the region-types specified above?\n",
    "\n",
    "Execute the following code-box to activate the widgets for data selection."
   ]
  },
  {
   "cell_type": "code",
   "execution_count": 12,
   "metadata": {
    "scrolled": false
   },
   "outputs": [
    {
     "name": "stdout",
     "output_type": "stream",
     "text": [
      "/home/lvalera/SOMOSPIE\n"
     ]
    },
    {
     "data": {
      "application/vnd.jupyter.widget-view+json": {
       "model_id": "7bc35cb56de74794ab60d8de8d849e92",
       "version_major": 2,
       "version_minor": 0
      },
      "text/html": [
       "<p>Failed to display Jupyter Widget of type <code>BoundedIntText</code>.</p>\n",
       "<p>\n",
       "  If you're reading this message in the Jupyter Notebook or JupyterLab Notebook, it may mean\n",
       "  that the widgets JavaScript is still loading. If this message persists, it\n",
       "  likely means that the widgets JavaScript library is either not installed or\n",
       "  not enabled. See the <a href=\"https://ipywidgets.readthedocs.io/en/stable/user_install.html\">Jupyter\n",
       "  Widgets Documentation</a> for setup instructions.\n",
       "</p>\n",
       "<p>\n",
       "  If you're reading this message in another frontend (for example, a static\n",
       "  rendering on GitHub or <a href=\"https://nbviewer.jupyter.org/\">NBViewer</a>),\n",
       "  it may mean that your frontend doesn't currently support widgets.\n",
       "</p>\n"
      ],
      "text/plain": [
       "BoundedIntText(value=2017, description='Which year do you want to use?', max=2017, min=2017)"
      ]
     },
     "metadata": {},
     "output_type": "display_data"
    },
    {
     "data": {
      "application/vnd.jupyter.widget-view+json": {
       "model_id": "0d2660e1505a496aa3e727a943fedef1",
       "version_major": 2,
       "version_minor": 0
      },
      "text/html": [
       "<p>Failed to display Jupyter Widget of type <code>Accordion</code>.</p>\n",
       "<p>\n",
       "  If you're reading this message in the Jupyter Notebook or JupyterLab Notebook, it may mean\n",
       "  that the widgets JavaScript is still loading. If this message persists, it\n",
       "  likely means that the widgets JavaScript library is either not installed or\n",
       "  not enabled. See the <a href=\"https://ipywidgets.readthedocs.io/en/stable/user_install.html\">Jupyter\n",
       "  Widgets Documentation</a> for setup instructions.\n",
       "</p>\n",
       "<p>\n",
       "  If you're reading this message in another frontend (for example, a static\n",
       "  rendering on GitHub or <a href=\"https://nbviewer.jupyter.org/\">NBViewer</a>),\n",
       "  it may mean that your frontend doesn't currently support widgets.\n",
       "</p>\n"
      ],
      "text/plain": [
       "Accordion(children=(VBox(children=(HBox(children=(Checkbox(value=True), Label(value='Aspect'))), HBox(children=(Checkbox(value=True), Label(value='Slope'))), HBox(children=(Checkbox(value=True), Label(value='Topographic_Wetness_Index'))))),), _titles={'0': 'Available Topographic Parameters'})"
      ]
     },
     "metadata": {},
     "output_type": "display_data"
    },
    {
     "data": {
      "application/vnd.jupyter.widget-view+json": {
       "model_id": "9c0655b1c68f4bdca93ecda8dad7fac6",
       "version_major": 2,
       "version_minor": 0
      },
      "text/html": [
       "<p>Failed to display Jupyter Widget of type <code>Accordion</code>.</p>\n",
       "<p>\n",
       "  If you're reading this message in the Jupyter Notebook or JupyterLab Notebook, it may mean\n",
       "  that the widgets JavaScript is still loading. If this message persists, it\n",
       "  likely means that the widgets JavaScript library is either not installed or\n",
       "  not enabled. See the <a href=\"https://ipywidgets.readthedocs.io/en/stable/user_install.html\">Jupyter\n",
       "  Widgets Documentation</a> for setup instructions.\n",
       "</p>\n",
       "<p>\n",
       "  If you're reading this message in another frontend (for example, a static\n",
       "  rendering on GitHub or <a href=\"https://nbviewer.jupyter.org/\">NBViewer</a>),\n",
       "  it may mean that your frontend doesn't currently support widgets.\n",
       "</p>\n"
      ],
      "text/plain": [
       "Accordion(children=(VBox(children=(HBox(children=(Checkbox(value=True), Label(value='1.0'))), HBox(children=(Checkbox(value=False), Label(value='2.0'))), HBox(children=(Checkbox(value=False), Label(value='3.0'))), HBox(children=(Checkbox(value=False), Label(value='4.0'))), HBox(children=(Checkbox(value=False), Label(value='5.0'))), HBox(children=(Checkbox(value=False), Label(value='6.0'))), HBox(children=(Checkbox(value=False), Label(value='7.0'))), HBox(children=(Checkbox(value=False), Label(value='8.0'))), HBox(children=(Checkbox(value=False), Label(value='9.0'))), HBox(children=(Checkbox(value=False), Label(value='10.0'))), HBox(children=(Checkbox(value=False), Label(value='11.0'))), HBox(children=(Checkbox(value=False), Label(value='12.0'))), HBox(children=(Checkbox(value=False), Label(value='13.0'))), HBox(children=(Checkbox(value=False), Label(value='14.0'))), HBox(children=(Checkbox(value=False), Label(value='15.0'))))), VBox(children=(HBox(children=(Checkbox(value=False), Label(value='1.1'))), HBox(children=(Checkbox(value=False), Label(value='2.1'))), HBox(children=(Checkbox(value=False), Label(value='2.2'))), HBox(children=(Checkbox(value=False), Label(value='2.3'))), HBox(children=(Checkbox(value=False), Label(value='2.4'))), HBox(children=(Checkbox(value=False), Label(value='3.1'))), HBox(children=(Checkbox(value=False), Label(value='3.2'))), HBox(children=(Checkbox(value=False), Label(value='3.3'))), HBox(children=(Checkbox(value=False), Label(value='3.4'))), HBox(children=(Checkbox(value=False), Label(value='4.1'))), HBox(children=(Checkbox(value=False), Label(value='5.1'))), HBox(children=(Checkbox(value=False), Label(value='5.2'))), HBox(children=(Checkbox(value=False), Label(value='5.3'))), HBox(children=(Checkbox(value=False), Label(value='5.4'))), HBox(children=(Checkbox(value=False), Label(value='6.1'))), HBox(children=(Checkbox(value=False), Label(value='6.2'))), HBox(children=(Checkbox(value=False), Label(value='7.1'))), HBox(children=(Checkbox(value=False), Label(value='8.1'))), HBox(children=(Checkbox(value=False), Label(value='8.2'))), HBox(children=(Checkbox(value=False), Label(value='8.3'))), HBox(children=(Checkbox(value=False), Label(value='8.4'))), HBox(children=(Checkbox(value=False), Label(value='8.5'))), HBox(children=(Checkbox(value=False), Label(value='9.2'))), HBox(children=(Checkbox(value=False), Label(value='9.3'))), HBox(children=(Checkbox(value=False), Label(value='9.4'))), HBox(children=(Checkbox(value=False), Label(value='9.5'))), HBox(children=(Checkbox(value=False), Label(value='9.6'))), HBox(children=(Checkbox(value=False), Label(value='10.1'))), HBox(children=(Checkbox(value=False), Label(value='10.2'))), HBox(children=(Checkbox(value=False), Label(value='11.1'))), HBox(children=(Checkbox(value=False), Label(value='12.1'))), HBox(children=(Checkbox(value=False), Label(value='12.2'))), HBox(children=(Checkbox(value=False), Label(value='13.1'))), HBox(children=(Checkbox(value=False), Label(value='13.2'))), HBox(children=(Checkbox(value=False), Label(value='13.3'))), HBox(children=(Checkbox(value=False), Label(value='13.4'))), HBox(children=(Checkbox(value=False), Label(value='13.5'))), HBox(children=(Checkbox(value=False), Label(value='13.6'))), HBox(children=(Checkbox(value=False), Label(value='14.1'))), HBox(children=(Checkbox(value=False), Label(value='14.2'))), HBox(children=(Checkbox(value=False), Label(value='14.3'))), HBox(children=(Checkbox(value=False), Label(value='14.4'))), HBox(children=(Checkbox(value=False), Label(value='14.5'))), HBox(children=(Checkbox(value=False), Label(value='14.6'))), HBox(children=(Checkbox(value=False), Label(value='15.1'))), HBox(children=(Checkbox(value=False), Label(value='15.2'))), HBox(children=(Checkbox(value=False), Label(value='15.3'))), HBox(children=(Checkbox(value=False), Label(value='15.4'))), HBox(children=(Checkbox(value=False), Label(value='15.5'))), HBox(children=(Checkbox(value=False), Label(value='15.6'))))), VBox(children=(HBox(children=(Checkbox(value=False), Label(value='1.1.1'))), HBox(children=(Checkbox(value=False), Label(value='1.1.2'))), HBox(children=(Checkbox(value=False), Label(value='2.1.1'))), HBox(children=(Checkbox(value=False), Label(value='2.1.2'))), HBox(children=(Checkbox(value=False), Label(value='2.1.3'))), HBox(children=(Checkbox(value=False), Label(value='2.1.4'))), HBox(children=(Checkbox(value=False), Label(value='2.1.5'))), HBox(children=(Checkbox(value=False), Label(value='2.1.6'))), HBox(children=(Checkbox(value=False), Label(value='2.1.7'))), HBox(children=(Checkbox(value=False), Label(value='2.1.8'))), HBox(children=(Checkbox(value=False), Label(value='2.1.9'))), HBox(children=(Checkbox(value=False), Label(value='2.2.1'))), HBox(children=(Checkbox(value=False), Label(value='2.2.2'))), HBox(children=(Checkbox(value=False), Label(value='2.2.3'))), HBox(children=(Checkbox(value=False), Label(value='2.2.4'))), HBox(children=(Checkbox(value=False), Label(value='2.2.5'))), HBox(children=(Checkbox(value=False), Label(value='2.2.6'))), HBox(children=(Checkbox(value=False), Label(value='2.3.1'))), HBox(children=(Checkbox(value=False), Label(value='2.4.1'))), HBox(children=(Checkbox(value=False), Label(value='2.4.2'))), HBox(children=(Checkbox(value=False), Label(value='2.4.3'))), HBox(children=(Checkbox(value=False), Label(value='2.4.4'))), HBox(children=(Checkbox(value=False), Label(value='3.1.1'))), HBox(children=(Checkbox(value=False), Label(value='3.1.2'))), HBox(children=(Checkbox(value=False), Label(value='3.1.3'))), HBox(children=(Checkbox(value=False), Label(value='3.2.1'))), HBox(children=(Checkbox(value=False), Label(value='3.2.2'))), HBox(children=(Checkbox(value=False), Label(value='3.2.3'))), HBox(children=(Checkbox(value=False), Label(value='3.3.1'))), HBox(children=(Checkbox(value=False), Label(value='3.3.2'))), HBox(children=(Checkbox(value=False), Label(value='3.4.1'))), HBox(children=(Checkbox(value=False), Label(value='3.4.2'))), HBox(children=(Checkbox(value=False), Label(value='3.4.3'))), HBox(children=(Checkbox(value=False), Label(value='3.4.4'))), HBox(children=(Checkbox(value=False), Label(value='3.4.5'))), HBox(children=(Checkbox(value=False), Label(value='4.1.1'))), HBox(children=(Checkbox(value=False), Label(value='4.1.2'))), HBox(children=(Checkbox(value=False), Label(value='5.1.1'))), HBox(children=(Checkbox(value=False), Label(value='5.1.2'))), HBox(children=(Checkbox(value=False), Label(value='5.1.3'))), HBox(children=(Checkbox(value=False), Label(value='5.1.4'))), HBox(children=(Checkbox(value=False), Label(value='5.1.5'))), HBox(children=(Checkbox(value=False), Label(value='5.1.6'))), HBox(children=(Checkbox(value=False), Label(value='5.2.1'))), HBox(children=(Checkbox(value=False), Label(value='5.2.2'))), HBox(children=(Checkbox(value=False), Label(value='5.2.3'))), HBox(children=(Checkbox(value=False), Label(value='5.3.1'))), HBox(children=(Checkbox(value=False), Label(value='5.3.3'))), HBox(children=(Checkbox(value=False), Label(value='5.4.1'))), HBox(children=(Checkbox(value=False), Label(value='5.4.2'))), HBox(children=(Checkbox(value=False), Label(value='5.4.3'))), HBox(children=(Checkbox(value=False), Label(value='6.1.1'))), HBox(children=(Checkbox(value=False), Label(value='6.1.2'))), HBox(children=(Checkbox(value=False), Label(value='6.1.3'))), HBox(children=(Checkbox(value=False), Label(value='6.1.4'))), HBox(children=(Checkbox(value=False), Label(value='6.1.5'))), HBox(children=(Checkbox(value=False), Label(value='6.1.6'))), HBox(children=(Checkbox(value=False), Label(value='6.2.1'))), HBox(children=(Checkbox(value=False), Label(value='6.2.2'))), HBox(children=(Checkbox(value=False), Label(value='6.2.3'))), HBox(children=(Checkbox(value=False), Label(value='6.2.4'))), HBox(children=(Checkbox(value=False), Label(value='6.2.5'))), HBox(children=(Checkbox(value=False), Label(value='6.2.6'))), HBox(children=(Checkbox(value=False), Label(value='6.2.7'))), HBox(children=(Checkbox(value=False), Label(value='6.2.8'))), HBox(children=(Checkbox(value=False), Label(value='6.2.9'))), HBox(children=(Checkbox(value=False), Label(value='6.2.10'))), HBox(children=(Checkbox(value=False), Label(value='6.2.11'))), HBox(children=(Checkbox(value=False), Label(value='6.2.12'))), HBox(children=(Checkbox(value=False), Label(value='6.2.13'))), HBox(children=(Checkbox(value=False), Label(value='6.2.14'))), HBox(children=(Checkbox(value=False), Label(value='6.2.15'))), HBox(children=(Checkbox(value=False), Label(value='7.1.1'))), HBox(children=(Checkbox(value=False), Label(value='7.1.2'))), HBox(children=(Checkbox(value=False), Label(value='7.1.3'))), HBox(children=(Checkbox(value=False), Label(value='7.1.4'))), HBox(children=(Checkbox(value=False), Label(value='7.1.5'))), HBox(children=(Checkbox(value=False), Label(value='7.1.6'))), HBox(children=(Checkbox(value=False), Label(value='7.1.7'))), HBox(children=(Checkbox(value=False), Label(value='7.1.8'))), HBox(children=(Checkbox(value=False), Label(value='7.1.9'))), HBox(children=(Checkbox(value=False), Label(value='8.1.1'))), HBox(children=(Checkbox(value=False), Label(value='8.1.2'))), HBox(children=(Checkbox(value=False), Label(value='8.1.3'))), HBox(children=(Checkbox(value=False), Label(value='8.1.4'))), HBox(children=(Checkbox(value=False), Label(value='8.1.5'))), HBox(children=(Checkbox(value=False), Label(value='8.1.6'))), HBox(children=(Checkbox(value=False), Label(value='8.1.7'))), HBox(children=(Checkbox(value=False), Label(value='8.1.8'))), HBox(children=(Checkbox(value=False), Label(value='8.1.9'))), HBox(children=(Checkbox(value=False), Label(value='8.1.10'))), HBox(children=(Checkbox(value=False), Label(value='8.2.1'))), HBox(children=(Checkbox(value=False), Label(value='8.2.2'))), HBox(children=(Checkbox(value=False), Label(value='8.2.3'))), HBox(children=(Checkbox(value=False), Label(value='8.2.4'))), HBox(children=(Checkbox(value=False), Label(value='8.3.1'))), HBox(children=(Checkbox(value=False), Label(value='8.3.2'))), HBox(children=(Checkbox(value=False), Label(value='8.3.3'))), HBox(children=(Checkbox(value=False), Label(value='8.3.4'))), HBox(children=(Checkbox(value=False), Label(value='8.3.5'))), HBox(children=(Checkbox(value=False), Label(value='8.3.6'))), HBox(children=(Checkbox(value=False), Label(value='8.3.7'))), HBox(children=(Checkbox(value=False), Label(value='8.3.8'))), HBox(children=(Checkbox(value=False), Label(value='8.4.1'))), HBox(children=(Checkbox(value=False), Label(value='8.4.2'))), HBox(children=(Checkbox(value=False), Label(value='8.4.3'))), HBox(children=(Checkbox(value=False), Label(value='8.4.4'))), HBox(children=(Checkbox(value=False), Label(value='8.4.5'))), HBox(children=(Checkbox(value=False), Label(value='8.4.6'))), HBox(children=(Checkbox(value=False), Label(value='8.4.7'))), HBox(children=(Checkbox(value=False), Label(value='8.4.8'))), HBox(children=(Checkbox(value=False), Label(value='8.4.9'))), HBox(children=(Checkbox(value=False), Label(value='8.5.1'))), HBox(children=(Checkbox(value=False), Label(value='8.5.2'))), HBox(children=(Checkbox(value=False), Label(value='8.5.3'))), HBox(children=(Checkbox(value=False), Label(value='8.5.4'))), HBox(children=(Checkbox(value=False), Label(value='9.2.1'))), HBox(children=(Checkbox(value=False), Label(value='9.2.2'))), HBox(children=(Checkbox(value=False), Label(value='9.2.3'))), HBox(children=(Checkbox(value=False), Label(value='9.2.4'))), HBox(children=(Checkbox(value=False), Label(value='9.3.1'))), HBox(children=(Checkbox(value=False), Label(value='9.3.3'))), HBox(children=(Checkbox(value=False), Label(value='9.3.4'))), HBox(children=(Checkbox(value=False), Label(value='9.4.1'))), HBox(children=(Checkbox(value=False), Label(value='9.4.2'))), HBox(children=(Checkbox(value=False), Label(value='9.4.3'))), HBox(children=(Checkbox(value=False), Label(value='9.4.4'))), HBox(children=(Checkbox(value=False), Label(value='9.4.5'))), HBox(children=(Checkbox(value=False), Label(value='9.4.6'))), HBox(children=(Checkbox(value=False), Label(value='9.4.7'))), HBox(children=(Checkbox(value=False), Label(value='9.5.1'))), HBox(children=(Checkbox(value=False), Label(value='9.6.1'))), HBox(children=(Checkbox(value=False), Label(value='10.1.1'))), HBox(children=(Checkbox(value=False), Label(value='10.1.2'))), HBox(children=(Checkbox(value=False), Label(value='10.1.3'))), HBox(children=(Checkbox(value=False), Label(value='10.1.4'))), HBox(children=(Checkbox(value=False), Label(value='10.1.5'))), HBox(children=(Checkbox(value=False), Label(value='10.1.6'))), HBox(children=(Checkbox(value=False), Label(value='10.1.7'))), HBox(children=(Checkbox(value=False), Label(value='10.1.8'))), HBox(children=(Checkbox(value=False), Label(value='10.2.1'))), HBox(children=(Checkbox(value=False), Label(value='10.2.2'))), HBox(children=(Checkbox(value=False), Label(value='10.2.3'))), HBox(children=(Checkbox(value=False), Label(value='10.2.4'))), HBox(children=(Checkbox(value=False), Label(value='11.1.1'))), HBox(children=(Checkbox(value=False), Label(value='11.1.2'))), HBox(children=(Checkbox(value=False), Label(value='11.1.3'))), HBox(children=(Checkbox(value=False), Label(value='12.1.1'))), HBox(children=(Checkbox(value=False), Label(value='12.1.2'))), HBox(children=(Checkbox(value=False), Label(value='12.2.1'))), HBox(children=(Checkbox(value=False), Label(value='13.1.1'))), HBox(children=(Checkbox(value=False), Label(value='13.2.1'))), HBox(children=(Checkbox(value=False), Label(value='13.3.1'))), HBox(children=(Checkbox(value=False), Label(value='13.4.1'))), HBox(children=(Checkbox(value=False), Label(value='13.4.2'))), HBox(children=(Checkbox(value=False), Label(value='13.5.1'))), HBox(children=(Checkbox(value=False), Label(value='13.5.2'))), HBox(children=(Checkbox(value=False), Label(value='13.6.1'))), HBox(children=(Checkbox(value=False), Label(value='13.6.2'))), HBox(children=(Checkbox(value=False), Label(value='14.1.1'))), HBox(children=(Checkbox(value=False), Label(value='14.1.2'))), HBox(children=(Checkbox(value=False), Label(value='14.2.1'))), HBox(children=(Checkbox(value=False), Label(value='14.3.1'))), HBox(children=(Checkbox(value=False), Label(value='14.3.2'))), HBox(children=(Checkbox(value=False), Label(value='14.4.1'))), HBox(children=(Checkbox(value=False), Label(value='14.4.2'))), HBox(children=(Checkbox(value=False), Label(value='14.4.3'))), HBox(children=(Checkbox(value=False), Label(value='14.5.1'))), HBox(children=(Checkbox(value=False), Label(value='14.5.2'))), HBox(children=(Checkbox(value=False), Label(value='14.6.1'))), HBox(children=(Checkbox(value=False), Label(value='14.6.2'))), HBox(children=(Checkbox(value=False), Label(value='15.1.1'))), HBox(children=(Checkbox(value=False), Label(value='15.1.2'))), HBox(children=(Checkbox(value=False), Label(value='15.2.1'))), HBox(children=(Checkbox(value=False), Label(value='15.2.2'))), HBox(children=(Checkbox(value=False), Label(value='15.2.3'))), HBox(children=(Checkbox(value=False), Label(value='15.3.1'))), HBox(children=(Checkbox(value=False), Label(value='15.4.1'))), HBox(children=(Checkbox(value=False), Label(value='15.5.1'))), HBox(children=(Checkbox(value=False), Label(value='15.5.2'))), HBox(children=(Checkbox(value=False), Label(value='15.6.1')))))), _titles={'0': 'CEC.lvl1', '1': 'CEC.lvl2', '2': 'CEC.lvl3'})"
      ]
     },
     "metadata": {},
     "output_type": "display_data"
    }
   ],
   "source": [
    "%cd $note_START\n",
    "display(sm_widg)\n",
    "display(cov_widg)\n",
    "reg_acc = region_widget(reg_type_acc)"
   ]
  },
  {
   "cell_type": "markdown",
   "metadata": {},
   "source": [
    "# Data Processing Decisions\n",
    "\n",
    "Now we can select what data processing to perform before applying machine-learning methods.\n",
    "\n",
    "Execute the following code-box to activate the data processing decisions."
   ]
  },
  {
   "cell_type": "code",
   "execution_count": 14,
   "metadata": {
    "scrolled": false
   },
   "outputs": [
    {
     "name": "stdout",
     "output_type": "stream",
     "text": [
      "/home/lvalera/SOMOSPIE/code\n"
     ]
    },
    {
     "data": {
      "application/vnd.jupyter.widget-view+json": {
       "model_id": "27e0e80bba9142188af7104b5e56f4ac",
       "version_major": 2,
       "version_minor": 0
      },
      "text/html": [
       "<p>Failed to display Jupyter Widget of type <code>Accordion</code>.</p>\n",
       "<p>\n",
       "  If you're reading this message in the Jupyter Notebook or JupyterLab Notebook, it may mean\n",
       "  that the widgets JavaScript is still loading. If this message persists, it\n",
       "  likely means that the widgets JavaScript library is either not installed or\n",
       "  not enabled. See the <a href=\"https://ipywidgets.readthedocs.io/en/stable/user_install.html\">Jupyter\n",
       "  Widgets Documentation</a> for setup instructions.\n",
       "</p>\n",
       "<p>\n",
       "  If you're reading this message in another frontend (for example, a static\n",
       "  rendering on GitHub or <a href=\"https://nbviewer.jupyter.org/\">NBViewer</a>),\n",
       "  it may mean that your frontend doesn't currently support widgets.\n",
       "</p>\n"
      ],
      "text/plain": [
       "Accordion(children=(VBox(children=(Label(value='A list of months.'), Text(value='[1]'))), VBox(children=(Label(value='True if you want to generate (using SM_FILE and COV_FILE) a train and eval file for each region '), Checkbox(value=True))), VBox(children=(Label(value='True if you want to perform PCA dimension reduction on the covariate data.'), Checkbox(value=False))), VBox(children=(Label(value='0 for no validation; 1.xx to compare predictions to xx% of the original data; 2 to compare prediction to the training data'), FloatText(value=1.3))), VBox(children=(Label(value='Specify a positive integer, or 0 to generate a new random seed.'), IntText(value=0))), VBox(children=(Label(value='True if you want to generate images for the predictions.'), Checkbox(value=True))), VBox(children=(Label(value='The minimum number of train points required for a region to be used.'), IntText(value=11))), VBox(children=(Label(value='Specify a positive integer for the nubmer of kms you want to expand the training data around each region; 0 for no buffer.'), IntText(value=0))), VBox(children=(Label(value='If true, then training data for ESA-CCI ecoregions will be expanded to one higher level.'), Checkbox(value=False)))), _titles={'0': 'MONTHS', '1': 'MAKE_T_E', '2': 'USE_PCA', '3': 'VALIDATE', '4': 'RAND_SEED', '5': 'USE_VIS', '6': 'MIN_T_POINTS', '7': 'BUFFER', '8': 'SUPER'})"
      ]
     },
     "metadata": {},
     "output_type": "display_data"
    }
   ],
   "source": [
    "%cd $note_CODE\n",
    "procs = init_proc_widgets(conf_storage)"
   ]
  },
  {
   "cell_type": "markdown",
   "metadata": {},
   "source": [
    "# Machine Learning\n",
    "\n",
    "SOMOSPIE has 5 default Machine Learning methods built in:\n",
    "* 1NN, 1-Nearest Neighbors (Python)\n",
    "  * Models at each evaluation point using the value of the nearest training point.\n",
    "* KKNN, Kernel-wighted K-Nearest Neighbors (R)\n",
    "  * Models locally with a weighted mean of the k nearest training points.\n",
    "* RF, Random Forests (R)\n",
    "  * Models with a weighted sum of global inference trees.\n",
    "* HYPPO, HYbrid Piecewise POlynomial method (Python)\n",
    "  * Models with local best-fit polynomials generated by the k nearest training points. \n",
    "* SBM, Surrogate-Based Modeling (Python)\n",
    "  * Models with a global best-fit polynomial generated by random samples of training points.\n",
    "\n",
    "Execute the following code-box to activate the widget for selecting machine-learning methods and specifying their parameters. \n",
    "\n",
    "_NOTE: The RHS of this widget is intended to be written with Python dictionary syntax at time of writing--errors arise if values such as strings without quotes are passed._"
   ]
  },
  {
   "cell_type": "code",
   "execution_count": 15,
   "metadata": {
    "scrolled": true
   },
   "outputs": [
    {
     "name": "stdout",
     "output_type": "stream",
     "text": [
      "/home/lvalera/SOMOSPIE/code\n"
     ]
    },
    {
     "data": {
      "application/vnd.jupyter.widget-view+json": {
       "model_id": "71a32f0198624c57a46783143aafb4c1",
       "version_major": 2,
       "version_minor": 0
      },
      "text/html": [
       "<p>Failed to display Jupyter Widget of type <code>Accordion</code>.</p>\n",
       "<p>\n",
       "  If you're reading this message in the Jupyter Notebook or JupyterLab Notebook, it may mean\n",
       "  that the widgets JavaScript is still loading. If this message persists, it\n",
       "  likely means that the widgets JavaScript library is either not installed or\n",
       "  not enabled. See the <a href=\"https://ipywidgets.readthedocs.io/en/stable/user_install.html\">Jupyter\n",
       "  Widgets Documentation</a> for setup instructions.\n",
       "</p>\n",
       "<p>\n",
       "  If you're reading this message in another frontend (for example, a static\n",
       "  rendering on GitHub or <a href=\"https://nbviewer.jupyter.org/\">NBViewer</a>),\n",
       "  it may mean that your frontend doesn't currently support widgets.\n",
       "</p>\n"
      ],
      "text/plain": [
       "Accordion(children=(VBox(children=(HBox(children=(Checkbox(value=False), Label(value='1NN'), Text(value='{}'))), HBox(children=(Checkbox(value=False), Label(value='KKNN'), Text(value='{}'))), HBox(children=(Checkbox(value=True), Label(value='RF'), Text(value='{}'))), HBox(children=(Checkbox(value=False), Label(value='HYPPO'), Text(value='{}'))), HBox(children=(Checkbox(value=False), Label(value='SBM'), Text(value='{}'))))),), _titles={'0': 'MODICT'})"
      ]
     },
     "metadata": {},
     "output_type": "display_data"
    }
   ],
   "source": [
    "%cd $note_CODE\n",
    "modictac = init_modict_widgets(conf_storage)\n",
    "display(modictac)"
   ]
  },
  {
   "cell_type": "markdown",
   "metadata": {},
   "source": [
    "# Let's go!\n",
    "\n",
    "Now that you've selected all your settings, execute the following code box to run SOMOSPIE"
   ]
  },
  {
   "cell_type": "code",
   "execution_count": 16,
   "metadata": {
    "scrolled": true
   },
   "outputs": [
    {
     "name": "stdout",
     "output_type": "stream",
     "text": [
      "/home/lvalera/SOMOSPIE/data\n",
      "/home/lvalera/SOMOSPIE\n",
      "A .tif is ready for every topography layer.\n",
      "Topography layers stacked.\n",
      "/home/lvalera/SOMOSPIE/code\n"
     ]
    }
   ],
   "source": [
    "# Update configurations.\n",
    "%cd $note_DATA\n",
    "update_regs(reg_acc, conf_storage.args[\"REGIONS\"])\n",
    "%cd $note_START\n",
    "conf_storage.args[\"YEAR\"] = f\"[{sm_widg.value}]\"\n",
    "if sm_widgets.children[0].value == location_data_option[1]:\n",
    "    conf_storage.args[\"SM_FILE\"] = conf_storage.args[\"DATA\"] + f\"/ESA_CCI/{sm_widg.value}_ESA_monthly.rds\"\n",
    "if cd_widgets.children[0].value == location_data_option[1]:\n",
    "    layers = cov_widg.children[0].children\n",
    "    topos = [entry.children[1].value for entry in layers if entry.children[0].value]\n",
    "    topo_file, topo_labels = topo_stack(topos, agg_fact=0.5)\n",
    "    conf_storage.args[\"COV_FILE\"] = conf_storage.args[\"DATA\"] + os.path.relpath(topo_file, start=note_DATA)\n",
    "    conf_storage.args[\"COV_LAYERS\"] = \"['\" + \"','\".join(topo_labels) + \"']\"\n",
    "else:\n",
    "    conf_storage.args[\"COV_LAYERS\"] = cov_widg.value\n",
    "conf_storage.clear_empty_files()\n",
    "conf_storage.updateVars(procs, modictac)\n",
    "\n",
    "# Make important paths absolute.\n",
    "ini = os.path.abspath(ini_export)\n",
    "%cd $note_CODE\n",
    "wrapper = os.path.abspath(\"SOMOSPIE_wrapper.py\")\n",
    "\n",
    "# Run SOMOSPIE, run!\n",
    "bash([wrapper, ini])"
   ]
  },
  {
   "cell_type": "markdown",
   "metadata": {},
   "source": [
    "# Output Visualization and Analysis\n",
    "\n",
    "The following cells can be used to visualize any existing SOMOSPIE output -- where output is a given subfolder in the output directory. The default output is the most recently run job, but can be selected with the following cells."
   ]
  },
  {
   "cell_type": "code",
   "execution_count": null,
   "metadata": {
    "scrolled": false
   },
   "outputs": [],
   "source": [
    "#This creates and displays a folder selection widget which allows navigation of the specified output directory.\n",
    "visualizer = outVis(note_OUT)"
   ]
  },
  {
   "cell_type": "markdown",
   "metadata": {},
   "source": [
    "### Accuracy Analysis\n",
    "\n",
    "The following code block reads the accuracies from the specified output into a Pandas DataFrame, then prints it for human consumption. "
   ]
  },
  {
   "cell_type": "code",
   "execution_count": null,
   "metadata": {},
   "outputs": [],
   "source": [
    "accuracy = gather_analysis(visualizer.vis_target)\n",
    "accuracy"
   ]
  }
 ],
 "metadata": {
  "kernelspec": {
   "display_name": "Python 3",
   "language": "python",
   "name": "python3"
  },
  "language_info": {
   "codemirror_mode": {
    "name": "ipython",
    "version": 3
   },
   "file_extension": ".py",
   "mimetype": "text/x-python",
   "name": "python",
   "nbconvert_exporter": "python",
   "pygments_lexer": "ipython3",
   "version": "3.6.4"
  }
 },
 "nbformat": 4,
 "nbformat_minor": 2
}

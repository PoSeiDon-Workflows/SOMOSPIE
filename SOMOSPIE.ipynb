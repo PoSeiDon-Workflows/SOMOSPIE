{
 "cells": [
  {
   "cell_type": "markdown",
   "metadata": {},
   "source": [
    "# SOMOSPIE\n",
    "## SOil MOisture SPatial Inference Engine\n",
    "\n",
    "### Introduction\n",
    "\n",
    "Soil moisture is a critical variable that links climate dynamics with water and food security. It regulates land-atmosphere interactions (e.g., via evapotranspiration--the loss of water from evaporation and plant transpiration to the atmosphere), and it is directly linked with plant productivity and survival. Information on soil moisture is important to design appropriate irrigation strategies to increase crop yield, and long-term soil moisture coupled with climate information provides insights into trends and potential agricultural thresholds and risks. Thus, information on soil moisture is a key factor to inform and enable precision agriculture.\n",
    "\n",
    "The current availability in soil moisture data over large areas comes from remote sensing (i.e., satellites with radar sensors) which provide daily, nearly global coverage of soil moisture. However, satellite soil moisture datasets have a major shortcoming in that they are limited to coarse spatial resolution (generally no finer than tens of kilometers).\n",
    "\n",
    "There do exist at higher resolution other geographic datasets (e.g., climatic, geological, and topographic) that are intimately related to soil moisture values. SOMOSPIE is meant to be a general-purpose tool for using such datasets to downscale (i.e., increase resolution) satelite-based soil moisture products. This Jupyter Notebook is a result of a collaboration between computer scientists of the Global Computing Laboratory at the Universtiy of Tennessee, Knoxville and soil scientists at the University of Delware (funded by NSF awards #1724843 and #1854312)."
   ]
  },
  {
   "cell_type": "markdown",
   "metadata": {},
   "source": [
    "# Setup\n",
    "\n",
    "Run the following code box to load the libraries and basic functions you will need for this workflow."
   ]
  },
  {
   "cell_type": "code",
   "execution_count": null,
   "metadata": {
    "scrolled": true
   },
   "outputs": [],
   "source": [
    "# This conditional is in case you are rerunning this cell \n",
    "#  after running a different cell that changed the working directory. \n",
    "if 'note_START' in globals():\n",
    "    %cd $note_START\n",
    "else:\n",
    "    note_START = %pwd\n",
    "\n",
    "# If this codebox has an error that says ipywe doesn't exist,\n",
    "#  then uncomment the following and rerun the cell\n",
    "#!make submodules\n",
    "\n",
    "%run -it code/__utils.py\n",
    "\n",
    "from os.path import abspath\n",
    "note_DATA = abspath(SUB_DATA)\n",
    "note_CODE = abspath(SUB_CODE)\n",
    "note_OUT = abspath(SUB_OUTP)"
   ]
  },
  {
   "cell_type": "markdown",
   "metadata": {},
   "source": [
    "Now your environment is setup to run the SOMOSPIE Notebook. \n",
    "In particular, the following are key folders:\n",
    "* `note_START`: The working directory, the folder that contains this .ipynb.\n",
    "* `note_DATA`: The subfolder for data to be loaded and pre-processed.\n",
    "* `note_CODE`: The subfolder where the scripts for SOMOSPIE are held.\n",
    "* `note_OUT`: The subfolder where output from SOMOSPIE will be stored."
   ]
  },
  {
   "cell_type": "markdown",
   "metadata": {},
   "source": [
    "The following code cell initializes SOMOSPIE's configuration handling. Default configurations will be loaded from the filename assigned to `ini_inport`. Any changes to the configuration made with this Notebook will be saved to the filename assigned to `ini_export`."
   ]
  },
  {
   "cell_type": "code",
   "execution_count": null,
   "metadata": {},
   "outputs": [],
   "source": [
    "ini_import = f\"{SUB_CODE}/SOMOSPIE_input.ini\"\n",
    "ini_export = f\"{SUB_CODE}/SOMOSPIE_updated_input.ini\"\n",
    "defaultconf = ConfigParser()\n",
    "defaultconf.read(ini_import)\n",
    "methods = [\"1NN\", \"KKNN\", \"RF\", \"HYPPO\", \"SBM\"]\n",
    "conf_storage = Arg_Handler(ini_export, methods, defaultconf)"
   ]
  },
  {
   "cell_type": "markdown",
   "metadata": {},
   "source": [
    "# Data Loading\n",
    "\n",
    "Now necessary libraries are loaded and the environment is set. Let's load in all the data you need to downscale soil moisture. Later, you can select a subset of the data you load and make other preprocessing decisions.\n",
    "The three data types we need to load are the following:\n",
    "* Soil Moisture--coarse or gappy spatial dataset for which we need a complete dataset, possibly at higher resolution;\n",
    "* Covariate (e.g. topography)--spatial data related to soil moisture, covering all the points where prediction is desired;\n",
    "* Region boundaries--shapefiles bounding the regions for training and prediction.\n",
    "\n",
    "### Soil Moisture Data\n",
    "\n",
    "In the code cell below, specify your source for soil moisture data. The available default data is automatically fetched from ESA-CCI for the range of years you specify to have available for you experiments. Currently, ESA -CCI data can be fetched for the following years: 1979--2017. _Caution! Every year you include takes roughly 25 minutes to download from the ESA website._\n",
    "\n",
    "\n",
    "If you choose to Select Local File with a file you uploaded or Download Remote File from a specified url, then the file _must_ match the following specifications:\n",
    " * Acceptable file formats: .rds, .tif, .csv, .txt, .sdat.\n",
    "   * If rds/tif/sdat, must be stackable in R with stack().\n",
    "   * If csv/txt, but be comma-seperated.\n",
    " * Acceptable data: 14 columns, 2 for coordinates, 12 for soil moisture.\n",
    "   * The first and second columns are longitude and latitude, respectively.\n",
    "   * The final twelve columns are for the twelve months."
   ]
  },
  {
   "cell_type": "code",
   "execution_count": null,
   "metadata": {
    "scrolled": true
   },
   "outputs": [],
   "source": [
    "%cd $note_START\n",
    "sm_widgets = sm_source_widget()"
   ]
  },
  {
   "cell_type": "code",
   "execution_count": null,
   "metadata": {},
   "outputs": [],
   "source": [
    "%cd $note_START\n",
    "sm_widg = SoilMoistureData(sm_widgets)"
   ]
  },
  {
   "cell_type": "markdown",
   "metadata": {},
   "source": [
    "### Covariate Data\n",
    "\n",
    "Satellite-based soil moisture data is coarse and full of spatial gaps, so we use related geospatial data (topography, climate, terrain, etc.) to make predictions at finer resolution. By default SOMOSPIE makes predictions at the native resolution of the covariate data.\n",
    "\n",
    "If you need sample covariate data, we can fetch topographic parameters for you. _Caution! Every layer you select takes a few minutes to download._\n",
    "\n",
    "If you choose to Select Local File with a file you uploaded or Download Remote File from a specified url, then the file _must_ match the following specification:\n",
    " * Spatial file with longitude/latitude coordinates."
   ]
  },
  {
   "cell_type": "code",
   "execution_count": null,
   "metadata": {},
   "outputs": [],
   "source": [
    "%cd $note_START\n",
    "cd_widgets = cd_source_widget()"
   ]
  },
  {
   "cell_type": "code",
   "execution_count": null,
   "metadata": {},
   "outputs": [],
   "source": [
    "%cd $note_START\n",
    "cov_widg = CovariateData(cd_widgets)"
   ]
  },
  {
   "cell_type": "markdown",
   "metadata": {},
   "source": [
    "### Region Data\n",
    "\n",
    "One of the features of SOMOSPIE is region selection. Please select which region types you wish to have available."
   ]
  },
  {
   "cell_type": "code",
   "execution_count": null,
   "metadata": {},
   "outputs": [],
   "source": [
    "%cd $note_START\n",
    "reg_type_acc = reg_type_widget()"
   ]
  },
  {
   "cell_type": "markdown",
   "metadata": {},
   "source": [
    "# Data Selection\n",
    "\n",
    "Now select what subset of the loaded data to use:\n",
    "* Which year of ESA-CCI data do you want to use, or what is the year of the data you provided?\n",
    "* Which topographic layers do you want to use, or what are the layers of the data you provided?\n",
    "* Which regions do you want to use from the region-types specified above?\n",
    "\n",
    "Execute the following code-box to activate the widgets for data selection."
   ]
  },
  {
   "cell_type": "code",
   "execution_count": null,
   "metadata": {
    "scrolled": false
   },
   "outputs": [],
   "source": [
    "%cd $note_START\n",
    "display(sm_widg)\n",
    "display(cov_widg)\n",
    "reg_acc = region_widget(reg_type_acc)"
   ]
  },
  {
   "cell_type": "markdown",
   "metadata": {},
   "source": [
    "# Data Processing Decisions\n",
    "\n",
    "Now we can select what data processing to perform before applying machine-learning methods.\n",
    "\n",
    "Execute the following code-box to activate the data processing decisions."
   ]
  },
  {
   "cell_type": "code",
   "execution_count": null,
   "metadata": {
    "scrolled": false
   },
   "outputs": [],
   "source": [
    "%cd $note_CODE\n",
    "procs = init_proc_widgets(conf_storage)"
   ]
  },
  {
   "cell_type": "markdown",
   "metadata": {},
   "source": [
    "# Machine Learning\n",
    "\n",
    "SOMOSPIE has 5 default methods built in:\n",
    "* 1NN, 1-Nearest Neighbors (Python)\n",
    "  * Models at each evaluation point using the value of the nearest training point.\n",
    "* KKNN, Kernel-wighted K-Nearest Neighbors (R)\n",
    "  * Models locally with a weighted mean of the k nearest training points.\n",
    "* RF, Random Forests (R)\n",
    "  * Models with a weighted sum of global inference trees.\n",
    "* HYPPO, HYbrid Piecewise POlynomial method (Python)\n",
    "  * Models with local best-fit polynomials generated by the k nearest training points. \n",
    "* SBM, Surrogate-Based Modeling (Python)\n",
    "  * Modest with a global best-fit polynomial generated by random samples of training points.\n",
    "\n",
    "Execute the following code-box to activate the widget for selecting machine-learning methods and specifying their parameters. \n",
    "\n",
    "_NOTE: The RHS of this widget is intended to be written as Python-interpretable at time of writing--errors will arise if values such as strings without quotes are passed._"
   ]
  },
  {
   "cell_type": "code",
   "execution_count": null,
   "metadata": {
    "scrolled": true
   },
   "outputs": [],
   "source": [
    "%cd $note_CODE\n",
    "modictac = init_modict_widgets(conf_storage)\n",
    "display(modictac)"
   ]
  },
  {
   "cell_type": "markdown",
   "metadata": {},
   "source": [
    "# Let's go!\n",
    "\n",
    "Now that you've selected all your settings, execute the following code box to run SOMOSPIE"
   ]
  },
  {
   "cell_type": "code",
   "execution_count": null,
   "metadata": {
    "scrolled": false
   },
   "outputs": [],
   "source": [
    "# Update configurations.\n",
    "%cd $note_DATA\n",
    "update_regs(reg_acc, conf_storage.args[\"REGIONS\"])\n",
    "%cd $note_START\n",
    "conf_storage.args[\"YEAR\"] = f\"[{sm_widg.value}]\"\n",
    "if sm_widgets.children[0].value == location_data_option[1]:\n",
    "    conf_storage.args[\"SM_FILE\"] = conf_storage.args[\"DATA\"] + f\"/ESA_CCI/{sm_widg.value}_ESA_monthly.rds\"\n",
    "if cd_widgets.children[0].value == location_data_option[1]:\n",
    "    layers = cov_widg.children[0].children\n",
    "    topos = [entry.children[1].value for entry in layers if entry.children[0].value]\n",
    "    topo_file, topo_labels = topo_stack(topos)#, agg_fact=5)\n",
    "    conf_storage.args[\"COV_FILE\"] = conf_storage.args[\"DATA\"] + os.path.relpath(topo_file, start=note_DATA)\n",
    "    conf_storage.args[\"COV_LAYERS\"] = \"['\" + \"','\".join(topo_labels) + \"']\"\n",
    "else:\n",
    "    conf_storage.args[\"COV_LAYERS\"] = cov_widg.value\n",
    "conf_storage.clear_empty_files()\n",
    "conf_storage.updateVars(procs, modictac)\n",
    "\n",
    "# Make important paths absolute.\n",
    "ini = os.path.abspath(ini_export)\n",
    "%cd $note_CODE\n",
    "wrapper = os.path.abspath(\"SOMOSPIE_wrapper.py\")\n",
    "\n",
    "# Run SOMOSPIE, run!\n",
    "bash([wrapper, ini])"
   ]
  },
  {
   "cell_type": "markdown",
   "metadata": {},
   "source": [
    "# Output Visualization and Analysis\n",
    "\n",
    "The following cells can be used to visualize any existing SOMOSPIE output. The default output is the most recently run job."
   ]
  },
  {
   "cell_type": "code",
   "execution_count": null,
   "metadata": {
    "scrolled": false
   },
   "outputs": [],
   "source": [
    "visualizer = outVis(note_OUT)"
   ]
  },
  {
   "cell_type": "markdown",
   "metadata": {},
   "source": [
    "The following code block reads the accuracies from the above-selected job into a pandas DataFrame."
   ]
  },
  {
   "cell_type": "code",
   "execution_count": null,
   "metadata": {},
   "outputs": [],
   "source": [
    "accuracy = gather_analysis(visualizer.vis_target)\n",
    "accuracy"
   ]
  },
  {
   "cell_type": "code",
   "execution_count": null,
   "metadata": {},
   "outputs": [],
   "source": []
  }
 ],
 "metadata": {
  "kernelspec": {
   "display_name": "Python 3",
   "language": "python",
   "name": "python3"
  },
  "language_info": {
   "codemirror_mode": {
    "name": "ipython",
    "version": 3
   },
   "file_extension": ".py",
   "mimetype": "text/x-python",
   "name": "python",
   "nbconvert_exporter": "python",
   "pygments_lexer": "ipython3",
   "version": "3.7.4"
  }
 },
 "nbformat": 4,
 "nbformat_minor": 2
}
